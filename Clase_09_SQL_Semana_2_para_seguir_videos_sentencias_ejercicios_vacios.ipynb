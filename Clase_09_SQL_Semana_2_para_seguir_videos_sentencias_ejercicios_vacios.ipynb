{
  "nbformat": 4,
  "nbformat_minor": 0,
  "metadata": {
    "colab": {
      "provenance": [],
      "include_colab_link": true
    },
    "kernelspec": {
      "name": "python3",
      "display_name": "Python 3"
    },
    "language_info": {
      "name": "python"
    }
  },
  "cells": [
    {
      "cell_type": "markdown",
      "metadata": {
        "id": "view-in-github",
        "colab_type": "text"
      },
      "source": [
        "<a href=\"https://colab.research.google.com/github/KARENCMP82/SQL/blob/main/Clase_09_SQL_Semana_2_para_seguir_videos_sentencias_ejercicios_vacios.ipynb\" target=\"_parent\"><img src=\"https://colab.research.google.com/assets/colab-badge.svg\" alt=\"Open In Colab\"/></a>"
      ]
    },
    {
      "cell_type": "code",
      "source": [
        "from google.colab import drive\n",
        "drive.mount('/content/drive')\n"
      ],
      "metadata": {
        "id": "uOvCPv-41HbR",
        "colab": {
          "base_uri": "https://localhost:8080/"
        },
        "outputId": "d143f101-1a81-4c81-cb01-3a71e152e240"
      },
      "execution_count": 4,
      "outputs": [
        {
          "output_type": "stream",
          "name": "stdout",
          "text": [
            "Drive already mounted at /content/drive; to attempt to forcibly remount, call drive.mount(\"/content/drive\", force_remount=True).\n"
          ]
        }
      ]
    },
    {
      "cell_type": "code",
      "source": [
        "import sqlite3\n",
        "import pandas as pd"
      ],
      "metadata": {
        "id": "l8Fyg4vODxaj"
      },
      "execution_count": 5,
      "outputs": []
    },
    {
      "cell_type": "markdown",
      "source": [
        "Creamos una nueva base de datos para estos ejercicios"
      ],
      "metadata": {
        "id": "ozCOC4ib187w"
      }
    },
    {
      "cell_type": "code",
      "source": [
        "database = '/content/drive/MyDrive/Colab Notebooks/parte2_ejercicios.db'\n"
      ],
      "metadata": {
        "id": "ZevNvyoHDzM_"
      },
      "execution_count": 6,
      "outputs": []
    },
    {
      "cell_type": "code",
      "source": [
        "import os\n",
        "os.makedirs('/content/drive/MyDrive/Colab Notebooks', exist_ok=True)\n"
      ],
      "metadata": {
        "id": "X2VMG9vCh-Jz"
      },
      "execution_count": 7,
      "outputs": []
    },
    {
      "cell_type": "code",
      "source": [
        "import sqlite3\n",
        "\n",
        "# Ruta a la base de datos\n",
        "database = '/content/drive/MyDrive/Colab Notebooks/parte2_ejercicios.db'\n",
        "\n",
        "# Crear o conectar a la base de datos\n",
        "conexion = sqlite3.connect(database)\n",
        "cursor = conexion.cursor()\n",
        "\n",
        "print(\"Base de datos creada o abierta con éxito.\")\n"
      ],
      "metadata": {
        "colab": {
          "base_uri": "https://localhost:8080/"
        },
        "id": "Cdn6F2E1h_XR",
        "outputId": "09eae543-7605-4d17-f3b4-d898d74ff94f"
      },
      "execution_count": 8,
      "outputs": [
        {
          "output_type": "stream",
          "name": "stdout",
          "text": [
            "Base de datos creada o abierta con éxito.\n"
          ]
        }
      ]
    },
    {
      "cell_type": "code",
      "source": [
        "import os\n",
        "\n",
        "if os.path.exists(database):\n",
        "    print(f\"El archivo '{database}' fue creado exitosamente.\")\n",
        "else:\n",
        "    print(\"Hubo un problema al crear el archivo.\")\n"
      ],
      "metadata": {
        "colab": {
          "base_uri": "https://localhost:8080/"
        },
        "id": "cMD4N64ziBpg",
        "outputId": "5a0ad3c6-90d6-48e1-da0b-a330439e741b"
      },
      "execution_count": 9,
      "outputs": [
        {
          "output_type": "stream",
          "name": "stdout",
          "text": [
            "El archivo '/content/drive/MyDrive/Colab Notebooks/parte2_ejercicios.db' fue creado exitosamente.\n"
          ]
        }
      ]
    },
    {
      "cell_type": "markdown",
      "source": [
        "# Ejercicios prácticos con las sentencias"
      ],
      "metadata": {
        "id": "LMW5mAB8Jrmw"
      }
    },
    {
      "cell_type": "markdown",
      "source": [
        "Vamos a crear una tabla llamada \"vendedores\" cuya estructura de datos sea la siguiente:\n",
        "\n",
        "* id_vendedor: esta columna tendrá que ser un número y se la clave primaria de la tabla.\n",
        "* id_tienda: un número de identificador de tienda donde trabaja ese vendedor. Por defecto el id_tienda deberá ser el 1001.\n",
        "* nombre: Una cadena de caracteres (texto) con el nombre del vendedor. Los valores de esta columna no pueden quedar vacios.\n",
        "* apellido: Una cadena de caracteres (texto) con el apellido del vendedor. Los valores de esta columna no pueden quedar vacios.\n",
        "* salario: un número. Los valores de esta columna no pueden quedar vacios.\n",
        "\n"
      ],
      "metadata": {
        "id": "Q0GQCJY6zuxN"
      }
    },
    {
      "cell_type": "code",
      "source": [
        "query = '''\n",
        "CREATE TABLE vendedores (\n",
        "    id_vendedor INTEGUER PRIMARY KEY,\n",
        "    id_tienda INTEGUER DEFAULT 1001,\n",
        "    nombre VARCHAR(50) not null,\n",
        "    apellido VARCHAR(50) not null,\n",
        "    salario DECIMAL(10, 2) not null\n",
        ");\n",
        "\n",
        "\n",
        " '''\n",
        "\n",
        "cursor.execute(query)\n",
        "conexion.commit()"
      ],
      "metadata": {
        "id": "GwXEFJ7c1rmZ"
      },
      "execution_count": 10,
      "outputs": []
    },
    {
      "cell_type": "markdown",
      "source": [
        "Vamos a insertar 3 vendedores en la tabla vendores:\n",
        "\n",
        "* Id de vendedor 100001, id de tienda 1002, llamado FRANCISCO MARRON y con un salario de 15000 anuales.\n",
        "* Siguiente id de vendedor, mismo id de tienda, llamada SUSANA ROMERO con un salario de 20000 anuales.\n",
        "* Siguiente id de vendedor, id de tienda 1005, llamada ANTONIA CASTO con un salario de 20000 anuales."
      ],
      "metadata": {
        "id": "tQLZ_ubb2FWc"
      }
    },
    {
      "cell_type": "code",
      "metadata": {
        "id": "dFKT6ezZYq8f"
      },
      "source": [
        "query = '''\n",
        "INSERT INTO vendedores (id_vendedor, id_tienda, nombre, apellido, salario)\n",
        "VALUES\n",
        "(100001, 1002, 'Francisco', 'Marron', 15000),\n",
        "(100002, 1002, 'Susana', 'Romero', 20000),\n",
        "(100003, 1005, 'Antonia', 'Casto', 20000);\n",
        "'''\n",
        "\n",
        "cursor.execute(query)\n",
        "conexion.commit()\n",
        "\n"
      ],
      "execution_count": 13,
      "outputs": []
    },
    {
      "cell_type": "markdown",
      "source": [
        "Ahora vamos a crear una segunda tabla de vendedores (llamada vendedores_2) con los mismos valores y misma estructura de la tabla vendedores pero omitiendo al vendedor 100001, FRANCISCO MARRON."
      ],
      "metadata": {
        "id": "UFKSCpM93a47"
      }
    },
    {
      "cell_type": "code",
      "source": [
        "query = '''\n",
        "CREATE TABLE vendedores2 AS\n",
        "SELECT * FROM vendedores where id_vendedor<>100001\n",
        "\n",
        "\n",
        "\n",
        " '''\n",
        "\n",
        "cursor.execute(query)\n",
        "conexion.commit()"
      ],
      "metadata": {
        "id": "GvI-4jipOTVk"
      },
      "execution_count": 17,
      "outputs": []
    },
    {
      "cell_type": "code",
      "source": [
        "query = '''\n",
        "select * from  vendedores2\n",
        "\n",
        " '''\n",
        "\n",
        "cursor.execute(query)\n",
        "# Leer los datos en un DataFrame de pandas\n",
        "data = pd.read_sql_query(query, conexion)\n",
        "\n",
        "# Mostrar los datos\n",
        "print(data)\n",
        "conexion.commit()"
      ],
      "metadata": {
        "id": "LuYfyoAW3wMj",
        "colab": {
          "base_uri": "https://localhost:8080/"
        },
        "outputId": "ec95852c-3afc-4ef4-ff94-35c8d42452fb"
      },
      "execution_count": 27,
      "outputs": [
        {
          "output_type": "stream",
          "name": "stdout",
          "text": [
            "   id_vendedor  id_tienda     nombre apellido  salario\n",
            "0       100002       1002     Susana   Romero    20000\n",
            "1       100003       1005    Antonia    Casto    20000\n",
            "2       100001       1002  Francisco   Marron    15000\n"
          ]
        }
      ]
    },
    {
      "cell_type": "markdown",
      "source": [
        "Ahora que tenemos la tabla vendedores y la tabla vendedores_2, vamos a insertar en la tabla vendedores_2 el vendedor FRANCISCO MARRON que habiamos omitido, pero vamos a utilizar diréctamente los datos de la tabla vendedores en vez de insertar uno a uno los datos necesarios."
      ],
      "metadata": {
        "id": "Hfz1BrFC4oCX"
      }
    },
    {
      "cell_type": "code",
      "source": [
        "query = '''\n",
        "INSERT INTO vendedores2 (id_vendedor, id_tienda, nombre, apellido, salario)\n",
        "SELECT id_vendedor, id_tienda, nombre, apellido, salario\n",
        "FROM vendedores\n",
        "WHERE id_vendedor = 100001;\n",
        "\n",
        "\n",
        "\n",
        "\n",
        " '''\n",
        "\n",
        "cursor.execute(query)\n",
        "conexion.commit()"
      ],
      "metadata": {
        "id": "9pAvZm9Z470C"
      },
      "execution_count": 24,
      "outputs": []
    },
    {
      "cell_type": "markdown",
      "source": [
        "Ahora vamos a insertar 2 vendedores mas en la tabla vendedores, dejando vacio el id_vendedor y el id_tienda\n",
        "* ADRIAN HERNANDEZ, 30000 euros anuales\n",
        "* EDGAR ROBERTSON, 50000 euros anuales."
      ],
      "metadata": {
        "id": "ZeogBCj7HtzY"
      }
    },
    {
      "cell_type": "code",
      "metadata": {
        "id": "gRSU9lhhNO-E"
      },
      "source": [
        "query = '''\n",
        "INSERT INTO vendedores ( nombre, apellido, salario)\n",
        "VALUES\n",
        "( 'Adrian', 'Hernandez', 30000),\n",
        "( 'Edgar', 'Robertson', 50000);\n",
        "\n",
        "\n",
        "\n",
        "\n",
        "'''\n",
        "\n",
        "cursor.execute(query)\n",
        "conexion.commit()\n"
      ],
      "execution_count": 39,
      "outputs": []
    },
    {
      "cell_type": "code",
      "source": [
        "query = '''\n",
        "select * from  vendedores\n",
        "\n",
        " '''\n",
        "\n",
        "cursor.execute(query)\n",
        "# Leer los datos en un DataFrame de pandas\n",
        "data = pd.read_sql_query(query, conexion)\n",
        "\n",
        "# Mostrar los datos\n",
        "print(data)\n",
        "conexion.commit()"
      ],
      "metadata": {
        "id": "WcY0k2oD30_c",
        "colab": {
          "base_uri": "https://localhost:8080/"
        },
        "outputId": "8b79d888-10b8-47c1-b283-ff7e42d3e0ea"
      },
      "execution_count": 46,
      "outputs": [
        {
          "output_type": "stream",
          "name": "stdout",
          "text": [
            "   id_vendedor  id_tienda   nombre   apellido  salario\n",
            "0     100003.0       1005  Antonia      Casto    20000\n",
            "1          NaN       1001   Adrian  Hernandez    30000\n"
          ]
        }
      ]
    },
    {
      "cell_type": "markdown",
      "source": [
        "Ahora borraremos los vendedores que tengan salario menor a 20000 y vendedores cuyo apellido comiencen con R."
      ],
      "metadata": {
        "id": "N-9KqxtUBfBR"
      }
    },
    {
      "cell_type": "code",
      "metadata": {
        "id": "PWvIo65cO3Zp"
      },
      "source": [
        "query = '''\n",
        "DELETE FROM vendedores WHERE salario<20000 OR apellido like 'R%';\n",
        "\n",
        "\n",
        "\n",
        " '''\n",
        "\n",
        "cursor.execute(query)\n",
        "conexion.commit()"
      ],
      "execution_count": 45,
      "outputs": []
    },
    {
      "cell_type": "markdown",
      "source": [
        "Vamos a crear la tabla \"clientes\" tal cual veníamos creándola anteriormente:\n",
        "\n",
        "* id_cliente: in número entero. Tiene que ser clave primaria.\n",
        "* nombre: un texto. No puede aceptar valores nulos.\n",
        "* apellido: un texto. No puede aceptar valores nulos..\n",
        "* edad: un número. No puede aceptar valores menor a 18 años.\n",
        "* provincia: un texto. No puede aceptar valores nulos.\n",
        "* fecha_alta: un texto. No puede aceptar valores nulos."
      ],
      "metadata": {
        "id": "SqEt0sRjCHsU"
      }
    },
    {
      "cell_type": "code",
      "source": [
        "query = '''\n",
        "CREATE TABLE clientes (\n",
        "    id_cliente INTEGER PRIMARY KEY,\n",
        "    nombre VARCHAR(50) NOT NULL,\n",
        "    apellido VARCHAR(50) NOT NULL,\n",
        "    edad INTEGER CHECK(edad > 18),\n",
        "    provincia VARCHAR(50) NOT NULL,\n",
        "    fecha_alta VARCHAR(50) NOT NULL\n",
        ");\n",
        "\n",
        "\n",
        "'''\n",
        "\n",
        "cursor.execute(query)\n",
        "conexion.commit()"
      ],
      "metadata": {
        "id": "UjAZpqDpDOdy"
      },
      "execution_count": 48,
      "outputs": []
    },
    {
      "cell_type": "markdown",
      "source": [
        "Insertamos datos en la nueva tabla clientes utilizando los valores listados en la próxima celda. Simplemente completar la consulta con las partes que faltan de la sentencia INSERT."
      ],
      "metadata": {
        "id": "7Si1L8PiDsYF"
      }
    },
    {
      "cell_type": "code",
      "source": [
        "\n",
        "query = '''\n",
        "INSERT INTO clientes ( id_cliente, nombre, apellido,edad,provincia,fecha_alta  )\n",
        "VALUES\n",
        "\n",
        "(100002,\t'ALVARO',\t'TORRES',\t46,\t'Salta',\t'2021-03-03'),\n",
        "(100003,\t'ANA',\t'GONZÁLEZ',\t40,\t'Jujuy',\t'2021-11-02'),\n",
        "(100004,\t'ANDREA',\t'NAVARRO',\t35,\t'Córdoba',\t'2021-04-21'),\n",
        "(100005,\t'CRISTINA',\t'SALINAS',\t46,\t'Córdoba',\t'2021-04-21'),\n",
        "(100006,\t'DANIEL',\t'SETIÉN',\t43,\t'Buenos Aires',\t'2021-04-21'),\n",
        "(100007,\t'DAVID',\t'CRUZ',\t46,\t'La Pampa',\t'2021-04-13'),\n",
        "(100008,\t'DIEGO',\t'GARCÍA',\t25,\t'La Rioja',\t'2021-04-21'),\n",
        "(100009,\t'IRENE',\t'GAS',\t27,\t'Salta',\t'2021-04-21'),\n",
        "(100010,\t'JAVIER',\t'GÓMEZ',\t40,\t'Córdoba',\t'2021-04-13'),\n",
        "(100011,\t'JORGE',\t'CURIEL',\t39,\t'Buenos Aires',\t'2021-04-21'),\n",
        "(100012,\t'LAURA',\t'VERDUZCO',\t39,\t'Buenos Aires',\t'2021-04-21'),\n",
        "(100013,\t'MARIA',\t'VARELA',\t24,\t'Buenos Aires',\t'2021-03-20'),\n",
        "(100014,\t'MARTA',\t'ROSAS',\t43,\t'Córdoba',\t'2021-04-20'),\n",
        "(100015,\t'MIGUEL',\t'VALDÉS',\t34,\t'Salta',\t'2021-03-24'),\n",
        "(100016,\t'PABLO',\t'VANEGAS',\t39,\t'Jujuy',\t'2021-02-25'),\n",
        "(100017,\t'PAULA',\t'VIVEROS',\t37,\t'Misiones',\t'2021-03-03')\n",
        "\n",
        "'''\n",
        "\n",
        "cursor.execute(query)\n",
        "conexion.commit()"
      ],
      "metadata": {
        "id": "Q358nkQX5RYl"
      },
      "execution_count": 50,
      "outputs": []
    },
    {
      "cell_type": "code",
      "source": [
        "query = '''\n",
        "select * from  vendedores\n",
        "\n",
        " '''\n",
        "\n",
        "cursor.execute(query)\n",
        "# Leer los datos en un DataFrame de pandas\n",
        "data = pd.read_sql_query(query, conexion)\n",
        "\n",
        "# Mostrar los datos\n",
        "print(data)\n",
        "conexion.commit()"
      ],
      "metadata": {
        "colab": {
          "base_uri": "https://localhost:8080/"
        },
        "id": "4swaweT3rNZT",
        "outputId": "9d0c2e44-2997-41e8-ea2d-4ed488611d6b"
      },
      "execution_count": 72,
      "outputs": [
        {
          "output_type": "stream",
          "name": "stdout",
          "text": [
            "   id_vendedor  id_tienda   nombre   apellido  salario  salario_total  \\\n",
            "0     100003.0       1005  Antonia      Casto    20000          25000   \n",
            "1          NaN       1001   Adrian  Hernandez    30000              0   \n",
            "\n",
            "   bono_anual  \n",
            "0        5000  \n",
            "1           0  \n"
          ]
        }
      ]
    },
    {
      "cell_type": "markdown",
      "source": [
        "Ahora vamos a modificar en la tabla clientes todos los valores que digan 'Buenos Aires' por su abreviación 'BSAS'"
      ],
      "metadata": {
        "id": "5bdxNj4l4Pyt"
      }
    },
    {
      "cell_type": "code",
      "metadata": {
        "id": "KS1q2ipANO4p"
      },
      "source": [
        "query = '''\n",
        "UPDATE clientes\n",
        "SET provincia = 'BSAS'\n",
        "WHERE provincia = 'Buenos Aires';\n",
        "\n",
        "\n",
        "\n",
        "\n",
        " '''\n",
        "\n",
        "cursor.execute(query)\n",
        "conexion.commit()\n"
      ],
      "execution_count": 54,
      "outputs": []
    },
    {
      "cell_type": "markdown",
      "source": [
        "Crear nueva columna llamada bono_anual q sera un num q por defecto sea 0 y una columna salario_total q por defecto sea 0 no puede ser nula\n"
      ],
      "metadata": {
        "id": "XjK9CieltCwz"
      }
    },
    {
      "cell_type": "code",
      "source": [
        "query = '''\n",
        "ALTER TABLE vendedores\n",
        "ADD COLUMN salario_total INTEGER DEFAULT 0 NOT NULL;\n",
        "'''\n",
        "query2 = '''\n",
        "ALTER TABLE vendedores\n",
        "ADD COLUMN bono_anual INTEGER DEFAULT 0 NOT NULL;\n",
        "'''\n",
        "\n",
        "cursor.execute(query)\n",
        "cursor.execute(query2)\n",
        "conexion.commit()\n"
      ],
      "metadata": {
        "id": "6zKII2yitPqS"
      },
      "execution_count": 66,
      "outputs": []
    },
    {
      "cell_type": "markdown",
      "source": [
        "A esa tabla de vendedores ahora les vamos a actualizar el bono_anual y el salario_total con dos sentencias UPDATE. Únicamente ANTONIA CASTRO recibirá el bono de 5000 euros."
      ],
      "metadata": {
        "id": "MAaxRkZNG3vX"
      }
    },
    {
      "cell_type": "code",
      "source": [
        "query = '''\n",
        "\n",
        "UPDATE vendedores\n",
        "SET bono_anual = 5000\n",
        "WHERE nombre = 'Antonia';\n",
        "\n",
        "\n",
        "\n",
        " '''\n",
        "\n",
        "cursor.execute(query)\n",
        "conexion.commit()"
      ],
      "metadata": {
        "id": "6J8CuGZPHDAg"
      },
      "execution_count": 68,
      "outputs": []
    },
    {
      "cell_type": "code",
      "source": [
        "query = '''\n",
        "UPDATE vendedores\n",
        "SET salario_total = bono_anual+salario\n",
        "WHERE nombre = 'Antonia';\n",
        "\n",
        "\n",
        "\n",
        " '''\n",
        "\n",
        "cursor.execute(query)\n",
        "conexion.commit()"
      ],
      "metadata": {
        "id": "emtSezt7Hqu3"
      },
      "execution_count": 71,
      "outputs": []
    },
    {
      "cell_type": "code",
      "source": [
        "query = '''\n",
        "\n",
        "\n",
        "\n",
        "\n",
        " '''\n",
        "\n",
        "cursor.execute(query)\n",
        "conexion.commit()\n",
        "cols = [description[0] for description in cursor.description]\n",
        "pd.DataFrame(cursor.fetchall(), columns=cols)"
      ],
      "metadata": {
        "id": "w7lY-vwRHnBD"
      },
      "execution_count": null,
      "outputs": []
    },
    {
      "cell_type": "markdown",
      "source": [
        "Ahora vamos a borrar las columnas edad y fecha_alta de la tabla clientes.\n"
      ],
      "metadata": {
        "id": "4H-fxLahGlxt"
      }
    },
    {
      "cell_type": "code",
      "source": [
        "query = '''\n",
        "\n",
        "\n",
        " '''\n",
        "\n",
        "cursor.execute(query)\n",
        "conexion.commit()"
      ],
      "metadata": {
        "id": "JJ4NNf9BGvT9"
      },
      "execution_count": null,
      "outputs": []
    },
    {
      "cell_type": "code",
      "source": [
        "query = '''\n",
        "\n",
        " '''\n",
        "\n",
        "cursor.execute(query)\n",
        "conexion.commit()"
      ],
      "metadata": {
        "id": "hK9rWu9VH7uy"
      },
      "execution_count": null,
      "outputs": []
    },
    {
      "cell_type": "code",
      "source": [
        "query = '''\n",
        "\n",
        "\n",
        "\n",
        "\n",
        " '''\n",
        "\n",
        "cursor.execute(query)\n",
        "conexion.commit()\n",
        "cols = [description[0] for description in cursor.description]\n",
        "pd.DataFrame(cursor.fetchall(), columns=cols)"
      ],
      "metadata": {
        "id": "nDJ2L60sSMBk"
      },
      "execution_count": null,
      "outputs": []
    },
    {
      "cell_type": "markdown",
      "metadata": {
        "id": "YKWeZvTWg7Ee"
      },
      "source": [
        "Finalmente vamos a borrar completamente las tablas cliente y vendedores de nuestra base de datos utilizando en la sentencia IF EXISTS para evitar errores si la tabla no existe."
      ]
    },
    {
      "cell_type": "code",
      "source": [
        "query = '''\n",
        "\n",
        "\n",
        "\n",
        " '''\n",
        "\n",
        "cursor.execute(query)\n",
        "conexion.commit()"
      ],
      "metadata": {
        "id": "NfumcMCPISN5"
      },
      "execution_count": null,
      "outputs": []
    },
    {
      "cell_type": "code",
      "metadata": {
        "id": "WRDvs9u2YrAE"
      },
      "source": [
        "query = '''\n",
        "\n",
        "\n",
        "\n",
        " '''\n",
        "\n",
        "cursor.execute(query)\n",
        "conexion.commit()"
      ],
      "execution_count": null,
      "outputs": []
    },
    {
      "cell_type": "code",
      "source": [],
      "metadata": {
        "id": "UyLZQ-F0SZPS"
      },
      "execution_count": null,
      "outputs": []
    }
  ]
}