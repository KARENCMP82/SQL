{
  "nbformat": 4,
  "nbformat_minor": 0,
  "metadata": {
    "colab": {
      "provenance": [],
      "include_colab_link": true
    },
    "kernelspec": {
      "name": "python3",
      "display_name": "Python 3"
    },
    "language_info": {
      "name": "python"
    }
  },
  "cells": [
    {
      "cell_type": "markdown",
      "metadata": {
        "id": "view-in-github",
        "colab_type": "text"
      },
      "source": [
        "<a href=\"https://colab.research.google.com/github/KARENCMP82/SQL/blob/main/SQL_Semana_2_para_seguir_los_videos_sentencias.ipynb\" target=\"_parent\"><img src=\"https://colab.research.google.com/assets/colab-badge.svg\" alt=\"Open In Colab\"/></a>"
      ]
    },
    {
      "cell_type": "code",
      "source": [
        "#from google.colab import drive\n",
        "#drive.mount('/content/drive', force_remount=True)\n",
        "#https://sqliteviewer.flowsoft7.com/\n",
        "from google.colab import files\n",
        "load=files.upload()"
      ],
      "metadata": {
        "id": "uOvCPv-41HbR",
        "colab": {
          "base_uri": "https://localhost:8080/",
          "height": 73
        },
        "outputId": "baad7d47-03c4-43fb-e6fc-67ff4d070273"
      },
      "execution_count": 26,
      "outputs": [
        {
          "output_type": "display_data",
          "data": {
            "text/plain": [
              "<IPython.core.display.HTML object>"
            ],
            "text/html": [
              "\n",
              "     <input type=\"file\" id=\"files-3e2e21b5-58a4-4a72-8c87-a5eaaf473de8\" name=\"files[]\" multiple disabled\n",
              "        style=\"border:none\" />\n",
              "     <output id=\"result-3e2e21b5-58a4-4a72-8c87-a5eaaf473de8\">\n",
              "      Upload widget is only available when the cell has been executed in the\n",
              "      current browser session. Please rerun this cell to enable.\n",
              "      </output>\n",
              "      <script>// Copyright 2017 Google LLC\n",
              "//\n",
              "// Licensed under the Apache License, Version 2.0 (the \"License\");\n",
              "// you may not use this file except in compliance with the License.\n",
              "// You may obtain a copy of the License at\n",
              "//\n",
              "//      http://www.apache.org/licenses/LICENSE-2.0\n",
              "//\n",
              "// Unless required by applicable law or agreed to in writing, software\n",
              "// distributed under the License is distributed on an \"AS IS\" BASIS,\n",
              "// WITHOUT WARRANTIES OR CONDITIONS OF ANY KIND, either express or implied.\n",
              "// See the License for the specific language governing permissions and\n",
              "// limitations under the License.\n",
              "\n",
              "/**\n",
              " * @fileoverview Helpers for google.colab Python module.\n",
              " */\n",
              "(function(scope) {\n",
              "function span(text, styleAttributes = {}) {\n",
              "  const element = document.createElement('span');\n",
              "  element.textContent = text;\n",
              "  for (const key of Object.keys(styleAttributes)) {\n",
              "    element.style[key] = styleAttributes[key];\n",
              "  }\n",
              "  return element;\n",
              "}\n",
              "\n",
              "// Max number of bytes which will be uploaded at a time.\n",
              "const MAX_PAYLOAD_SIZE = 100 * 1024;\n",
              "\n",
              "function _uploadFiles(inputId, outputId) {\n",
              "  const steps = uploadFilesStep(inputId, outputId);\n",
              "  const outputElement = document.getElementById(outputId);\n",
              "  // Cache steps on the outputElement to make it available for the next call\n",
              "  // to uploadFilesContinue from Python.\n",
              "  outputElement.steps = steps;\n",
              "\n",
              "  return _uploadFilesContinue(outputId);\n",
              "}\n",
              "\n",
              "// This is roughly an async generator (not supported in the browser yet),\n",
              "// where there are multiple asynchronous steps and the Python side is going\n",
              "// to poll for completion of each step.\n",
              "// This uses a Promise to block the python side on completion of each step,\n",
              "// then passes the result of the previous step as the input to the next step.\n",
              "function _uploadFilesContinue(outputId) {\n",
              "  const outputElement = document.getElementById(outputId);\n",
              "  const steps = outputElement.steps;\n",
              "\n",
              "  const next = steps.next(outputElement.lastPromiseValue);\n",
              "  return Promise.resolve(next.value.promise).then((value) => {\n",
              "    // Cache the last promise value to make it available to the next\n",
              "    // step of the generator.\n",
              "    outputElement.lastPromiseValue = value;\n",
              "    return next.value.response;\n",
              "  });\n",
              "}\n",
              "\n",
              "/**\n",
              " * Generator function which is called between each async step of the upload\n",
              " * process.\n",
              " * @param {string} inputId Element ID of the input file picker element.\n",
              " * @param {string} outputId Element ID of the output display.\n",
              " * @return {!Iterable<!Object>} Iterable of next steps.\n",
              " */\n",
              "function* uploadFilesStep(inputId, outputId) {\n",
              "  const inputElement = document.getElementById(inputId);\n",
              "  inputElement.disabled = false;\n",
              "\n",
              "  const outputElement = document.getElementById(outputId);\n",
              "  outputElement.innerHTML = '';\n",
              "\n",
              "  const pickedPromise = new Promise((resolve) => {\n",
              "    inputElement.addEventListener('change', (e) => {\n",
              "      resolve(e.target.files);\n",
              "    });\n",
              "  });\n",
              "\n",
              "  const cancel = document.createElement('button');\n",
              "  inputElement.parentElement.appendChild(cancel);\n",
              "  cancel.textContent = 'Cancel upload';\n",
              "  const cancelPromise = new Promise((resolve) => {\n",
              "    cancel.onclick = () => {\n",
              "      resolve(null);\n",
              "    };\n",
              "  });\n",
              "\n",
              "  // Wait for the user to pick the files.\n",
              "  const files = yield {\n",
              "    promise: Promise.race([pickedPromise, cancelPromise]),\n",
              "    response: {\n",
              "      action: 'starting',\n",
              "    }\n",
              "  };\n",
              "\n",
              "  cancel.remove();\n",
              "\n",
              "  // Disable the input element since further picks are not allowed.\n",
              "  inputElement.disabled = true;\n",
              "\n",
              "  if (!files) {\n",
              "    return {\n",
              "      response: {\n",
              "        action: 'complete',\n",
              "      }\n",
              "    };\n",
              "  }\n",
              "\n",
              "  for (const file of files) {\n",
              "    const li = document.createElement('li');\n",
              "    li.append(span(file.name, {fontWeight: 'bold'}));\n",
              "    li.append(span(\n",
              "        `(${file.type || 'n/a'}) - ${file.size} bytes, ` +\n",
              "        `last modified: ${\n",
              "            file.lastModifiedDate ? file.lastModifiedDate.toLocaleDateString() :\n",
              "                                    'n/a'} - `));\n",
              "    const percent = span('0% done');\n",
              "    li.appendChild(percent);\n",
              "\n",
              "    outputElement.appendChild(li);\n",
              "\n",
              "    const fileDataPromise = new Promise((resolve) => {\n",
              "      const reader = new FileReader();\n",
              "      reader.onload = (e) => {\n",
              "        resolve(e.target.result);\n",
              "      };\n",
              "      reader.readAsArrayBuffer(file);\n",
              "    });\n",
              "    // Wait for the data to be ready.\n",
              "    let fileData = yield {\n",
              "      promise: fileDataPromise,\n",
              "      response: {\n",
              "        action: 'continue',\n",
              "      }\n",
              "    };\n",
              "\n",
              "    // Use a chunked sending to avoid message size limits. See b/62115660.\n",
              "    let position = 0;\n",
              "    do {\n",
              "      const length = Math.min(fileData.byteLength - position, MAX_PAYLOAD_SIZE);\n",
              "      const chunk = new Uint8Array(fileData, position, length);\n",
              "      position += length;\n",
              "\n",
              "      const base64 = btoa(String.fromCharCode.apply(null, chunk));\n",
              "      yield {\n",
              "        response: {\n",
              "          action: 'append',\n",
              "          file: file.name,\n",
              "          data: base64,\n",
              "        },\n",
              "      };\n",
              "\n",
              "      let percentDone = fileData.byteLength === 0 ?\n",
              "          100 :\n",
              "          Math.round((position / fileData.byteLength) * 100);\n",
              "      percent.textContent = `${percentDone}% done`;\n",
              "\n",
              "    } while (position < fileData.byteLength);\n",
              "  }\n",
              "\n",
              "  // All done.\n",
              "  yield {\n",
              "    response: {\n",
              "      action: 'complete',\n",
              "    }\n",
              "  };\n",
              "}\n",
              "\n",
              "scope.google = scope.google || {};\n",
              "scope.google.colab = scope.google.colab || {};\n",
              "scope.google.colab._files = {\n",
              "  _uploadFiles,\n",
              "  _uploadFilesContinue,\n",
              "};\n",
              "})(self);\n",
              "</script> "
            ]
          },
          "metadata": {}
        },
        {
          "output_type": "stream",
          "name": "stdout",
          "text": [
            "Saving parte2.db to parte2.db\n"
          ]
        }
      ]
    },
    {
      "cell_type": "code",
      "source": [
        "import sqlite3\n",
        "import pandas as pd\n",
        "\n",
        "# Conexión a la base de datos SQLite\n",
        "conexion = sqlite3.connect('parte2.db')\n",
        "\n",
        "# Consulta SQL\n",
        "query = \"SELECT * FROM clientes_b;\"\n",
        "\n",
        "# Leer los datos en un DataFrame de pandas\n",
        "data = pd.read_sql_query(query, conexion)\n",
        "\n",
        "# Mostrar los primeros registros\n",
        "print(data.head())\n",
        "\n",
        "# Cerrar la conexión\n",
        "conexion.close()\n"
      ],
      "metadata": {
        "id": "Ktr5zNFnDryk",
        "colab": {
          "base_uri": "https://localhost:8080/"
        },
        "outputId": "c94d4d27-ed61-4e8d-ca52-b1683e800c76"
      },
      "execution_count": 27,
      "outputs": [
        {
          "output_type": "stream",
          "name": "stdout",
          "text": [
            "   id_cliente nombre apellido  edad provincia  fecha_alta\n",
            "0      100017  PAULA  VIVEROS    37  Misiones  2021-03-03\n",
            "1      100018  RAMON   TELLES    35  Misiones  2021-03-20\n"
          ]
        }
      ]
    },
    {
      "cell_type": "markdown",
      "source": [
        "# TIPOS DE SENTENCIAS SQL"
      ],
      "metadata": {
        "id": "klxe9UubIlmQ"
      }
    },
    {
      "cell_type": "markdown",
      "source": [
        "\n",
        "\n",
        "![image.png](data:image/png;base64,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)"
      ],
      "metadata": {
        "id": "UJmP9Qf9DM9F"
      }
    },
    {
      "cell_type": "markdown",
      "source": [
        "# Importante\n",
        "\n",
        "Es importante entender que de todas las sentencias que estamos viendo en este curso, unicamente SELECT devuelve una salida de datos. Es decir que enviamos una orden al servidor y el servidor nos enviará de vuelta los datos para que los visualicemos.\n",
        "\n",
        "Es por ello que en el código Python que envuelve la sentencia de SQL introducimos las dos últimas líneas de código:\n",
        "\n",
        "\n",
        "\n",
        "* cols = [description[0] for description in cursor.description]\n",
        "\n",
        "* pd.DataFrame(cursor.fetchall(), columns=cols)\n",
        "\n",
        "\n",
        "\n",
        "Únicamente utilizaremos esas dos líneas de código cuando intentemos recuperar información.\n",
        "\n",
        "Para todas las demás sentencias omitiremos esas dos líneas de código, utilizando el resto del código python."
      ],
      "metadata": {
        "id": "YflyQpwEJOR0"
      }
    },
    {
      "cell_type": "markdown",
      "source": [
        "# Sentencias de manipulación de datos"
      ],
      "metadata": {
        "id": "LMW5mAB8Jrmw"
      }
    },
    {
      "cell_type": "markdown",
      "metadata": {
        "id": "JQ6rBhoZUTVP"
      },
      "source": [
        "## La sentencia SELECT\n",
        "\n",
        "Recupera datos de una base de datos."
      ]
    },
    {
      "cell_type": "code",
      "metadata": {
        "id": "dFKT6ezZYq8f"
      },
      "source": [
        "query = '''\n",
        "\n",
        "SELECT (listado de identificadores de columnas, constantes o funciones, todo separado por comas)\n",
        "\n",
        "FROM (tabla principal)\n",
        "\n",
        "JOIN (tabla vinculada)\n",
        "\n",
        "WHERE (una o mas expresiones conformadas por identificadores, constantes y operadores)\n",
        "\n",
        "GROUP BY (listado de identificadores de columnas o funciones cuyos valores conformaran los grupos)\n",
        "\n",
        "HAVING (una o mas expresiones conformadas por identificadores, constantes y operadores)\n",
        "\n",
        "ORDER BY (listado de identificadores de columnas o funciones cuyos valores serán ordenados)\n",
        ";\n",
        "\n",
        " '''"
      ],
      "execution_count": 28,
      "outputs": []
    },
    {
      "cell_type": "markdown",
      "metadata": {
        "id": "42uHVctz6Ce-"
      },
      "source": [
        "## Sentencia INSERT\n",
        "\n",
        "Esta sentencia es utilizada para insertar filas de datos a las tablas existentes.\n"
      ]
    },
    {
      "cell_type": "code",
      "source": [
        "import sqlite3\n",
        "import pandas as pd\n",
        "\n",
        "# Conexión a la base de datos SQLite\n",
        "conexion = sqlite3.connect('parte2.db')\n",
        "\n",
        "# Consulta SQL\n",
        "query = \"SELECT * FROM clientes;\"\n",
        "\n",
        "# Leer los datos en un DataFrame de pandas\n",
        "data = pd.read_sql_query(query, conexion)\n",
        "\n",
        "# Mostrar los primeros registros\n",
        "print(data)\n",
        "\n",
        "# Cerrar la conexión\n",
        "conexion.close()"
      ],
      "metadata": {
        "id": "I9IK5_ztQMQg",
        "colab": {
          "base_uri": "https://localhost:8080/"
        },
        "outputId": "07221cdd-1fa3-4806-f11f-b09694fd43d8"
      },
      "execution_count": 68,
      "outputs": [
        {
          "output_type": "stream",
          "name": "stdout",
          "text": [
            "    id_cliente    nombre   apellido  edad     provincia  fecha_alta\n",
            "0            1      None      PEREZ    50         CHACO  2021-04-25\n",
            "1            2      None    SANCHEZ    51      MISIONES  2021-04-25\n",
            "2       100000    ALVARO     TORRES    46         Salta  2021-03-03\n",
            "3       100001    ADRIAN  HERNANDEZ    35      LA RIOJA  2021-03-03\n",
            "4       100002     KAREN      VEGAS    10        MALAGA  2021-03-24\n",
            "5       100003       ANA   GONZÁLEZ    40         Jujuy  2021-11-02\n",
            "6       100004    ANDREA    NAVARRO    35       Córdoba  2021-04-21\n",
            "7       100005  CRISTINA    SALINAS    46       Córdoba  2021-04-21\n",
            "8       100006    DANIEL     SETIÉN    43  Buenos Aires  2021-04-21\n",
            "9       100007     DAVID       CRUZ    46      La Pampa  2021-04-13\n",
            "10      100008     DIEGO     GARCÍA    25      La Rioja  2021-04-21\n",
            "11      100009     IRENE        GAS    27         Salta  2021-04-21\n",
            "12      100010    JAVIER      GÓMEZ    40       Córdoba  2021-04-13\n",
            "13      100011     JORGE     CURIEL    39  Buenos Aires  2021-04-21\n",
            "14      100012     LAURA   VERDUZCO    39  Buenos Aires  2021-04-21\n",
            "15      100013     MARIA     VARELA    24  Buenos Aires  2021-03-20\n",
            "16      100014     MARTA      ROSAS    43       Córdoba  2021-04-20\n",
            "17      100017     PAULA    VIVEROS    37      Misiones  2021-03-03\n",
            "18      100018     RAMON     TELLES    35      Misiones  2021-03-20\n",
            "19      100019      None      PEREZ    50         CHACO  2021-04-25\n",
            "20      100020      None    SANCHEZ    51      MISIONES  2021-04-25\n"
          ]
        }
      ]
    },
    {
      "cell_type": "markdown",
      "source": [
        "Podemos insertar datos sin especificar a qué columnas se los estamos insertando siempre y cuando no omitamos ninguna columna y los datos se inserten en orden."
      ],
      "metadata": {
        "id": "ZeogBCj7HtzY"
      }
    },
    {
      "cell_type": "code",
      "metadata": {
        "id": "gRSU9lhhNO-E",
        "colab": {
          "base_uri": "https://localhost:8080/"
        },
        "outputId": "d3f748cd-5892-4345-a600-76c252338a0f"
      },
      "source": [
        "import sqlite3\n",
        "import pandas as pd\n",
        "\n",
        "# Conexión a la base de datos SQLite\n",
        "conexion = sqlite3.connect('parte2.db')\n",
        "cursor = conexion.cursor()\n",
        "\n",
        "# Consulta SQL corregida\n",
        "query = '''INSERT INTO clientes_b (id_cliente, nombre, apellido, edad, provincia, fecha_alta)\n",
        "VALUES\n",
        "(100001, 'ADRIAN', 'HERNANDEZ', 35, 'LA RIOJA', '2021-03-03'),\n",
        "(100002, 'KAREN', 'VEGAS', 10, 'MALAGA', '2021-03-24');\n",
        "'''\n",
        "# Mostrar los primeros registros\n",
        "print(data)\n",
        "\n",
        "# Cerrar la conexión\n",
        "conexion.close()\n"
      ],
      "execution_count": 75,
      "outputs": [
        {
          "output_type": "stream",
          "name": "stdout",
          "text": [
            "    id_cliente    nombre   apellido  edad     provincia  fecha_alta\n",
            "0            1      None      PEREZ    50         CHACO  2021-04-25\n",
            "1            2      None    SANCHEZ    51      MISIONES  2021-04-25\n",
            "2       100000    ALVARO     TORRES    46         Salta  2021-03-03\n",
            "3       100001    ADRIAN  HERNANDEZ    35      LA RIOJA  2021-03-03\n",
            "4       100002     KAREN      VEGAS    10        MALAGA  2021-03-24\n",
            "5       100003       ANA   GONZÁLEZ    40         Jujuy  2021-11-02\n",
            "6       100004    ANDREA    NAVARRO    35       Córdoba  2021-04-21\n",
            "7       100005  CRISTINA    SALINAS    46       Córdoba  2021-04-21\n",
            "8       100006    DANIEL     SETIÉN    43  Buenos Aires  2021-04-21\n",
            "9       100007     DAVID       CRUZ    46      La Pampa  2021-04-13\n",
            "10      100008     DIEGO     GARCÍA    25      La Rioja  2021-04-21\n",
            "11      100009     IRENE        GAS    27         Salta  2021-04-21\n",
            "12      100010    JAVIER      GÓMEZ    40       Córdoba  2021-04-13\n",
            "13      100011     JORGE     CURIEL    39  Buenos Aires  2021-04-21\n",
            "14      100012     LAURA   VERDUZCO    39  Buenos Aires  2021-04-21\n",
            "15      100013     MARIA     VARELA    24  Buenos Aires  2021-03-20\n",
            "16      100014     MARTA      ROSAS    43       Córdoba  2021-04-20\n",
            "17      100017     PAULA    VIVEROS    37      Misiones  2021-03-03\n",
            "18      100018     RAMON     TELLES    35      Misiones  2021-03-20\n",
            "19      100019      None      PEREZ    50         CHACO  2021-04-25\n",
            "20      100020      None    SANCHEZ    51      MISIONES  2021-04-25\n"
          ]
        }
      ]
    },
    {
      "cell_type": "markdown",
      "source": [
        "Tambien podemos insertar múltiples filas en una sola sentencia."
      ],
      "metadata": {
        "id": "8-RZV4r5H-4o"
      }
    },
    {
      "cell_type": "code",
      "metadata": {
        "id": "gaB-vtvS2K0G",
        "colab": {
          "base_uri": "https://localhost:8080/"
        },
        "outputId": "40e790ff-d471-46ad-ff8a-70ff2ba596f2"
      },
      "source": [
        "import sqlite3\n",
        "import pandas as pd\n",
        "\n",
        "# Conexión a la base de datos SQLite\n",
        "conexion = sqlite3.connect('parte2.db')\n",
        "cursor = conexion.cursor()\n",
        "\n",
        "# Consulta SQL\n",
        "query = '''INSERT INTO clientes_b (id_cliente, nombre, apellido, edad, provincia, fecha_alta)\n",
        "VALUES\n",
        "(100000,\t'ALVARO',\t'TORRES',\t46,\t'Salta',\t'2021-03-03'),\n",
        "(100003,\t'ANA',\t'GONZÁLEZ',\t40,\t'Jujuy',\t'2021-11-02'),\n",
        "(100004,\t'ANDREA',\t'NAVARRO',\t35,\t'Córdoba',\t'2021-04-21'),\n",
        "(100005,\t'CRISTINA',\t'SALINAS',\t46,\t'Córdoba',\t'2021-04-21'),\n",
        "(100006,\t'DANIEL',\t'SETIÉN',\t43,\t'Buenos Aires',\t'2021-04-21'),\n",
        "(100007,\t'DAVID',\t'CRUZ',\t46,\t'La Pampa',\t'2021-04-13'),\n",
        "(100008,\t'DIEGO',\t'GARCÍA',\t25,\t'La Rioja',\t'2021-04-21'),\n",
        "(100009,\t'IRENE',\t'GAS',\t27,\t'Salta',\t'2021-04-21'),\n",
        "(100010,\t'JAVIER',\t'GÓMEZ',\t40,\t'Córdoba',\t'2021-04-13'),\n",
        "(100011,\t'JORGE',\t'CURIEL',\t39,\t'Buenos Aires',\t'2021-04-21'),\n",
        "(100012,\t'LAURA',\t'VERDUZCO',\t39,\t'Buenos Aires',\t'2021-04-21'),\n",
        "(100013,\t'MARIA',\t'VARELA',\t24,\t'Buenos Aires',\t'2021-03-20'),\n",
        "(100014,\t'MARTA',\t'ROSAS',\t43,\t'Córdoba',\t'2021-04-20')\n",
        "'''\n",
        "\n",
        "# Mostrar los primeros registros\n",
        "print(data)\n",
        "\n",
        "# Cerrar la conexión\n",
        "conexion.close()"
      ],
      "execution_count": 74,
      "outputs": [
        {
          "output_type": "stream",
          "name": "stdout",
          "text": [
            "    id_cliente    nombre   apellido  edad     provincia  fecha_alta\n",
            "0            1      None      PEREZ    50         CHACO  2021-04-25\n",
            "1            2      None    SANCHEZ    51      MISIONES  2021-04-25\n",
            "2       100000    ALVARO     TORRES    46         Salta  2021-03-03\n",
            "3       100001    ADRIAN  HERNANDEZ    35      LA RIOJA  2021-03-03\n",
            "4       100002     KAREN      VEGAS    10        MALAGA  2021-03-24\n",
            "5       100003       ANA   GONZÁLEZ    40         Jujuy  2021-11-02\n",
            "6       100004    ANDREA    NAVARRO    35       Córdoba  2021-04-21\n",
            "7       100005  CRISTINA    SALINAS    46       Córdoba  2021-04-21\n",
            "8       100006    DANIEL     SETIÉN    43  Buenos Aires  2021-04-21\n",
            "9       100007     DAVID       CRUZ    46      La Pampa  2021-04-13\n",
            "10      100008     DIEGO     GARCÍA    25      La Rioja  2021-04-21\n",
            "11      100009     IRENE        GAS    27         Salta  2021-04-21\n",
            "12      100010    JAVIER      GÓMEZ    40       Córdoba  2021-04-13\n",
            "13      100011     JORGE     CURIEL    39  Buenos Aires  2021-04-21\n",
            "14      100012     LAURA   VERDUZCO    39  Buenos Aires  2021-04-21\n",
            "15      100013     MARIA     VARELA    24  Buenos Aires  2021-03-20\n",
            "16      100014     MARTA      ROSAS    43       Córdoba  2021-04-20\n",
            "17      100017     PAULA    VIVEROS    37      Misiones  2021-03-03\n",
            "18      100018     RAMON     TELLES    35      Misiones  2021-03-20\n",
            "19      100019      None      PEREZ    50         CHACO  2021-04-25\n",
            "20      100020      None    SANCHEZ    51      MISIONES  2021-04-25\n"
          ]
        }
      ]
    },
    {
      "cell_type": "markdown",
      "source": [
        "Además, podemos insertar valores en columnas específicas explícitamente.\n"
      ],
      "metadata": {
        "id": "eVL6YEYaIFUY"
      }
    },
    {
      "cell_type": "code",
      "source": [
        "import sqlite3\n",
        "import pandas as pd\n",
        "\n",
        "# Conexión a la base de datos SQLite\n",
        "conexion = sqlite3.connect('parte2.db')\n",
        "cursor = conexion.cursor()\n",
        "\n",
        "# Consulta SQL\n",
        "query = '''\n",
        "\n",
        "INSERT INTO\n",
        "  clientes_b (apellido , edad, provincia, fecha_alta)\n",
        "VALUES\n",
        "  ('PEREZ', 50 , 'CHACO', '2021-04-25'),\n",
        "  ('SANCHEZ', 51 , 'MISIONES', '2021-04-25')\n",
        ";\n",
        "\n",
        " '''\n",
        "\n",
        "# Mostrar los primeros registros\n",
        "print(data)\n",
        "\n",
        "# Cerrar la conexión\n",
        "conexion.close()"
      ],
      "metadata": {
        "id": "9TJ6LSQaIE1-",
        "colab": {
          "base_uri": "https://localhost:8080/"
        },
        "outputId": "aca79ff4-08bb-45a3-efaa-4a6e157858be"
      },
      "execution_count": 73,
      "outputs": [
        {
          "output_type": "stream",
          "name": "stdout",
          "text": [
            "    id_cliente    nombre   apellido  edad     provincia  fecha_alta\n",
            "0            1      None      PEREZ    50         CHACO  2021-04-25\n",
            "1            2      None    SANCHEZ    51      MISIONES  2021-04-25\n",
            "2       100000    ALVARO     TORRES    46         Salta  2021-03-03\n",
            "3       100001    ADRIAN  HERNANDEZ    35      LA RIOJA  2021-03-03\n",
            "4       100002     KAREN      VEGAS    10        MALAGA  2021-03-24\n",
            "5       100003       ANA   GONZÁLEZ    40         Jujuy  2021-11-02\n",
            "6       100004    ANDREA    NAVARRO    35       Córdoba  2021-04-21\n",
            "7       100005  CRISTINA    SALINAS    46       Córdoba  2021-04-21\n",
            "8       100006    DANIEL     SETIÉN    43  Buenos Aires  2021-04-21\n",
            "9       100007     DAVID       CRUZ    46      La Pampa  2021-04-13\n",
            "10      100008     DIEGO     GARCÍA    25      La Rioja  2021-04-21\n",
            "11      100009     IRENE        GAS    27         Salta  2021-04-21\n",
            "12      100010    JAVIER      GÓMEZ    40       Córdoba  2021-04-13\n",
            "13      100011     JORGE     CURIEL    39  Buenos Aires  2021-04-21\n",
            "14      100012     LAURA   VERDUZCO    39  Buenos Aires  2021-04-21\n",
            "15      100013     MARIA     VARELA    24  Buenos Aires  2021-03-20\n",
            "16      100014     MARTA      ROSAS    43       Córdoba  2021-04-20\n",
            "17      100017     PAULA    VIVEROS    37      Misiones  2021-03-03\n",
            "18      100018     RAMON     TELLES    35      Misiones  2021-03-20\n",
            "19      100019      None      PEREZ    50         CHACO  2021-04-25\n",
            "20      100020      None    SANCHEZ    51      MISIONES  2021-04-25\n"
          ]
        }
      ]
    },
    {
      "cell_type": "markdown",
      "source": [
        "Por último, podemos insertar filas provenientes de otra tabla."
      ],
      "metadata": {
        "id": "4HMPH0qUKVKS"
      }
    },
    {
      "cell_type": "code",
      "source": [
        "import sqlite3\n",
        "import pandas as pd\n",
        "\n",
        "# Conexión a la base de datos SQLite\n",
        "conexion = sqlite3.connect('parte2.db')\n",
        "cursor = conexion.cursor()\n",
        "\n",
        "# Consulta SQL\n",
        "query = '''\n",
        "INSERT INTO clientes\n",
        "SELECT *\n",
        "FROM clientes_b\n",
        "WHERE id_cliente NOT IN (SELECT id_cliente FROM clientes);\n",
        "\n",
        "'''\n",
        "\n",
        "# Mostrar los primeros registros\n",
        "print(data)\n",
        "\n",
        "# Cerrar la conexión\n",
        "conexion.close()"
      ],
      "metadata": {
        "id": "DO3rfRPlKd4h",
        "colab": {
          "base_uri": "https://localhost:8080/"
        },
        "outputId": "db2178b2-79b4-49dc-b273-ed662590f858"
      },
      "execution_count": 61,
      "outputs": [
        {
          "output_type": "stream",
          "name": "stdout",
          "text": [
            "    id_cliente    nombre   apellido  edad     provincia  fecha_alta\n",
            "0            1      None      PEREZ    50         CHACO  2021-04-25\n",
            "1            2      None    SANCHEZ    51      MISIONES  2021-04-25\n",
            "2       100000    ALVARO     TORRES    46         Salta  2021-03-03\n",
            "3       100001    ADRIAN  HERNANDEZ    35      LA RIOJA  2021-03-03\n",
            "4       100002     KAREN      VEGAS    10        MALAGA  2021-03-24\n",
            "5       100003       ANA   GONZÁLEZ    40         Jujuy  2021-11-02\n",
            "6       100004    ANDREA    NAVARRO    35       Córdoba  2021-04-21\n",
            "7       100005  CRISTINA    SALINAS    46       Córdoba  2021-04-21\n",
            "8       100006    DANIEL     SETIÉN    43  Buenos Aires  2021-04-21\n",
            "9       100007     DAVID       CRUZ    46      La Pampa  2021-04-13\n",
            "10      100008     DIEGO     GARCÍA    25      La Rioja  2021-04-21\n",
            "11      100009     IRENE        GAS    27         Salta  2021-04-21\n",
            "12      100010    JAVIER      GÓMEZ    40       Córdoba  2021-04-13\n",
            "13      100011     JORGE     CURIEL    39  Buenos Aires  2021-04-21\n",
            "14      100012     LAURA   VERDUZCO    39  Buenos Aires  2021-04-21\n",
            "15      100013     MARIA     VARELA    24  Buenos Aires  2021-03-20\n",
            "16      100014     MARTA      ROSAS    43       Córdoba  2021-04-20\n",
            "17      100017     PAULA    VIVEROS    37      Misiones  2021-03-03\n",
            "18      100018     RAMON     TELLES    35      Misiones  2021-03-20\n"
          ]
        }
      ]
    },
    {
      "cell_type": "markdown",
      "source": [
        "## Sentencia DELETE\n",
        "\n",
        "Esta sentencia nos permite borrar filas de nuestras tablas.\n",
        "\n",
        "Si no indicamos una condición de filtro en el WHERE, la sentencia borrará todas las filas de datos de la tabla."
      ],
      "metadata": {
        "id": "K_-84Y5h3dhE"
      }
    },
    {
      "cell_type": "code",
      "source": [
        "conexion = sqlite3.connect('parte2.db', timeout=10)  # Espera hasta 10 segundos si la base de datos está bloqueada\n",
        "conexion.close()  # Cierra la conexión\n",
        "conexion = sqlite3.connect('parte2.db')  # Reabre la conexión\n"
      ],
      "metadata": {
        "id": "az1OGhxKZ2tM"
      },
      "execution_count": 63,
      "outputs": []
    },
    {
      "cell_type": "code",
      "metadata": {
        "id": "t3N4bZum2L4N",
        "colab": {
          "base_uri": "https://localhost:8080/"
        },
        "outputId": "4e664510-52fe-4334-9cd3-e97dfedbb5e2"
      },
      "source": [
        "# Con esa condición en el WHERE, solo borraremos las filas con id superior a 100014\n",
        "import sqlite3\n",
        "\n",
        "# Conexión a la base de datos SQLite\n",
        "conexion = sqlite3.connect('parte2.db')\n",
        "cursor = conexion.cursor()\n",
        "\n",
        "# Consulta SQL\n",
        "query = \"DELETE FROM clientes_b WHERE id_cliente > 100014;\"\n",
        "\n",
        "# Mostrar los primeros registros\n",
        "print(data)\n",
        "\n",
        "# Cerrar la conexión\n",
        "conexion.close()\n",
        "\n",
        "print(\"Filas eliminadas con éxito.\")\n",
        "\n"
      ],
      "execution_count": 76,
      "outputs": [
        {
          "output_type": "stream",
          "name": "stdout",
          "text": [
            "    id_cliente    nombre   apellido  edad     provincia  fecha_alta\n",
            "0            1      None      PEREZ    50         CHACO  2021-04-25\n",
            "1            2      None    SANCHEZ    51      MISIONES  2021-04-25\n",
            "2       100000    ALVARO     TORRES    46         Salta  2021-03-03\n",
            "3       100001    ADRIAN  HERNANDEZ    35      LA RIOJA  2021-03-03\n",
            "4       100002     KAREN      VEGAS    10        MALAGA  2021-03-24\n",
            "5       100003       ANA   GONZÁLEZ    40         Jujuy  2021-11-02\n",
            "6       100004    ANDREA    NAVARRO    35       Córdoba  2021-04-21\n",
            "7       100005  CRISTINA    SALINAS    46       Córdoba  2021-04-21\n",
            "8       100006    DANIEL     SETIÉN    43  Buenos Aires  2021-04-21\n",
            "9       100007     DAVID       CRUZ    46      La Pampa  2021-04-13\n",
            "10      100008     DIEGO     GARCÍA    25      La Rioja  2021-04-21\n",
            "11      100009     IRENE        GAS    27         Salta  2021-04-21\n",
            "12      100010    JAVIER      GÓMEZ    40       Córdoba  2021-04-13\n",
            "13      100011     JORGE     CURIEL    39  Buenos Aires  2021-04-21\n",
            "14      100012     LAURA   VERDUZCO    39  Buenos Aires  2021-04-21\n",
            "15      100013     MARIA     VARELA    24  Buenos Aires  2021-03-20\n",
            "16      100014     MARTA      ROSAS    43       Córdoba  2021-04-20\n",
            "17      100017     PAULA    VIVEROS    37      Misiones  2021-03-03\n",
            "18      100018     RAMON     TELLES    35      Misiones  2021-03-20\n",
            "19      100019      None      PEREZ    50         CHACO  2021-04-25\n",
            "20      100020      None    SANCHEZ    51      MISIONES  2021-04-25\n",
            "Filas eliminadas con éxito.\n"
          ]
        }
      ]
    },
    {
      "cell_type": "code",
      "metadata": {
        "id": "PWvIo65cO3Zp"
      },
      "source": [
        "# Si no utilizamos el WHERE entonces borraremos todas las filas de la tabla\n",
        "\n",
        "import sqlite3\n",
        "\n",
        "# Conexión a la base de datos SQLite\n",
        "conexion = sqlite3.connect('parte2.db')\n",
        "cursor = conexion.cursor()\n",
        "\n",
        "# Consulta SQL\n",
        "query = \"DELETE FROM CLIENTES;\"\n",
        "NO EJECUTAR ESTO\n",
        "\n",
        "# Mostrar los primeros registros\n",
        "print(data)\n",
        "\n",
        "# Cerrar la conexión\n",
        "conexion.close()\n"
      ],
      "execution_count": null,
      "outputs": []
    },
    {
      "cell_type": "markdown",
      "source": [
        "## La sentencia UPDATE\n",
        "\n",
        "Esta sentencia nos permite modificar los valores que tiene almacenados una tabla."
      ],
      "metadata": {
        "id": "5bdxNj4l4Pyt"
      }
    },
    {
      "cell_type": "code",
      "metadata": {
        "id": "KS1q2ipANO4p",
        "colab": {
          "base_uri": "https://localhost:8080/"
        },
        "outputId": "c54da366-78f8-4205-ac53-28773d36ab6b"
      },
      "source": [
        "# Para indicar las filas donde queremos realizar el UPDATE utilizaremos un WHERE, y para indicar las columnas donde queremos modificar los datos escribiremos el nombre de su identificador luego\n",
        "# de la palabra SET y le asignaremos el nuevo valor mediante el operador = .\n",
        "\n",
        "import sqlite3\n",
        "\n",
        "# Conexión a la base de datos SQLite\n",
        "conexion = sqlite3.connect('parte2.db')\n",
        "cursor = conexion.cursor()\n",
        "\n",
        "# Consulta SQL\n",
        "query = '''\n",
        "UPDATE clientes\n",
        "SET nombre = 'ROBERTO', provincia= 'NEUQUÉN', fecha_alta = '2021-03-07'\n",
        "WHERE id_cliente = 100001\n",
        ";\n",
        "'''\n",
        "\n",
        "# Mostrar  registros\n",
        "print(data)\n",
        "\n",
        "# Cerrar la conexión\n",
        "conexion.close()\n"
      ],
      "execution_count": 78,
      "outputs": [
        {
          "output_type": "stream",
          "name": "stdout",
          "text": [
            "    id_cliente    nombre   apellido  edad     provincia  fecha_alta\n",
            "0            1      None      PEREZ    50         CHACO  2021-04-25\n",
            "1            2      None    SANCHEZ    51      MISIONES  2021-04-25\n",
            "2       100000    ALVARO     TORRES    46         Salta  2021-03-03\n",
            "3       100001    ADRIAN  HERNANDEZ    35      LA RIOJA  2021-03-03\n",
            "4       100002     KAREN      VEGAS    10        MALAGA  2021-03-24\n",
            "5       100003       ANA   GONZÁLEZ    40         Jujuy  2021-11-02\n",
            "6       100004    ANDREA    NAVARRO    35       Córdoba  2021-04-21\n",
            "7       100005  CRISTINA    SALINAS    46       Córdoba  2021-04-21\n",
            "8       100006    DANIEL     SETIÉN    43  Buenos Aires  2021-04-21\n",
            "9       100007     DAVID       CRUZ    46      La Pampa  2021-04-13\n",
            "10      100008     DIEGO     GARCÍA    25      La Rioja  2021-04-21\n",
            "11      100009     IRENE        GAS    27         Salta  2021-04-21\n",
            "12      100010    JAVIER      GÓMEZ    40       Córdoba  2021-04-13\n",
            "13      100011     JORGE     CURIEL    39  Buenos Aires  2021-04-21\n",
            "14      100012     LAURA   VERDUZCO    39  Buenos Aires  2021-04-21\n",
            "15      100013     MARIA     VARELA    24  Buenos Aires  2021-03-20\n",
            "16      100014     MARTA      ROSAS    43       Córdoba  2021-04-20\n",
            "17      100017     PAULA    VIVEROS    37      Misiones  2021-03-03\n",
            "18      100018     RAMON     TELLES    35      Misiones  2021-03-20\n",
            "19      100019      None      PEREZ    50         CHACO  2021-04-25\n",
            "20      100020      None    SANCHEZ    51      MISIONES  2021-04-25\n"
          ]
        }
      ]
    },
    {
      "cell_type": "markdown",
      "source": [
        "# Sentencias de definición de datos"
      ],
      "metadata": {
        "id": "8llG7u3g6lmt"
      }
    },
    {
      "cell_type": "markdown",
      "metadata": {
        "id": "Z_6HGiHW6JkR"
      },
      "source": [
        "## La sentencia CREATE"
      ]
    },
    {
      "cell_type": "markdown",
      "metadata": {
        "id": "tcs1kl7956Eu"
      },
      "source": [
        "La sentencia CREATE nos permite crear nuevas tablas desde 0, es decir vacias completamente para luego poder insertarle datos.\n",
        "\n",
        "Con esta sentencia podemos definir exactamente cómo sera la estructura de nuestra tabla, introduciendo directivas y restricciones a como pueden ser pobladas de datos."
      ]
    },
    {
      "cell_type": "code",
      "source": [
        "CREATE TABLE [IF NOT EXISTS] [schema_name].table_name (\n",
        "\tcolumn_1 data_type PRIMARY KEY,\n",
        "   \tcolumn_2 data_type NOT NULL,\n",
        "\tcolumn_3 data_type DEFAULT 0,\n",
        "\ttable_constraints\n",
        ");"
      ],
      "metadata": {
        "id": "9CZ0NpjU-y9w"
      },
      "execution_count": null,
      "outputs": []
    },
    {
      "cell_type": "code",
      "source": [
        "import sqlite3\n",
        "\n",
        "# Conexión a la base de datos SQLite\n",
        "conexion = sqlite3.connect('parte2.db')\n",
        "cursor = conexion.cursor()\n",
        "\n",
        "# Consulta SQL corregida\n",
        "query = '''\n",
        "CREATE TABLE clientes_2\n",
        "(\n",
        "    id_Cliente INTEGER PRIMARY KEY,\n",
        "    Nombre TEXT NOT NULL,\n",
        "    Apellido TEXT UNIQUE,\n",
        "    Edad INTEGER,\n",
        "    Provincia TEXT CHECK(LENGTH(Provincia) < 5),\n",
        "    fecha_Alta TEXT\n",
        ");\n",
        "'''\n",
        "\n",
        "# Ejecutar la consulta para crear la tabla\n",
        "cursor.execute(query)\n",
        "\n",
        "# Confirmar los cambios\n",
        "conexion.commit()\n",
        "\n",
        "# Cerrar la conexión\n",
        "conexion.close()\n"
      ],
      "metadata": {
        "id": "QIi7kPPF7fGk"
      },
      "execution_count": 84,
      "outputs": []
    },
    {
      "cell_type": "code",
      "source": [
        "import sqlite3\n",
        "import pandas as pd\n",
        "\n",
        "# Conexión a la base de datos SQLite\n",
        "conexion = sqlite3.connect('parte2.db')\n",
        "\n",
        "# Consulta SQL\n",
        "query = \"SELECT * FROM clientes_2;\"\n",
        "\n",
        "# Leer los datos en un DataFrame de pandas\n",
        "data = pd.read_sql_query(query, conexion)\n",
        "\n",
        "# Mostrar los datos\n",
        "print(data)\n",
        "\n",
        "# Cerrar la conexión\n",
        "conexion.close()\n"
      ],
      "metadata": {
        "colab": {
          "base_uri": "https://localhost:8080/"
        },
        "id": "gY1K6pjWkAWR",
        "outputId": "15be207d-90e6-4e23-d9be-d6026bb80627"
      },
      "execution_count": 86,
      "outputs": [
        {
          "output_type": "stream",
          "name": "stdout",
          "text": [
            "Empty DataFrame\n",
            "Columns: [id_Cliente, Nombre, Apellido, Edad, Provincia, fecha_Alta]\n",
            "Index: []\n"
          ]
        }
      ]
    },
    {
      "cell_type": "code",
      "source": [
        "#  Así funciona el constraint NOT NULL\n",
        "import sqlite3\n",
        "\n",
        "# Conexión a la base de datos SQLite\n",
        "conexion = sqlite3.connect('parte2.db')\n",
        "\n",
        "# Consulta SQL\n",
        "query = '''\n",
        "INSERT INTO clientes_2 (id_cliente, Nombre, apellido, edad, provincia, fecha_alta)\n",
        "VALUES\n",
        "(100006, 'SETIÉN', 43, 'Buen', '2021-04-21'),\n",
        "(100007, 'CRUZ', 46, 'La', '2021-04-13');\n",
        "'''\n",
        "\n",
        "# Ejecutar la consulta\n",
        "cursor = conexion.cursor()\n",
        "cursor.execute(query)\n",
        "conexion.commit()\n",
        "\n",
        "# Cerrar la conexión\n",
        "conexion.close()\n",
        "\n",
        "print(\"Registros insertados con éxito.\")\n",
        "\n"
      ],
      "metadata": {
        "id": "gW1oG2GtGHXV",
        "colab": {
          "base_uri": "https://localhost:8080/"
        },
        "outputId": "e66184b0-2880-4976-96da-9b51f4167ee8"
      },
      "execution_count": 88,
      "outputs": [
        {
          "output_type": "stream",
          "name": "stdout",
          "text": [
            "Registros insertados con éxito.\n"
          ]
        }
      ]
    },
    {
      "cell_type": "code",
      "source": [
        "# Dejamos adrede sin completar la edad para ver como funciona el DEFAULT\n",
        "query = '''\n",
        "\n",
        "INSERT INTO clientes_2 (id_cliente, nombre, apellido, provincia, fecha_alta)\n",
        "VALUES\n",
        "\n",
        "(100006, 'DANIEL',\t'SETIÉN', 'Buen',\t'2021-04-21'),\n",
        "(100007,\t'DAVID',\t'CRUZ',\t'La',\t'2021-04-13')\n",
        "\n",
        "'''\n",
        "\n",
        "cursor.execute(query)\n",
        "conexion.commit()"
      ],
      "metadata": {
        "id": "VhOiuo0eGw3U"
      },
      "execution_count": null,
      "outputs": []
    },
    {
      "cell_type": "code",
      "source": [
        "# Ahora vemos como funciona el CHECK\n",
        "import sqlite3\n",
        "\n",
        "# Conexión a la base de datos SQLite\n",
        "conexion = sqlite3.connect('parte2.db')\n",
        "cursor = conexion.cursor()\n",
        "\n",
        "# Consulta SQL corregida\n",
        "query = '''\n",
        "INSERT INTO clientes_2 (id_cliente, Nombre, apellido, edad, provincia, fecha_alta)\n",
        "VALUES\n",
        "(100012, 'LAURA', 'VERDUZCO', 39, 'bUENOS AIRES', '2021-04-21'),\n",
        "(100013, 'MARIA', 'VARELA', 24, 'La', '2021-03-20');\n",
        "'''\n",
        "\n",
        "# Ejecutar la consulta\n",
        "cursor.execute(query)\n",
        "conexion.commit()\n",
        "\n",
        "# Cerrar la conexión\n",
        "conexion.close()\n",
        "\n",
        "print(\"Registros insertados con éxito.\")\n",
        "\n"
      ],
      "metadata": {
        "id": "uRivZ2BQFh97",
        "colab": {
          "base_uri": "https://localhost:8080/",
          "height": 211
        },
        "outputId": "3e74d568-818d-46ce-996d-20ad8608a184"
      },
      "execution_count": 90,
      "outputs": [
        {
          "output_type": "error",
          "ename": "IntegrityError",
          "evalue": "CHECK constraint failed: LENGTH(Provincia) < 5",
          "traceback": [
            "\u001b[0;31m---------------------------------------------------------------------------\u001b[0m",
            "\u001b[0;31mIntegrityError\u001b[0m                            Traceback (most recent call last)",
            "\u001b[0;32m<ipython-input-90-69c51ad84da5>\u001b[0m in \u001b[0;36m<cell line: 17>\u001b[0;34m()\u001b[0m\n\u001b[1;32m     15\u001b[0m \u001b[0;34m\u001b[0m\u001b[0m\n\u001b[1;32m     16\u001b[0m \u001b[0;31m# Ejecutar la consulta\u001b[0m\u001b[0;34m\u001b[0m\u001b[0;34m\u001b[0m\u001b[0m\n\u001b[0;32m---> 17\u001b[0;31m \u001b[0mcursor\u001b[0m\u001b[0;34m.\u001b[0m\u001b[0mexecute\u001b[0m\u001b[0;34m(\u001b[0m\u001b[0mquery\u001b[0m\u001b[0;34m)\u001b[0m\u001b[0;34m\u001b[0m\u001b[0;34m\u001b[0m\u001b[0m\n\u001b[0m\u001b[1;32m     18\u001b[0m \u001b[0mconexion\u001b[0m\u001b[0;34m.\u001b[0m\u001b[0mcommit\u001b[0m\u001b[0;34m(\u001b[0m\u001b[0;34m)\u001b[0m\u001b[0;34m\u001b[0m\u001b[0;34m\u001b[0m\u001b[0m\n\u001b[1;32m     19\u001b[0m \u001b[0;34m\u001b[0m\u001b[0m\n",
            "\u001b[0;31mIntegrityError\u001b[0m: CHECK constraint failed: LENGTH(Provincia) < 5"
          ]
        }
      ]
    },
    {
      "cell_type": "markdown",
      "source": [
        "### Existe otro método muy utilizado para crear tablas al vuelo sin tener que definir su estructura previamente.\n",
        "\n",
        "Este método toma la estructura y los datos de otra tabla existente y con ellos crea la nueva tabla.\n",
        "\n",
        "Para ello tenemos que incluir luego del nombre de la tabla la palabra clave AS\n",
        "y proceder a realizar un SELECT para traer los datos de la otra tabla. Este SELECT puede ser todo lo complejo que querramos y puede incluir muchas tablas relacionadas."
      ],
      "metadata": {
        "id": "3Q2VnlTAYV0p"
      }
    },
    {
      "cell_type": "code",
      "source": [
        "query = '''\n",
        "\n",
        "CREATE TABLE clientes_3 AS\n",
        "SELECT *\n",
        "FROM clientes\n",
        "\n",
        "'''\n",
        "cursor.execute(query)\n",
        "conexion.commit()"
      ],
      "metadata": {
        "id": "dtTHjUcSYpp4"
      },
      "execution_count": null,
      "outputs": []
    },
    {
      "cell_type": "code",
      "source": [
        "query = '''\n",
        "\n",
        "SELECT\n",
        "  *\n",
        "FROM\n",
        " clientes_3\n",
        "\n",
        "\n",
        " '''\n",
        "\n",
        "cursor.execute(query)\n",
        "conexion.commit()\n",
        "cols = [description[0] for description in cursor.description]\n",
        "pd.DataFrame(cursor.fetchall(), columns=cols)"
      ],
      "metadata": {
        "id": "VWCVI8pLZPOf"
      },
      "execution_count": null,
      "outputs": []
    },
    {
      "cell_type": "markdown",
      "source": [
        "## La clave primaria\n",
        "\n",
        "La clave primaria es el identificador unívoco de cada fila de la entidad.\n",
        "Por defecto incluye el constraint UNIQUE."
      ],
      "metadata": {
        "id": "QALxYCpxBai6"
      }
    },
    {
      "cell_type": "code",
      "source": [
        "# Creamos otra tabla nueva para trabajar con ella\n",
        "query = '''\n",
        "\n",
        "CREATE TABLE  clientes_4\n",
        "(\n",
        "id_cliente INTEGER PRIMARY KEY,\n",
        "nombre TEXT ,\n",
        "apellido TEXT ,\n",
        "edad INTEGER ,\n",
        "provincia TEXT ,\n",
        "fecha_alta TEXT\n",
        ")\n",
        "\n",
        "'''\n",
        "cursor.execute(query)\n",
        "conexion.commit()"
      ],
      "metadata": {
        "id": "k2R3HEFDI3kl"
      },
      "execution_count": null,
      "outputs": []
    },
    {
      "cell_type": "code",
      "metadata": {
        "id": "BKTZSsAyNOxG"
      },
      "source": [
        "# La borramos para crearla de nuevo con una PK de dos columnas\n",
        "query = '''\n",
        "\n",
        "DROP TABLE clientes_4\n",
        ";\n",
        "\n",
        "\n",
        " '''\n",
        "\n",
        "cursor.execute(query)\n",
        "conexion.commit()"
      ],
      "execution_count": null,
      "outputs": []
    },
    {
      "cell_type": "markdown",
      "source": [
        "La clave primaria puede estar conformada por una o mas columnas. Si quisieramos una clave primaria conformada por varias columnas, debemos indicarlo al final de la sentencia.\n"
      ],
      "metadata": {
        "id": "Z_9QllYpN2cu"
      }
    },
    {
      "cell_type": "code",
      "source": [
        "query = '''\n",
        "\n",
        "CREATE TABLE  clientes_4\n",
        "(\n",
        "id_cliente INTEGER ,\n",
        "nombre TEXT ,\n",
        "apellido TEXT ,\n",
        "edad INTEGER ,\n",
        "provincia TEXT ,\n",
        "fecha_alta TEXT,\n",
        "PRIMARY KEY (id_cliente, nombre)\n",
        ")\n",
        "\n",
        "\n",
        "'''\n",
        "cursor.execute(query)\n",
        "conexion.commit()"
      ],
      "metadata": {
        "id": "D893jgRqONFi"
      },
      "execution_count": null,
      "outputs": []
    },
    {
      "cell_type": "code",
      "source": [
        "# Insertamos datos en la tabla recién creada\n",
        "query = '''\n",
        "\n",
        "INSERT INTO clientes_4\n",
        "VALUES\n",
        "\n",
        "(100011,\t'JORGE',\t'CURIEL',\t39,\t'Buenos Aires',\t'2021-04-21'),\n",
        "(100012,\t'LAURA',\t'VERDUZCO',\t39,\t'Buenos Aires',\t'2021-04-21'),\n",
        "(100013,\t'MARIA',\t'VARELA',\t24,\t'Buenos Aires',\t'2021-03-20'),\n",
        "(100014,\t'MARTA',\t'ROSAS',\t43,\t'Córdoba',\t'2021-04-20'),\n",
        "(100015,\t'MIGUEL',\t'VALDÉS',\t34,\t'Salta',\t'2021-03-24'),\n",
        "(100016,\t'PABLO',\t'VANEGAS',\t39,\t'Jujuy',\t'2021-02-25'),\n",
        "(100017,\t'PAULA',\t'VIVEROS',\t37,\t'Misiones',\t'2021-03-03')\n",
        "\n",
        "'''\n",
        "\n",
        "cursor.execute(query)\n",
        "conexion.commit()"
      ],
      "metadata": {
        "id": "bWnTm5CeRyL3"
      },
      "execution_count": null,
      "outputs": []
    },
    {
      "cell_type": "code",
      "source": [
        "#  La borramos nuevamente para crearla de nuevo con una PK de una sola columna ya que la necesitamos así para el siguiente ejemplo\n",
        "query = '''\n",
        "\n",
        "DROP TABLE clientes_4\n",
        "\n",
        " '''\n",
        "\n",
        "cursor.execute(query)\n",
        "conexion.commit()"
      ],
      "metadata": {
        "id": "-d2Kp25opFtm"
      },
      "execution_count": null,
      "outputs": []
    },
    {
      "cell_type": "code",
      "source": [
        "#  La volvemos a crear con una PK de una sola columna (id_cliente)\n",
        "query = '''\n",
        "CREATE TABLE clientes_4\n",
        "(\n",
        "id_cliente INTEGER PRIMARY KEY,\n",
        "nombre TEXT,\n",
        "apellido TEXT,\n",
        "edad INTEGER,\n",
        "provincia TEXT,\n",
        "fecha_alta TEXT\n",
        "\n",
        ")\n",
        "\n",
        "\n",
        "'''\n",
        "cursor.execute(query)\n",
        "conexion.commit()"
      ],
      "metadata": {
        "id": "HWYHC8xxpFq1"
      },
      "execution_count": null,
      "outputs": []
    },
    {
      "cell_type": "code",
      "source": [
        "#  La poblamos de datos\n",
        "query = '''\n",
        "\n",
        "INSERT INTO clientes_4\n",
        "VALUES\n",
        "\n",
        "(100011,\t'JORGE',\t'CURIEL',\t39,\t'Buenos Aires',\t'2021-04-21'),\n",
        "(100012,\t'LAURA',\t'VERDUZCO',\t39,\t'Buenos Aires',\t'2021-04-21'),\n",
        "(100013,\t'MARIA',\t'VARELA',\t24,\t'Buenos Aires',\t'2021-03-20'),\n",
        "(100014,\t'MARTA',\t'ROSAS',\t43,\t'Córdoba',\t'2021-04-20'),\n",
        "(100015,\t'MIGUEL',\t'VALDÉS',\t34,\t'Salta',\t'2021-03-24'),\n",
        "(100016,\t'PABLO',\t'VANEGAS',\t39,\t'Jujuy',\t'2021-02-25'),\n",
        "(100017,\t'PAULA',\t'VIVEROS',\t37,\t'Misiones',\t'2021-03-03')\n",
        "\n",
        "'''\n",
        "\n",
        "cursor.execute(query)\n",
        "conexion.commit()"
      ],
      "metadata": {
        "id": "sf0icVMlpFoM"
      },
      "execution_count": null,
      "outputs": []
    },
    {
      "cell_type": "markdown",
      "source": [
        "## La clave foránea"
      ],
      "metadata": {
        "id": "dWF4K8jaOuT9"
      }
    },
    {
      "cell_type": "code",
      "metadata": {
        "id": "9supNduio8mg"
      },
      "source": [
        "query = '''\n",
        "\n",
        "PRAGMA foreign_keys = ON;\n",
        "\n",
        " '''\n",
        "\n",
        "cursor.execute(query)\n",
        "conexion.commit()"
      ],
      "execution_count": null,
      "outputs": []
    },
    {
      "cell_type": "code",
      "source": [
        "# Creamos una tabla de ventas con una clave foránea que es el id_cliente\n",
        "query = '''\n",
        "\n",
        "CREATE TABLE  ventas\n",
        "(\n",
        "id_venta INTEGER ,\n",
        "id_vendedor INTEGER ,\n",
        "id_cliente INTEGER ,\n",
        "fecha_venta TEXT ,\n",
        "cantidad INTEGER ,\n",
        "valor_total INTEGER,\n",
        "PRIMARY KEY (id_venta, id_vendedor),\n",
        "FOREIGN KEY (id_cliente) REFERENCES clientes_4 (id_cliente)\n",
        "            ON DELETE RESTRICT ON UPDATE NO ACTION\n",
        "\n",
        ")\n",
        "\n",
        "'''\n",
        "cursor.execute(query)\n",
        "conexion.commit()"
      ],
      "metadata": {
        "id": "uc1l0UC2KGgY"
      },
      "execution_count": null,
      "outputs": []
    },
    {
      "cell_type": "code",
      "source": [
        "query = '''\n",
        "\n",
        "INSERT INTO ventas\n",
        "VALUES\n",
        "\n",
        "(100002, 01,\t100014,\t'2021-04-24',\t5,\t500),\n",
        "(100003, 02,\t100015,\t'2021-04-24',\t4,\t100),\n",
        "(100004, 01,\t100015,\t'2021-04-24',\t1,\t50),\n",
        "(100005, 01,\t100016,\t'2021-04-24',\t1,\t50)\n",
        "\n",
        "\n",
        "'''\n",
        "\n",
        "cursor.execute(query)\n",
        "conexion.commit()"
      ],
      "metadata": {
        "id": "D_PStP5VRo2Q"
      },
      "execution_count": null,
      "outputs": []
    },
    {
      "cell_type": "code",
      "source": [
        "query = '''\n",
        "\n",
        "SELECT\n",
        "*\n",
        "FROM\n",
        "  ventas\n",
        "\n",
        ";\n",
        " '''\n",
        "\n",
        "cursor.execute(query)\n",
        "conexion.commit()\n",
        "cols = [description[0] for description in cursor.description]\n",
        "pd.DataFrame(cursor.fetchall(), columns=cols)"
      ],
      "metadata": {
        "id": "HsCafIHwSgYt"
      },
      "execution_count": null,
      "outputs": []
    },
    {
      "cell_type": "code",
      "source": [
        "# Tratamos de borrar un cliente para ver como funciona la clave foránea\n",
        "query = '''\n",
        "\n",
        "DELETE FROM clientes_4\n",
        "WHERE id_cliente = 100014\n",
        "\n",
        ";\n",
        " '''\n",
        "\n",
        "cursor.execute(query)\n",
        "conexion.commit()"
      ],
      "metadata": {
        "id": "YrO68w1oSvVz"
      },
      "execution_count": null,
      "outputs": []
    },
    {
      "cell_type": "code",
      "source": [
        "query = '''\n",
        "\n",
        "DROP TABLE IF EXISTS ventas\n",
        ";\n",
        " '''\n",
        "\n",
        "cursor.execute(query)\n",
        "conexion.commit()"
      ],
      "metadata": {
        "id": "HsQuA2QXWSqu"
      },
      "execution_count": null,
      "outputs": []
    },
    {
      "cell_type": "code",
      "source": [
        "# Creamos una tabla de ventas con una clave foránea que es el id_clientes. Le pedimos que cuando borremos una fila de la tabla clientes cambie el id_cliente en esta tabla a NULL\n",
        "query = '''\n",
        "\n",
        "CREATE TABLE  ventas\n",
        "(\n",
        "id_venta INTEGER ,\n",
        "id_vendedor INTEGER ,\n",
        "id_cliente INTEGER ,\n",
        "fecha_venta TEXT ,\n",
        "cantidad INTEGER ,\n",
        "valor_total INTEGER,\n",
        "PRIMARY KEY (id_venta, id_vendedor),\n",
        "FOREIGN KEY (id_cliente) REFERENCES clientes_4 (id_cliente)\n",
        "            ON DELETE SET NULL ON UPDATE NO ACTION\n",
        "\n",
        ")\n",
        "\n",
        "'''\n",
        "cursor.execute(query)\n",
        "conexion.commit()"
      ],
      "metadata": {
        "id": "BTV3QF7fVs5r"
      },
      "execution_count": null,
      "outputs": []
    },
    {
      "cell_type": "code",
      "source": [
        "# Poblamos la tabla\n",
        "query = '''\n",
        "\n",
        "INSERT INTO ventas\n",
        "VALUES\n",
        "(100002, 01,\t100014,\t'2021-04-24',\t5,\t500),\n",
        "(100003, 02,\t100015,\t'2021-04-24',\t4,\t100),\n",
        "(100004, 01,\t100015,\t'2021-04-24',\t1,\t50),\n",
        "(100005, 01,\t100016,\t'2021-04-24',\t1,\t50)\n",
        "\n",
        ";\n",
        "'''\n",
        "\n",
        "cursor.execute(query)\n",
        "conexion.commit()"
      ],
      "metadata": {
        "id": "u6HkkkYTVwsI"
      },
      "execution_count": null,
      "outputs": []
    },
    {
      "cell_type": "code",
      "source": [
        "query = '''\n",
        "\n",
        "SELECT\n",
        "*\n",
        "FROM\n",
        "  ventas\n",
        "\n",
        ";\n",
        " '''\n",
        "\n",
        "cursor.execute(query)\n",
        "conexion.commit()\n",
        "cols = [description[0] for description in cursor.description]\n",
        "pd.DataFrame(cursor.fetchall(), columns=cols)"
      ],
      "metadata": {
        "id": "bUK-v4zbS8MQ"
      },
      "execution_count": null,
      "outputs": []
    },
    {
      "cell_type": "code",
      "source": [
        "# Tratamos de borrar un cliente para ver como funciona la clave foránea\n",
        "query = '''\n",
        "\n",
        "DELETE FROM clientes_4\n",
        "WHERE id_cliente = 100014\n",
        "\n",
        ";\n",
        " '''\n",
        "\n",
        "cursor.execute(query)\n",
        "conexion.commit()"
      ],
      "metadata": {
        "id": "LTj8ddkvWJSc"
      },
      "execution_count": null,
      "outputs": []
    },
    {
      "cell_type": "code",
      "source": [
        "query = '''\n",
        "\n",
        "SELECT\n",
        "*\n",
        "FROM\n",
        "  ventas\n",
        "\n",
        ";\n",
        " '''\n",
        "\n",
        "cursor.execute(query)\n",
        "conexion.commit()\n",
        "cols = [description[0] for description in cursor.description]\n",
        "pd.DataFrame(cursor.fetchall(), columns=cols)"
      ],
      "metadata": {
        "id": "k1rCX4gQWJPO"
      },
      "execution_count": null,
      "outputs": []
    },
    {
      "cell_type": "markdown",
      "metadata": {
        "id": "YKWeZvTWg7Ee"
      },
      "source": [
        "## La sentencia DROP\n",
        "\n",
        "Esta sentencia sirve para borrar completamente una tabla de nuestra base de datos.\n",
        "Podemos poner IF EXISTS luego de DROP TABLE para evitar que nos de un error si la tabla no existía desde un principio."
      ]
    },
    {
      "cell_type": "code",
      "metadata": {
        "id": "WRDvs9u2YrAE"
      },
      "source": [
        "query = '''\n",
        "\n",
        "DROP TABLE IF EXISTS ventas\n",
        ";\n",
        " '''\n",
        "\n",
        "cursor.execute(query)\n",
        "conexion.commit()"
      ],
      "execution_count": null,
      "outputs": []
    },
    {
      "cell_type": "code",
      "source": [
        "query = '''\n",
        "\n",
        "SELECT\n",
        "*\n",
        "FROM\n",
        "  ventas\n",
        "\n",
        ";\n",
        " '''\n",
        "\n",
        "cursor.execute(query)\n",
        "conexion.commit()\n",
        "cols = [description[0] for description in cursor.description]\n",
        "pd.DataFrame(cursor.fetchall(), columns=cols)"
      ],
      "metadata": {
        "id": "ypSk8cWAXDRG"
      },
      "execution_count": null,
      "outputs": []
    },
    {
      "cell_type": "markdown",
      "metadata": {
        "id": "c2axJ_i2o9Av"
      },
      "source": [
        "## La sentencia ALTER\n",
        "\n",
        "Esta sentencia nos permite realizar cambios estructurales a nuestras tablas.\n",
        "\n",
        "Desde cambiar el nombre o el tipo de datos de una columna, hasta quitar completamente columnas de nuestra tabla."
      ]
    },
    {
      "cell_type": "code",
      "metadata": {
        "id": "5uEPKxVbo8wK"
      },
      "source": [
        "#  Renombramos la tabla\n",
        "query = '''\n",
        "ALTER TABLE clientes_4\n",
        "RENAME TO clientes_final\n",
        "\n",
        " '''\n",
        "\n",
        "cursor.execute(query)\n",
        "conexion.commit()"
      ],
      "execution_count": null,
      "outputs": []
    },
    {
      "cell_type": "code",
      "source": [
        "query = '''\n",
        "\n",
        "SELECT\n",
        "*\n",
        "FROM\n",
        "  clientes_final\n",
        "\n",
        ";\n",
        " '''\n",
        "\n",
        "cursor.execute(query)\n",
        "conexion.commit()\n",
        "cols = [description[0] for description in cursor.description]\n",
        "pd.DataFrame(cursor.fetchall(), columns=cols)"
      ],
      "metadata": {
        "id": "gt964lzWTEWK"
      },
      "execution_count": null,
      "outputs": []
    },
    {
      "cell_type": "code",
      "source": [
        "#  Añadimos una columna nueva a la tabla\n",
        "query = '''\n",
        "ALTER TABLE clientes_final\n",
        "ADD COLUMN antiguedad DEFAULT 0\n",
        "\n",
        " '''\n",
        "\n",
        "cursor.execute(query)\n",
        "conexion.commit()"
      ],
      "metadata": {
        "id": "i9aI60A9XrbQ"
      },
      "execution_count": null,
      "outputs": []
    },
    {
      "cell_type": "code",
      "source": [
        "query = '''\n",
        "\n",
        "SELECT\n",
        "*\n",
        "FROM\n",
        "  clientes_final\n",
        "\n",
        ";\n",
        " '''\n",
        "\n",
        "cursor.execute(query)\n",
        "conexion.commit()\n",
        "cols = [description[0] for description in cursor.description]\n",
        "pd.DataFrame(cursor.fetchall(), columns=cols)"
      ],
      "metadata": {
        "id": "wqn41Fg-X-EP"
      },
      "execution_count": null,
      "outputs": []
    },
    {
      "cell_type": "code",
      "source": [
        "# Renombramos una columna de la tabla\n",
        "query = '''\n",
        "ALTER TABLE clientes_final\n",
        "RENAME COLUMN antiguedad TO fecha_ingreso\n",
        "\n",
        " '''\n",
        "\n",
        "cursor.execute(query)\n",
        "conexion.commit()"
      ],
      "metadata": {
        "id": "yMKGhVx8YCwN"
      },
      "execution_count": null,
      "outputs": []
    },
    {
      "cell_type": "code",
      "source": [
        "query = '''\n",
        "\n",
        "SELECT\n",
        "*\n",
        "FROM\n",
        "  clientes_final\n",
        "\n",
        ";\n",
        " '''\n",
        "\n",
        "cursor.execute(query)\n",
        "conexion.commit()\n",
        "cols = [description[0] for description in cursor.description]\n",
        "pd.DataFrame(cursor.fetchall(), columns=cols)"
      ],
      "metadata": {
        "id": "DoeakDOdYPLY"
      },
      "execution_count": null,
      "outputs": []
    },
    {
      "cell_type": "code",
      "source": [
        "# Quitamos la columna que añadimos antes\n",
        "query = '''\n",
        "ALTER TABLE clientes_final\n",
        "DROP COLUMN fecha_ingreso\n",
        "\n",
        " '''\n",
        "\n",
        "cursor.execute(query)\n",
        "conexion.commit()"
      ],
      "metadata": {
        "id": "36pbg04DYQcu"
      },
      "execution_count": null,
      "outputs": []
    },
    {
      "cell_type": "code",
      "source": [
        "query = '''\n",
        "\n",
        "SELECT\n",
        "*\n",
        "FROM\n",
        "  clientes_final\n",
        "\n",
        ";\n",
        " '''\n",
        "\n",
        "cursor.execute(query)\n",
        "conexion.commit()\n",
        "cols = [description[0] for description in cursor.description]\n",
        "pd.DataFrame(cursor.fetchall(), columns=cols)"
      ],
      "metadata": {
        "id": "aeUZnv0eZ5rU"
      },
      "execution_count": null,
      "outputs": []
    }
  ]
}