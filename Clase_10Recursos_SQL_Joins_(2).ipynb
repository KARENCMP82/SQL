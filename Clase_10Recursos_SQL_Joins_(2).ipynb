{
  "nbformat": 4,
  "nbformat_minor": 0,
  "metadata": {
    "colab": {
      "provenance": [],
      "authorship_tag": "ABX9TyORGmGy9WK3mKFQjha2TBcI",
      "include_colab_link": true
    },
    "kernelspec": {
      "name": "python3",
      "display_name": "Python 3"
    },
    "language_info": {
      "name": "python"
    }
  },
  "cells": [
    {
      "cell_type": "markdown",
      "metadata": {
        "id": "view-in-github",
        "colab_type": "text"
      },
      "source": [
        "<a href=\"https://colab.research.google.com/github/KARENCMP82/SQL/blob/main/Clase_10Recursos_SQL_Joins_(2).ipynb\" target=\"_parent\"><img src=\"https://colab.research.google.com/assets/colab-badge.svg\" alt=\"Open In Colab\"/></a>"
      ]
    },
    {
      "cell_type": "code",
      "execution_count": null,
      "metadata": {
        "id": "RrGWbSHE0jtn"
      },
      "outputs": [],
      "source": [
        "from google.colab import drive\n",
        "drive.mount('/content/drive')"
      ]
    },
    {
      "cell_type": "code",
      "source": [
        "\n",
        "import sqlite3\n",
        "import pandas as pd"
      ],
      "metadata": {
        "id": "FeBeb4Ov0uss"
      },
      "execution_count": null,
      "outputs": []
    },
    {
      "cell_type": "code",
      "source": [
        "\n",
        "database = '/content/drive/MyDrive/Colab Notebooks/consultasAvanzadas.db'"
      ],
      "metadata": {
        "id": "p8cLDfXN0uz5"
      },
      "execution_count": null,
      "outputs": []
    },
    {
      "cell_type": "code",
      "source": [
        "import os\n",
        "os.makedirs('/content/drive/MyDrive/Colab Notebooks', exist_ok=True)"
      ],
      "metadata": {
        "id": "7uvGRvEa01MH"
      },
      "execution_count": null,
      "outputs": []
    },
    {
      "cell_type": "code",
      "source": [
        "import sqlite3\n",
        "\n",
        "# Ruta a la base de datos\n",
        "database = '/content/drive/MyDrive/Colab Notebooks/consultasAvanzadas.db'\n",
        "\n",
        "# Crear o conectar a la base de datos\n",
        "conexion = sqlite3.connect(database)\n",
        "cursor = conexion.cursor()\n",
        "\n",
        "print(\"Base de datos creada o abierta con éxito.\")\n"
      ],
      "metadata": {
        "id": "GvusmrpO1DAX"
      },
      "execution_count": null,
      "outputs": []
    }
  ]
}