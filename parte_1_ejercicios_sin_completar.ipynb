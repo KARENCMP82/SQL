{
  "nbformat": 4,
  "nbformat_minor": 0,
  "metadata": {
    "colab": {
      "provenance": [],
      "include_colab_link": true
    },
    "kernelspec": {
      "name": "python3",
      "display_name": "Python 3"
    },
    "language_info": {
      "name": "python"
    }
  },
  "cells": [
    {
      "cell_type": "markdown",
      "metadata": {
        "id": "view-in-github",
        "colab_type": "text"
      },
      "source": [
        "<a href=\"https://colab.research.google.com/github/KARENCMP82/SQL/blob/main/parte_1_ejercicios_sin_completar.ipynb\" target=\"_parent\"><img src=\"https://colab.research.google.com/assets/colab-badge.svg\" alt=\"Open In Colab\"/></a>"
      ]
    },
    {
      "cell_type": "markdown",
      "metadata": {
        "id": "uICsMH50Hr4p"
      },
      "source": [
        "# SQL en Google Colab con la librería SQLite.\n",
        "\n",
        "\n",
        "[Librería SQLite](https://www.sqlitetutorial.net/)\n",
        "\n",
        "\n",
        "\n",
        "\n",
        "## Importamos las librerias y montamos el drive de Google en nuestro Colab"
      ]
    },
    {
      "cell_type": "code",
      "metadata": {
        "id": "4fmFowAitNrY"
      },
      "source": [],
      "execution_count": null,
      "outputs": []
    },
    {
      "cell_type": "code",
      "metadata": {
        "id": "RHqSym1NJVID",
        "colab": {
          "base_uri": "https://localhost:8080/",
          "height": 73
        },
        "outputId": "587e00fa-d00b-4b51-da19-d5a1214ecb4d"
      },
      "source": [
        "#from google.colab import drive\n",
        "#drive.mount('/content/drive', force_remount=True)\n",
        "from google.colab import files\n",
        "load=files.upload()"
      ],
      "execution_count": 1,
      "outputs": [
        {
          "output_type": "display_data",
          "data": {
            "text/plain": [
              "<IPython.core.display.HTML object>"
            ],
            "text/html": [
              "\n",
              "     <input type=\"file\" id=\"files-ef2f2735-959f-4165-9e42-240ace39c897\" name=\"files[]\" multiple disabled\n",
              "        style=\"border:none\" />\n",
              "     <output id=\"result-ef2f2735-959f-4165-9e42-240ace39c897\">\n",
              "      Upload widget is only available when the cell has been executed in the\n",
              "      current browser session. Please rerun this cell to enable.\n",
              "      </output>\n",
              "      <script>// Copyright 2017 Google LLC\n",
              "//\n",
              "// Licensed under the Apache License, Version 2.0 (the \"License\");\n",
              "// you may not use this file except in compliance with the License.\n",
              "// You may obtain a copy of the License at\n",
              "//\n",
              "//      http://www.apache.org/licenses/LICENSE-2.0\n",
              "//\n",
              "// Unless required by applicable law or agreed to in writing, software\n",
              "// distributed under the License is distributed on an \"AS IS\" BASIS,\n",
              "// WITHOUT WARRANTIES OR CONDITIONS OF ANY KIND, either express or implied.\n",
              "// See the License for the specific language governing permissions and\n",
              "// limitations under the License.\n",
              "\n",
              "/**\n",
              " * @fileoverview Helpers for google.colab Python module.\n",
              " */\n",
              "(function(scope) {\n",
              "function span(text, styleAttributes = {}) {\n",
              "  const element = document.createElement('span');\n",
              "  element.textContent = text;\n",
              "  for (const key of Object.keys(styleAttributes)) {\n",
              "    element.style[key] = styleAttributes[key];\n",
              "  }\n",
              "  return element;\n",
              "}\n",
              "\n",
              "// Max number of bytes which will be uploaded at a time.\n",
              "const MAX_PAYLOAD_SIZE = 100 * 1024;\n",
              "\n",
              "function _uploadFiles(inputId, outputId) {\n",
              "  const steps = uploadFilesStep(inputId, outputId);\n",
              "  const outputElement = document.getElementById(outputId);\n",
              "  // Cache steps on the outputElement to make it available for the next call\n",
              "  // to uploadFilesContinue from Python.\n",
              "  outputElement.steps = steps;\n",
              "\n",
              "  return _uploadFilesContinue(outputId);\n",
              "}\n",
              "\n",
              "// This is roughly an async generator (not supported in the browser yet),\n",
              "// where there are multiple asynchronous steps and the Python side is going\n",
              "// to poll for completion of each step.\n",
              "// This uses a Promise to block the python side on completion of each step,\n",
              "// then passes the result of the previous step as the input to the next step.\n",
              "function _uploadFilesContinue(outputId) {\n",
              "  const outputElement = document.getElementById(outputId);\n",
              "  const steps = outputElement.steps;\n",
              "\n",
              "  const next = steps.next(outputElement.lastPromiseValue);\n",
              "  return Promise.resolve(next.value.promise).then((value) => {\n",
              "    // Cache the last promise value to make it available to the next\n",
              "    // step of the generator.\n",
              "    outputElement.lastPromiseValue = value;\n",
              "    return next.value.response;\n",
              "  });\n",
              "}\n",
              "\n",
              "/**\n",
              " * Generator function which is called between each async step of the upload\n",
              " * process.\n",
              " * @param {string} inputId Element ID of the input file picker element.\n",
              " * @param {string} outputId Element ID of the output display.\n",
              " * @return {!Iterable<!Object>} Iterable of next steps.\n",
              " */\n",
              "function* uploadFilesStep(inputId, outputId) {\n",
              "  const inputElement = document.getElementById(inputId);\n",
              "  inputElement.disabled = false;\n",
              "\n",
              "  const outputElement = document.getElementById(outputId);\n",
              "  outputElement.innerHTML = '';\n",
              "\n",
              "  const pickedPromise = new Promise((resolve) => {\n",
              "    inputElement.addEventListener('change', (e) => {\n",
              "      resolve(e.target.files);\n",
              "    });\n",
              "  });\n",
              "\n",
              "  const cancel = document.createElement('button');\n",
              "  inputElement.parentElement.appendChild(cancel);\n",
              "  cancel.textContent = 'Cancel upload';\n",
              "  const cancelPromise = new Promise((resolve) => {\n",
              "    cancel.onclick = () => {\n",
              "      resolve(null);\n",
              "    };\n",
              "  });\n",
              "\n",
              "  // Wait for the user to pick the files.\n",
              "  const files = yield {\n",
              "    promise: Promise.race([pickedPromise, cancelPromise]),\n",
              "    response: {\n",
              "      action: 'starting',\n",
              "    }\n",
              "  };\n",
              "\n",
              "  cancel.remove();\n",
              "\n",
              "  // Disable the input element since further picks are not allowed.\n",
              "  inputElement.disabled = true;\n",
              "\n",
              "  if (!files) {\n",
              "    return {\n",
              "      response: {\n",
              "        action: 'complete',\n",
              "      }\n",
              "    };\n",
              "  }\n",
              "\n",
              "  for (const file of files) {\n",
              "    const li = document.createElement('li');\n",
              "    li.append(span(file.name, {fontWeight: 'bold'}));\n",
              "    li.append(span(\n",
              "        `(${file.type || 'n/a'}) - ${file.size} bytes, ` +\n",
              "        `last modified: ${\n",
              "            file.lastModifiedDate ? file.lastModifiedDate.toLocaleDateString() :\n",
              "                                    'n/a'} - `));\n",
              "    const percent = span('0% done');\n",
              "    li.appendChild(percent);\n",
              "\n",
              "    outputElement.appendChild(li);\n",
              "\n",
              "    const fileDataPromise = new Promise((resolve) => {\n",
              "      const reader = new FileReader();\n",
              "      reader.onload = (e) => {\n",
              "        resolve(e.target.result);\n",
              "      };\n",
              "      reader.readAsArrayBuffer(file);\n",
              "    });\n",
              "    // Wait for the data to be ready.\n",
              "    let fileData = yield {\n",
              "      promise: fileDataPromise,\n",
              "      response: {\n",
              "        action: 'continue',\n",
              "      }\n",
              "    };\n",
              "\n",
              "    // Use a chunked sending to avoid message size limits. See b/62115660.\n",
              "    let position = 0;\n",
              "    do {\n",
              "      const length = Math.min(fileData.byteLength - position, MAX_PAYLOAD_SIZE);\n",
              "      const chunk = new Uint8Array(fileData, position, length);\n",
              "      position += length;\n",
              "\n",
              "      const base64 = btoa(String.fromCharCode.apply(null, chunk));\n",
              "      yield {\n",
              "        response: {\n",
              "          action: 'append',\n",
              "          file: file.name,\n",
              "          data: base64,\n",
              "        },\n",
              "      };\n",
              "\n",
              "      let percentDone = fileData.byteLength === 0 ?\n",
              "          100 :\n",
              "          Math.round((position / fileData.byteLength) * 100);\n",
              "      percent.textContent = `${percentDone}% done`;\n",
              "\n",
              "    } while (position < fileData.byteLength);\n",
              "  }\n",
              "\n",
              "  // All done.\n",
              "  yield {\n",
              "    response: {\n",
              "      action: 'complete',\n",
              "    }\n",
              "  };\n",
              "}\n",
              "\n",
              "scope.google = scope.google || {};\n",
              "scope.google.colab = scope.google.colab || {};\n",
              "scope.google.colab._files = {\n",
              "  _uploadFiles,\n",
              "  _uploadFilesContinue,\n",
              "};\n",
              "})(self);\n",
              "</script> "
            ]
          },
          "metadata": {}
        },
        {
          "output_type": "stream",
          "name": "stdout",
          "text": [
            "Saving parte1.db to parte1.db\n"
          ]
        }
      ]
    },
    {
      "cell_type": "code",
      "metadata": {
        "id": "Tejg_ytpXns_",
        "colab": {
          "base_uri": "https://localhost:8080/"
        },
        "outputId": "05c8c100-e95b-4a25-ccf0-26644752e19d"
      },
      "source": [
        "import sqlite3\n",
        "import pandas as pd\n",
        "\n",
        "# Conexión a la base de datos SQLite\n",
        "conexion = sqlite3.connect('parte1.db')\n",
        "\n",
        "# Consulta SQL\n",
        "query = \"SELECT * FROM empleados;\"  # Ajusta la consulta según la estructura de tu base de datos\n",
        "\n",
        "# Leer los datos en un DataFrame de pandas\n",
        "data = pd.read_sql_query(query, conexion)\n",
        "\n",
        "# Mostrar los primeros registros\n",
        "print(data.head())\n",
        "\n",
        "# Cerrar la conexión\n",
        "conexion.close()"
      ],
      "execution_count": 2,
      "outputs": [
        {
          "output_type": "stream",
          "name": "stdout",
          "text": [
            "   EMP_NO  APELLIDO    OFICIO  DIRECTOR  FECHA_AL  SALARIO  DEP_NO  COMISION\n",
            "0    7499    ALONSO  VENDEDOR    7698.0  20/02/81    14000      30    4000.0\n",
            "1    7521     LOPEZ  EMPLEADO    7782.0  08/05/81    13500      10       NaN\n",
            "2    7654    MARTIN  VENDEDOR    7698.0  28/09/81    15000      30   16000.0\n",
            "3    7698   GARRIDO  DIRECTOR    7839.0  01/05/81    38500      30       NaN\n",
            "4    7782  MARTINEZ  DIRECTOR    7839.0  09/06/81    24500      10       NaN\n"
          ]
        }
      ]
    },
    {
      "cell_type": "markdown",
      "source": [
        "#Parte 1 ejercicios:"
      ],
      "metadata": {
        "id": "pfZRg2VtTRt4"
      }
    },
    {
      "cell_type": "code",
      "source": [
        "query = '''\n",
        "\n",
        "SELECT\n",
        "    name\n",
        "FROM\n",
        "    sqlite_master\n",
        "WHERE\n",
        "    type ='table' AND\n",
        "    name NOT LIKE 'sqlite_%';\n",
        " '''\n",
        "\n",
        "cursor.execute(query)\n",
        "conexion.commit()\n",
        "cols = [description[0] for description in cursor.description]\n",
        "pd.DataFrame(cursor.fetchall(), columns=cols)"
      ],
      "metadata": {
        "id": "3VWkRQ540qWy"
      },
      "execution_count": null,
      "outputs": []
    },
    {
      "cell_type": "code",
      "source": [
        "# Escribir una consulta para traer todos los datos que tiene la tabla clientes\n",
        "\n",
        "query = '''\n",
        "\n",
        "\n",
        "\n",
        " '''\n",
        "\n",
        "cursor.execute(query)\n",
        "conexion.commit()\n",
        "cols = [description[0] for description in cursor.description]\n",
        "pd.DataFrame(cursor.fetchall(), columns=cols)"
      ],
      "metadata": {
        "id": "yjkpezQv1WW0"
      },
      "execution_count": null,
      "outputs": []
    },
    {
      "cell_type": "code",
      "source": [
        "# Traer todos los datos del cliente 101 y el cliente 106\n",
        "\n",
        "query = '''\n",
        "\n",
        "\n",
        "\n",
        " '''\n",
        "\n",
        "cursor.execute(query)\n",
        "conexion.commit()\n",
        "cols = [description[0] for description in cursor.description]\n",
        "pd.DataFrame(cursor.fetchall(), columns=cols)"
      ],
      "metadata": {
        "id": "EYB9umPe2CCJ"
      },
      "execution_count": null,
      "outputs": []
    },
    {
      "cell_type": "code",
      "source": [
        "# Extraer los nombres de los clientes ubicados en Sevilla\n",
        "query = '''\n",
        "\n",
        "\n",
        "\n",
        "\n",
        " '''\n",
        "\n",
        "cursor.execute(query)\n",
        "conexion.commit()\n",
        "cols = [description[0] for description in cursor.description]\n",
        "pd.DataFrame(cursor.fetchall(), columns=cols)"
      ],
      "metadata": {
        "id": "SqoDRF292Wcn"
      },
      "execution_count": null,
      "outputs": []
    },
    {
      "cell_type": "code",
      "source": [
        "# Extraer el límite máximo (poner alias a la columna como \"MAX_LIM\") que se le da a los clientes de Sevilla\n",
        "query = '''\n",
        "\n",
        "\n",
        "\n",
        "\n",
        " '''\n",
        "\n",
        "cursor.execute(query)\n",
        "conexion.commit()\n",
        "cols = [description[0] for description in cursor.description]\n",
        "pd.DataFrame(cursor.fetchall(), columns=cols)"
      ],
      "metadata": {
        "id": "6TErVfCI2WaQ"
      },
      "execution_count": null,
      "outputs": []
    },
    {
      "cell_type": "code",
      "source": [
        "# Escribir una consulta para traer todos los datos que tiene la tabla departamentos\n",
        "query = '''\n",
        "\n",
        "\n",
        "\n",
        "\n",
        " '''\n",
        "\n",
        "cursor.execute(query)\n",
        "conexion.commit()\n",
        "cols = [description[0] for description in cursor.description]\n",
        "pd.DataFrame(cursor.fetchall(), columns=cols)"
      ],
      "metadata": {
        "id": "FsjvH-GK1lcB"
      },
      "execution_count": null,
      "outputs": []
    },
    {
      "cell_type": "code",
      "source": [
        "# Realizar una consulta que devuelva una abreviacion de los nombres de los departamentos con las primeras tres letras y además traiga todas las columnas.\n",
        "query = '''\n",
        "\n",
        "\n",
        "\n",
        "\n",
        " '''\n",
        "\n",
        "cursor.execute(query)\n",
        "conexion.commit()\n",
        "cols = [description[0] for description in cursor.description]\n",
        "pd.DataFrame(cursor.fetchall(), columns=cols)"
      ],
      "metadata": {
        "id": "ZHYhtdOe3m7T"
      },
      "execution_count": null,
      "outputs": []
    },
    {
      "cell_type": "code",
      "source": [
        "# Escribir una consulta para traer todos los datos que tiene la tabla empleados\n",
        "query = '''\n",
        "\n",
        "\n",
        "\n",
        "\n",
        " '''\n",
        "\n",
        "cursor.execute(query)\n",
        "conexion.commit()\n",
        "cols = [description[0] for description in cursor.description]\n",
        "pd.DataFrame(cursor.fetchall(), columns=cols)"
      ],
      "metadata": {
        "id": "yyhs_kRR1vtK"
      },
      "execution_count": null,
      "outputs": []
    },
    {
      "cell_type": "code",
      "source": [
        "# Escribir una consulta que devuelva todos los datos de los vendedores cuyo apellido empiecen con M\n",
        "query = '''\n",
        "\n",
        "\n",
        "\n",
        "\n",
        " '''\n",
        "\n",
        "cursor.execute(query)\n",
        "conexion.commit()\n",
        "cols = [description[0] for description in cursor.description]\n",
        "pd.DataFrame(cursor.fetchall(), columns=cols)"
      ],
      "metadata": {
        "id": "ujw2LgjV7A-a"
      },
      "execution_count": null,
      "outputs": []
    },
    {
      "cell_type": "code",
      "source": [
        "# Escribir una consulta que devuelva solo los apellidos de los empleados que no tienen comision cargada en la tabla\n",
        "query = '''\n",
        "\n",
        "\n",
        "\n",
        "\n",
        " '''\n",
        "\n",
        "cursor.execute(query)\n",
        "conexion.commit()\n",
        "cols = [description[0] for description in cursor.description]\n",
        "pd.DataFrame(cursor.fetchall(), columns=cols)"
      ],
      "metadata": {
        "id": "6U5ITFzl7jth"
      },
      "execution_count": null,
      "outputs": []
    },
    {
      "cell_type": "code",
      "source": [
        "# Escribir una consulta que devuelva todos los datos de los empleados que han ingresado a la empresa desde 1982\n",
        "query = '''\n",
        "\n",
        "\n",
        "\n",
        "\n",
        " '''\n",
        "\n",
        "cursor.execute(query)\n",
        "conexion.commit()\n",
        "cols = [description[0] for description in cursor.description]\n",
        "pd.DataFrame(cursor.fetchall(), columns=cols)"
      ],
      "metadata": {
        "id": "xlkWijT97jqF"
      },
      "execution_count": null,
      "outputs": []
    },
    {
      "cell_type": "code",
      "source": [
        "# Escribir una consulta que devuelva el total de salario y comisiones de los empleados que entraron a trabajar en 1981  (con un alias que diga \"total_adeudado\")\n",
        "query = '''\n",
        "\n",
        "\n",
        "\n",
        "\n",
        " '''\n",
        "\n",
        "cursor.execute(query)\n",
        "conexion.commit()\n",
        "cols = [description[0] for description in cursor.description]\n",
        "pd.DataFrame(cursor.fetchall(), columns=cols)"
      ],
      "metadata": {
        "id": "ruiqXmnp7jnu"
      },
      "execution_count": null,
      "outputs": []
    },
    {
      "cell_type": "code",
      "source": [
        "# Escribir una consulta para traer todos los datos que tiene la tabla pedidos\n",
        "query = '''\n",
        "\n",
        "\n",
        "\n",
        "\n",
        " '''\n",
        "\n",
        "cursor.execute(query)\n",
        "conexion.commit()\n",
        "cols = [description[0] for description in cursor.description]\n",
        "pd.DataFrame(cursor.fetchall(), columns=cols)"
      ],
      "metadata": {
        "id": "3TlLyp3p12en"
      },
      "execution_count": null,
      "outputs": []
    },
    {
      "cell_type": "code",
      "source": [
        "# Escribir una consulta que devuelva la cantidad de unidades solicitadas por cada cliente y cada producto\n",
        "query = '''\n",
        "\n",
        "\n",
        "\n",
        " '''\n",
        "\n",
        "cursor.execute(query)\n",
        "conexion.commit()\n",
        "cols = [description[0] for description in cursor.description]\n",
        "pd.DataFrame(cursor.fetchall(), columns=cols)"
      ],
      "metadata": {
        "id": "0gB10-CJ9wzr"
      },
      "execution_count": null,
      "outputs": []
    },
    {
      "cell_type": "code",
      "source": [
        "# Escribir una consulta que devuelva la cantidad de productos diferentes que ha pedido cada cliente\n",
        "query = '''\n",
        "\n",
        "\n",
        "\n",
        "\n",
        " '''\n",
        "\n",
        "cursor.execute(query)\n",
        "conexion.commit()\n",
        "cols = [description[0] for description in cursor.description]\n",
        "pd.DataFrame(cursor.fetchall(), columns=cols)"
      ],
      "metadata": {
        "id": "kaFAVsif_Pld"
      },
      "execution_count": null,
      "outputs": []
    },
    {
      "cell_type": "code",
      "source": [
        "# Escribir una consulta para traer todos los datos que tiene la tabla productos\n",
        "query = '''\n",
        "\n",
        "\n",
        "\n",
        "\n",
        " '''\n",
        "\n",
        "cursor.execute(query)\n",
        "conexion.commit()\n",
        "cols = [description[0] for description in cursor.description]\n",
        "pd.DataFrame(cursor.fetchall(), columns=cols)"
      ],
      "metadata": {
        "id": "mK4_KQSr18Kt"
      },
      "execution_count": null,
      "outputs": []
    },
    {
      "cell_type": "code",
      "source": [
        "# Escribir una consulta que devuelva una columna con el tipo de producto antes de la descripcion\n",
        "query = '''\n",
        "\n",
        "\n",
        "\n",
        "\n",
        " '''\n",
        "\n",
        "cursor.execute(query)\n",
        "conexion.commit()\n",
        "cols = [description[0] for description in cursor.description]\n",
        "pd.DataFrame(cursor.fetchall(), columns=cols)"
      ],
      "metadata": {
        "id": "7YwyoinOtG2S"
      },
      "execution_count": null,
      "outputs": []
    },
    {
      "cell_type": "code",
      "source": [
        "# Escribir una consulta que devuelva el total de stock de productos tipo mesa\n",
        "query = '''\n",
        "\n",
        "\n",
        "\n",
        "\n",
        " '''\n",
        "\n",
        "cursor.execute(query)\n",
        "conexion.commit()\n",
        "cols = [description[0] for description in cursor.description]\n",
        "pd.DataFrame(cursor.fetchall(), columns=cols)"
      ],
      "metadata": {
        "id": "Ni1BDuHF02i-"
      },
      "execution_count": null,
      "outputs": []
    }
  ]
}