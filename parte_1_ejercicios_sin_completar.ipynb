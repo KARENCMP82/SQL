{
  "nbformat": 4,
  "nbformat_minor": 0,
  "metadata": {
    "colab": {
      "provenance": [],
      "include_colab_link": true
    },
    "kernelspec": {
      "name": "python3",
      "display_name": "Python 3"
    },
    "language_info": {
      "name": "python"
    }
  },
  "cells": [
    {
      "cell_type": "markdown",
      "metadata": {
        "id": "view-in-github",
        "colab_type": "text"
      },
      "source": [
        "<a href=\"https://colab.research.google.com/github/KARENCMP82/SQL/blob/main/parte_1_ejercicios_sin_completar.ipynb\" target=\"_parent\"><img src=\"https://colab.research.google.com/assets/colab-badge.svg\" alt=\"Open In Colab\"/></a>"
      ]
    },
    {
      "cell_type": "markdown",
      "metadata": {
        "id": "uICsMH50Hr4p"
      },
      "source": [
        "# SQL en Google Colab con la librería SQLite.\n",
        "\n",
        "\n",
        "[Librería SQLite](https://www.sqlitetutorial.net/)\n",
        "\n",
        "\n",
        "\n",
        "\n",
        "## Importamos las librerias y montamos el drive de Google en nuestro Colab"
      ]
    },
    {
      "cell_type": "code",
      "metadata": {
        "id": "4fmFowAitNrY"
      },
      "source": [
        "from google.colab import drive\n",
        "drive.mount('/content/drive', force_remount=True)"
      ],
      "execution_count": null,
      "outputs": []
    },
    {
      "cell_type": "code",
      "metadata": {
        "id": "RHqSym1NJVID"
      },
      "source": [
        "import sqlite3\n",
        "import pandas as pd"
      ],
      "execution_count": null,
      "outputs": []
    },
    {
      "cell_type": "code",
      "metadata": {
        "id": "Tejg_ytpXns_"
      },
      "source": [
        "database = '/content/drive/MyDrive/xxxxxxxxx vuestra ruta xxxxxxxxxxxxxxxxx/parte1.db'\n",
        "conexion = sqlite3.connect(database)\n",
        "cursor = conexion.cursor()"
      ],
      "execution_count": null,
      "outputs": []
    },
    {
      "cell_type": "markdown",
      "source": [
        "#Parte 1 ejercicios:"
      ],
      "metadata": {
        "id": "pfZRg2VtTRt4"
      }
    },
    {
      "cell_type": "code",
      "source": [
        "query = '''\n",
        "\n",
        "SELECT\n",
        "    name\n",
        "FROM\n",
        "    sqlite_master\n",
        "WHERE\n",
        "    type ='table' AND\n",
        "    name NOT LIKE 'sqlite_%';\n",
        " '''\n",
        "\n",
        "cursor.execute(query)\n",
        "conexion.commit()\n",
        "cols = [description[0] for description in cursor.description]\n",
        "pd.DataFrame(cursor.fetchall(), columns=cols)"
      ],
      "metadata": {
        "id": "3VWkRQ540qWy"
      },
      "execution_count": null,
      "outputs": []
    },
    {
      "cell_type": "code",
      "source": [
        "# Escribir una consulta para traer todos los datos que tiene la tabla clientes\n",
        "\n",
        "query = '''\n",
        "\n",
        "\n",
        "\n",
        " '''\n",
        "\n",
        "cursor.execute(query)\n",
        "conexion.commit()\n",
        "cols = [description[0] for description in cursor.description]\n",
        "pd.DataFrame(cursor.fetchall(), columns=cols)"
      ],
      "metadata": {
        "id": "yjkpezQv1WW0"
      },
      "execution_count": null,
      "outputs": []
    },
    {
      "cell_type": "code",
      "source": [
        "# Traer todos los datos del cliente 101 y el cliente 106\n",
        "\n",
        "query = '''\n",
        "\n",
        "\n",
        "\n",
        " '''\n",
        "\n",
        "cursor.execute(query)\n",
        "conexion.commit()\n",
        "cols = [description[0] for description in cursor.description]\n",
        "pd.DataFrame(cursor.fetchall(), columns=cols)"
      ],
      "metadata": {
        "id": "EYB9umPe2CCJ"
      },
      "execution_count": null,
      "outputs": []
    },
    {
      "cell_type": "code",
      "source": [
        "# Extraer los nombres de los clientes ubicados en Sevilla\n",
        "query = '''\n",
        "\n",
        "\n",
        "\n",
        "\n",
        " '''\n",
        "\n",
        "cursor.execute(query)\n",
        "conexion.commit()\n",
        "cols = [description[0] for description in cursor.description]\n",
        "pd.DataFrame(cursor.fetchall(), columns=cols)"
      ],
      "metadata": {
        "id": "SqoDRF292Wcn"
      },
      "execution_count": null,
      "outputs": []
    },
    {
      "cell_type": "code",
      "source": [
        "# Extraer el límite máximo (poner alias a la columna como \"MAX_LIM\") que se le da a los clientes de Sevilla\n",
        "query = '''\n",
        "\n",
        "\n",
        "\n",
        "\n",
        " '''\n",
        "\n",
        "cursor.execute(query)\n",
        "conexion.commit()\n",
        "cols = [description[0] for description in cursor.description]\n",
        "pd.DataFrame(cursor.fetchall(), columns=cols)"
      ],
      "metadata": {
        "id": "6TErVfCI2WaQ"
      },
      "execution_count": null,
      "outputs": []
    },
    {
      "cell_type": "code",
      "source": [
        "# Escribir una consulta para traer todos los datos que tiene la tabla departamentos\n",
        "query = '''\n",
        "\n",
        "\n",
        "\n",
        "\n",
        " '''\n",
        "\n",
        "cursor.execute(query)\n",
        "conexion.commit()\n",
        "cols = [description[0] for description in cursor.description]\n",
        "pd.DataFrame(cursor.fetchall(), columns=cols)"
      ],
      "metadata": {
        "id": "FsjvH-GK1lcB"
      },
      "execution_count": null,
      "outputs": []
    },
    {
      "cell_type": "code",
      "source": [
        "# Realizar una consulta que devuelva una abreviacion de los nombres de los departamentos con las primeras tres letras y además traiga todas las columnas.\n",
        "query = '''\n",
        "\n",
        "\n",
        "\n",
        "\n",
        " '''\n",
        "\n",
        "cursor.execute(query)\n",
        "conexion.commit()\n",
        "cols = [description[0] for description in cursor.description]\n",
        "pd.DataFrame(cursor.fetchall(), columns=cols)"
      ],
      "metadata": {
        "id": "ZHYhtdOe3m7T"
      },
      "execution_count": null,
      "outputs": []
    },
    {
      "cell_type": "code",
      "source": [
        "# Escribir una consulta para traer todos los datos que tiene la tabla empleados\n",
        "query = '''\n",
        "\n",
        "\n",
        "\n",
        "\n",
        " '''\n",
        "\n",
        "cursor.execute(query)\n",
        "conexion.commit()\n",
        "cols = [description[0] for description in cursor.description]\n",
        "pd.DataFrame(cursor.fetchall(), columns=cols)"
      ],
      "metadata": {
        "id": "yyhs_kRR1vtK"
      },
      "execution_count": null,
      "outputs": []
    },
    {
      "cell_type": "code",
      "source": [
        "# Escribir una consulta que devuelva todos los datos de los vendedores cuyo apellido empiecen con M\n",
        "query = '''\n",
        "\n",
        "\n",
        "\n",
        "\n",
        " '''\n",
        "\n",
        "cursor.execute(query)\n",
        "conexion.commit()\n",
        "cols = [description[0] for description in cursor.description]\n",
        "pd.DataFrame(cursor.fetchall(), columns=cols)"
      ],
      "metadata": {
        "id": "ujw2LgjV7A-a"
      },
      "execution_count": null,
      "outputs": []
    },
    {
      "cell_type": "code",
      "source": [
        "# Escribir una consulta que devuelva solo los apellidos de los empleados que no tienen comision cargada en la tabla\n",
        "query = '''\n",
        "\n",
        "\n",
        "\n",
        "\n",
        " '''\n",
        "\n",
        "cursor.execute(query)\n",
        "conexion.commit()\n",
        "cols = [description[0] for description in cursor.description]\n",
        "pd.DataFrame(cursor.fetchall(), columns=cols)"
      ],
      "metadata": {
        "id": "6U5ITFzl7jth"
      },
      "execution_count": null,
      "outputs": []
    },
    {
      "cell_type": "code",
      "source": [
        "# Escribir una consulta que devuelva todos los datos de los empleados que han ingresado a la empresa desde 1982\n",
        "query = '''\n",
        "\n",
        "\n",
        "\n",
        "\n",
        " '''\n",
        "\n",
        "cursor.execute(query)\n",
        "conexion.commit()\n",
        "cols = [description[0] for description in cursor.description]\n",
        "pd.DataFrame(cursor.fetchall(), columns=cols)"
      ],
      "metadata": {
        "id": "xlkWijT97jqF"
      },
      "execution_count": null,
      "outputs": []
    },
    {
      "cell_type": "code",
      "source": [
        "# Escribir una consulta que devuelva el total de salario y comisiones de los empleados que entraron a trabajar en 1981  (con un alias que diga \"total_adeudado\")\n",
        "query = '''\n",
        "\n",
        "\n",
        "\n",
        "\n",
        " '''\n",
        "\n",
        "cursor.execute(query)\n",
        "conexion.commit()\n",
        "cols = [description[0] for description in cursor.description]\n",
        "pd.DataFrame(cursor.fetchall(), columns=cols)"
      ],
      "metadata": {
        "id": "ruiqXmnp7jnu"
      },
      "execution_count": null,
      "outputs": []
    },
    {
      "cell_type": "code",
      "source": [
        "# Escribir una consulta para traer todos los datos que tiene la tabla pedidos\n",
        "query = '''\n",
        "\n",
        "\n",
        "\n",
        "\n",
        " '''\n",
        "\n",
        "cursor.execute(query)\n",
        "conexion.commit()\n",
        "cols = [description[0] for description in cursor.description]\n",
        "pd.DataFrame(cursor.fetchall(), columns=cols)"
      ],
      "metadata": {
        "id": "3TlLyp3p12en"
      },
      "execution_count": null,
      "outputs": []
    },
    {
      "cell_type": "code",
      "source": [
        "# Escribir una consulta que devuelva la cantidad de unidades solicitadas por cada cliente y cada producto\n",
        "query = '''\n",
        "\n",
        "\n",
        "\n",
        " '''\n",
        "\n",
        "cursor.execute(query)\n",
        "conexion.commit()\n",
        "cols = [description[0] for description in cursor.description]\n",
        "pd.DataFrame(cursor.fetchall(), columns=cols)"
      ],
      "metadata": {
        "id": "0gB10-CJ9wzr"
      },
      "execution_count": null,
      "outputs": []
    },
    {
      "cell_type": "code",
      "source": [
        "# Escribir una consulta que devuelva la cantidad de productos diferentes que ha pedido cada cliente\n",
        "query = '''\n",
        "\n",
        "\n",
        "\n",
        "\n",
        " '''\n",
        "\n",
        "cursor.execute(query)\n",
        "conexion.commit()\n",
        "cols = [description[0] for description in cursor.description]\n",
        "pd.DataFrame(cursor.fetchall(), columns=cols)"
      ],
      "metadata": {
        "id": "kaFAVsif_Pld"
      },
      "execution_count": null,
      "outputs": []
    },
    {
      "cell_type": "code",
      "source": [
        "# Escribir una consulta para traer todos los datos que tiene la tabla productos\n",
        "query = '''\n",
        "\n",
        "\n",
        "\n",
        "\n",
        " '''\n",
        "\n",
        "cursor.execute(query)\n",
        "conexion.commit()\n",
        "cols = [description[0] for description in cursor.description]\n",
        "pd.DataFrame(cursor.fetchall(), columns=cols)"
      ],
      "metadata": {
        "id": "mK4_KQSr18Kt"
      },
      "execution_count": null,
      "outputs": []
    },
    {
      "cell_type": "code",
      "source": [
        "# Escribir una consulta que devuelva una columna con el tipo de producto antes de la descripcion\n",
        "query = '''\n",
        "\n",
        "\n",
        "\n",
        "\n",
        " '''\n",
        "\n",
        "cursor.execute(query)\n",
        "conexion.commit()\n",
        "cols = [description[0] for description in cursor.description]\n",
        "pd.DataFrame(cursor.fetchall(), columns=cols)"
      ],
      "metadata": {
        "id": "7YwyoinOtG2S"
      },
      "execution_count": null,
      "outputs": []
    },
    {
      "cell_type": "code",
      "source": [
        "# Escribir una consulta que devuelva el total de stock de productos tipo mesa\n",
        "query = '''\n",
        "\n",
        "\n",
        "\n",
        "\n",
        " '''\n",
        "\n",
        "cursor.execute(query)\n",
        "conexion.commit()\n",
        "cols = [description[0] for description in cursor.description]\n",
        "pd.DataFrame(cursor.fetchall(), columns=cols)"
      ],
      "metadata": {
        "id": "Ni1BDuHF02i-"
      },
      "execution_count": null,
      "outputs": []
    }
  ]
}