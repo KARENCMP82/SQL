{
  "nbformat": 4,
  "nbformat_minor": 0,
  "metadata": {
    "colab": {
      "provenance": [],
      "include_colab_link": true
    },
    "kernelspec": {
      "name": "python3",
      "display_name": "Python 3"
    },
    "language_info": {
      "name": "python"
    }
  },
  "cells": [
    {
      "cell_type": "markdown",
      "metadata": {
        "id": "view-in-github",
        "colab_type": "text"
      },
      "source": [
        "<a href=\"https://colab.research.google.com/github/KARENCMP82/SQL/blob/main/parte_1_ejercicios_sin_completar.ipynb\" target=\"_parent\"><img src=\"https://colab.research.google.com/assets/colab-badge.svg\" alt=\"Open In Colab\"/></a>"
      ]
    },
    {
      "cell_type": "markdown",
      "metadata": {
        "id": "uICsMH50Hr4p"
      },
      "source": [
        "# SQL en Google Colab con la librería SQLite.\n",
        "\n",
        "\n",
        "[Librería SQLite](https://www.sqlitetutorial.net/)\n",
        "\n",
        "\n",
        "\n",
        "\n",
        "## Importamos las librerias y montamos el drive de Google en nuestro Colab"
      ]
    },
    {
      "cell_type": "code",
      "metadata": {
        "id": "4fmFowAitNrY"
      },
      "source": [],
      "execution_count": null,
      "outputs": []
    },
    {
      "cell_type": "code",
      "metadata": {
        "id": "RHqSym1NJVID",
        "colab": {
          "base_uri": "https://localhost:8080/",
          "height": 73
        },
        "outputId": "c8f4be94-82df-4d09-b75f-0bc793e3f52a"
      },
      "source": [
        "#from google.colab import drive\n",
        "#drive.mount('/content/drive', force_remount=True)\n",
        "from google.colab import files\n",
        "load=files.upload()"
      ],
      "execution_count": 7,
      "outputs": [
        {
          "output_type": "display_data",
          "data": {
            "text/plain": [
              "<IPython.core.display.HTML object>"
            ],
            "text/html": [
              "\n",
              "     <input type=\"file\" id=\"files-44309e4d-574f-40cb-aea7-2025a76e3332\" name=\"files[]\" multiple disabled\n",
              "        style=\"border:none\" />\n",
              "     <output id=\"result-44309e4d-574f-40cb-aea7-2025a76e3332\">\n",
              "      Upload widget is only available when the cell has been executed in the\n",
              "      current browser session. Please rerun this cell to enable.\n",
              "      </output>\n",
              "      <script>// Copyright 2017 Google LLC\n",
              "//\n",
              "// Licensed under the Apache License, Version 2.0 (the \"License\");\n",
              "// you may not use this file except in compliance with the License.\n",
              "// You may obtain a copy of the License at\n",
              "//\n",
              "//      http://www.apache.org/licenses/LICENSE-2.0\n",
              "//\n",
              "// Unless required by applicable law or agreed to in writing, software\n",
              "// distributed under the License is distributed on an \"AS IS\" BASIS,\n",
              "// WITHOUT WARRANTIES OR CONDITIONS OF ANY KIND, either express or implied.\n",
              "// See the License for the specific language governing permissions and\n",
              "// limitations under the License.\n",
              "\n",
              "/**\n",
              " * @fileoverview Helpers for google.colab Python module.\n",
              " */\n",
              "(function(scope) {\n",
              "function span(text, styleAttributes = {}) {\n",
              "  const element = document.createElement('span');\n",
              "  element.textContent = text;\n",
              "  for (const key of Object.keys(styleAttributes)) {\n",
              "    element.style[key] = styleAttributes[key];\n",
              "  }\n",
              "  return element;\n",
              "}\n",
              "\n",
              "// Max number of bytes which will be uploaded at a time.\n",
              "const MAX_PAYLOAD_SIZE = 100 * 1024;\n",
              "\n",
              "function _uploadFiles(inputId, outputId) {\n",
              "  const steps = uploadFilesStep(inputId, outputId);\n",
              "  const outputElement = document.getElementById(outputId);\n",
              "  // Cache steps on the outputElement to make it available for the next call\n",
              "  // to uploadFilesContinue from Python.\n",
              "  outputElement.steps = steps;\n",
              "\n",
              "  return _uploadFilesContinue(outputId);\n",
              "}\n",
              "\n",
              "// This is roughly an async generator (not supported in the browser yet),\n",
              "// where there are multiple asynchronous steps and the Python side is going\n",
              "// to poll for completion of each step.\n",
              "// This uses a Promise to block the python side on completion of each step,\n",
              "// then passes the result of the previous step as the input to the next step.\n",
              "function _uploadFilesContinue(outputId) {\n",
              "  const outputElement = document.getElementById(outputId);\n",
              "  const steps = outputElement.steps;\n",
              "\n",
              "  const next = steps.next(outputElement.lastPromiseValue);\n",
              "  return Promise.resolve(next.value.promise).then((value) => {\n",
              "    // Cache the last promise value to make it available to the next\n",
              "    // step of the generator.\n",
              "    outputElement.lastPromiseValue = value;\n",
              "    return next.value.response;\n",
              "  });\n",
              "}\n",
              "\n",
              "/**\n",
              " * Generator function which is called between each async step of the upload\n",
              " * process.\n",
              " * @param {string} inputId Element ID of the input file picker element.\n",
              " * @param {string} outputId Element ID of the output display.\n",
              " * @return {!Iterable<!Object>} Iterable of next steps.\n",
              " */\n",
              "function* uploadFilesStep(inputId, outputId) {\n",
              "  const inputElement = document.getElementById(inputId);\n",
              "  inputElement.disabled = false;\n",
              "\n",
              "  const outputElement = document.getElementById(outputId);\n",
              "  outputElement.innerHTML = '';\n",
              "\n",
              "  const pickedPromise = new Promise((resolve) => {\n",
              "    inputElement.addEventListener('change', (e) => {\n",
              "      resolve(e.target.files);\n",
              "    });\n",
              "  });\n",
              "\n",
              "  const cancel = document.createElement('button');\n",
              "  inputElement.parentElement.appendChild(cancel);\n",
              "  cancel.textContent = 'Cancel upload';\n",
              "  const cancelPromise = new Promise((resolve) => {\n",
              "    cancel.onclick = () => {\n",
              "      resolve(null);\n",
              "    };\n",
              "  });\n",
              "\n",
              "  // Wait for the user to pick the files.\n",
              "  const files = yield {\n",
              "    promise: Promise.race([pickedPromise, cancelPromise]),\n",
              "    response: {\n",
              "      action: 'starting',\n",
              "    }\n",
              "  };\n",
              "\n",
              "  cancel.remove();\n",
              "\n",
              "  // Disable the input element since further picks are not allowed.\n",
              "  inputElement.disabled = true;\n",
              "\n",
              "  if (!files) {\n",
              "    return {\n",
              "      response: {\n",
              "        action: 'complete',\n",
              "      }\n",
              "    };\n",
              "  }\n",
              "\n",
              "  for (const file of files) {\n",
              "    const li = document.createElement('li');\n",
              "    li.append(span(file.name, {fontWeight: 'bold'}));\n",
              "    li.append(span(\n",
              "        `(${file.type || 'n/a'}) - ${file.size} bytes, ` +\n",
              "        `last modified: ${\n",
              "            file.lastModifiedDate ? file.lastModifiedDate.toLocaleDateString() :\n",
              "                                    'n/a'} - `));\n",
              "    const percent = span('0% done');\n",
              "    li.appendChild(percent);\n",
              "\n",
              "    outputElement.appendChild(li);\n",
              "\n",
              "    const fileDataPromise = new Promise((resolve) => {\n",
              "      const reader = new FileReader();\n",
              "      reader.onload = (e) => {\n",
              "        resolve(e.target.result);\n",
              "      };\n",
              "      reader.readAsArrayBuffer(file);\n",
              "    });\n",
              "    // Wait for the data to be ready.\n",
              "    let fileData = yield {\n",
              "      promise: fileDataPromise,\n",
              "      response: {\n",
              "        action: 'continue',\n",
              "      }\n",
              "    };\n",
              "\n",
              "    // Use a chunked sending to avoid message size limits. See b/62115660.\n",
              "    let position = 0;\n",
              "    do {\n",
              "      const length = Math.min(fileData.byteLength - position, MAX_PAYLOAD_SIZE);\n",
              "      const chunk = new Uint8Array(fileData, position, length);\n",
              "      position += length;\n",
              "\n",
              "      const base64 = btoa(String.fromCharCode.apply(null, chunk));\n",
              "      yield {\n",
              "        response: {\n",
              "          action: 'append',\n",
              "          file: file.name,\n",
              "          data: base64,\n",
              "        },\n",
              "      };\n",
              "\n",
              "      let percentDone = fileData.byteLength === 0 ?\n",
              "          100 :\n",
              "          Math.round((position / fileData.byteLength) * 100);\n",
              "      percent.textContent = `${percentDone}% done`;\n",
              "\n",
              "    } while (position < fileData.byteLength);\n",
              "  }\n",
              "\n",
              "  // All done.\n",
              "  yield {\n",
              "    response: {\n",
              "      action: 'complete',\n",
              "    }\n",
              "  };\n",
              "}\n",
              "\n",
              "scope.google = scope.google || {};\n",
              "scope.google.colab = scope.google.colab || {};\n",
              "scope.google.colab._files = {\n",
              "  _uploadFiles,\n",
              "  _uploadFilesContinue,\n",
              "};\n",
              "})(self);\n",
              "</script> "
            ]
          },
          "metadata": {}
        },
        {
          "output_type": "stream",
          "name": "stdout",
          "text": [
            "Saving parte1.db to parte1.db\n"
          ]
        }
      ]
    },
    {
      "cell_type": "code",
      "metadata": {
        "id": "Tejg_ytpXns_",
        "colab": {
          "base_uri": "https://localhost:8080/"
        },
        "outputId": "58d310a4-b960-400a-ce80-abf3f21fc9d8"
      },
      "source": [
        "import sqlite3\n",
        "import pandas as pd\n",
        "\n",
        "# Conexión a la base de datos SQLite\n",
        "conexion = sqlite3.connect('parte1.db')\n",
        "\n",
        "# Consulta SQL\n",
        "query = \"SELECT * FROM empleados;\"  # Ajusta la consulta según la estructura de tu base de datos\n",
        "\n",
        "# Leer los datos en un DataFrame de pandas\n",
        "data = pd.read_sql_query(query, conexion)\n",
        "\n",
        "# Mostrar los primeros registros\n",
        "print(data.head())\n",
        "\n",
        "# Cerrar la conexión\n",
        "conexion.close()"
      ],
      "execution_count": 8,
      "outputs": [
        {
          "output_type": "stream",
          "name": "stdout",
          "text": [
            "   EMP_NO  APELLIDO    OFICIO  DIRECTOR  FECHA_AL  SALARIO  DEP_NO  COMISION\n",
            "0    7499    ALONSO  VENDEDOR    7698.0  20/02/81    14000      30    4000.0\n",
            "1    7521     LOPEZ  EMPLEADO    7782.0  08/05/81    13500      10       NaN\n",
            "2    7654    MARTIN  VENDEDOR    7698.0  28/09/81    15000      30   16000.0\n",
            "3    7698   GARRIDO  DIRECTOR    7839.0  01/05/81    38500      30       NaN\n",
            "4    7782  MARTINEZ  DIRECTOR    7839.0  09/06/81    24500      10       NaN\n"
          ]
        }
      ]
    },
    {
      "cell_type": "markdown",
      "source": [
        "#Parte 1 ejercicios:"
      ],
      "metadata": {
        "id": "pfZRg2VtTRt4"
      }
    },
    {
      "cell_type": "code",
      "source": [
        "# Escribir una consulta para traer todos los datos que tiene la tabla clientes\n",
        "import sqlite3\n",
        "import pandas as pd\n",
        "\n",
        "# Conexión a la base de datos SQLite\n",
        "conexion = sqlite3.connect('parte1.db')\n",
        "\n",
        "# Consulta SQL\n",
        "query = \"SELECT * FROM clientes;\"  # Ajusta la consulta según la estructura de tu base de datos\n",
        "\n",
        "# Leer los datos en un DataFrame de pandas\n",
        "data = pd.read_sql_query(query, conexion)\n",
        "\n",
        "# Mostrar los primeros registros\n",
        "print(data.head())\n",
        "\n",
        "# Cerrar la conexión\n",
        "conexion.close()"
      ],
      "metadata": {
        "id": "yjkpezQv1WW0",
        "colab": {
          "base_uri": "https://localhost:8080/"
        },
        "outputId": "97234bb9-8ae4-41f2-f865-4a1cce8263de"
      },
      "execution_count": 10,
      "outputs": [
        {
          "output_type": "stream",
          "name": "stdout",
          "text": [
            "   CLIENTE_NO                   NOMBRE  LOCALIDAD  VENDEDOR_NO  DEBE  HABER  \\\n",
            "0         101     DISTRIBUCIONES GOMEZ     MADRID         7499     0      0   \n",
            "1         102          LOGITRONICA S.L  BARCELONA         7654     0      0   \n",
            "2         103  INDUSTRIAS LACTEAS S.A.  LAS ROZAS         7844     0      0   \n",
            "3         104     TALLERES ESTESO S.A.    SEVILLA         7654     0      0   \n",
            "4         105           EDICIONES SANZ  BARCELONA         7499     0      0   \n",
            "\n",
            "   LIMITE_CREDITO  \n",
            "0           50000  \n",
            "1           50000  \n",
            "2          100000  \n",
            "3           50000  \n",
            "4           50000  \n"
          ]
        }
      ]
    },
    {
      "cell_type": "code",
      "source": [
        "# Traer todos los datos del cliente 101 y el cliente 106\n",
        "\n",
        "import sqlite3\n",
        "import pandas as pd\n",
        "\n",
        "# Conexión a la base de datos SQLite\n",
        "conexion = sqlite3.connect('parte1.db')\n",
        "\n",
        "# Consulta SQL\n",
        "query = \"SELECT * FROM clientes WHERE CLIENTE_NO IN (101, 106);\"  # Ajusta la consulta según la estructura de tu base de datos\n",
        "\n",
        "# Leer los datos en un DataFrame de pandas\n",
        "data = pd.read_sql_query(query, conexion)\n",
        "\n",
        "# Mostrar los primeros registros\n",
        "print(data.head())\n",
        "\n",
        "# Cerrar la conexión\n",
        "conexion.close()"
      ],
      "metadata": {
        "id": "EYB9umPe2CCJ",
        "colab": {
          "base_uri": "https://localhost:8080/"
        },
        "outputId": "e132ee70-5a35-410b-a4d7-8334a56f20ca"
      },
      "execution_count": 16,
      "outputs": [
        {
          "output_type": "stream",
          "name": "stdout",
          "text": [
            "   CLIENTE_NO                NOMBRE LOCALIDAD  VENDEDOR_NO  DEBE  HABER  \\\n",
            "0         101  DISTRIBUCIONES GOMEZ    MADRID         7499     0      0   \n",
            "1         106       SIGNOLOGIC S.A.    MADRID         7654     0      0   \n",
            "\n",
            "   LIMITE_CREDITO  \n",
            "0           50000  \n",
            "1           50000  \n"
          ]
        }
      ]
    },
    {
      "cell_type": "code",
      "source": [
        "# Extraer los nombres de los clientes ubicados en Sevilla\n",
        "import sqlite3\n",
        "import pandas as pd\n",
        "\n",
        "# Conexión a la base de datos SQLite\n",
        "conexion = sqlite3.connect('parte1.db')\n",
        "\n",
        "# Consulta SQL\n",
        "query = \"SELECT * FROM clientes where localidad='SEVILLA';\"  # Ajusta la consulta según la estructura de tu base de datos\n",
        "\n",
        "# Leer los datos en un DataFrame de pandas\n",
        "data = pd.read_sql_query(query, conexion)\n",
        "\n",
        "# Mostrar los primeros registros\n",
        "print(data.head())\n",
        "\n",
        "# Cerrar la conexión\n",
        "conexion.close()"
      ],
      "metadata": {
        "id": "SqoDRF292Wcn",
        "colab": {
          "base_uri": "https://localhost:8080/"
        },
        "outputId": "9d8fbbeb-df41-4ab0-cf23-60c14da8b13c"
      },
      "execution_count": 17,
      "outputs": [
        {
          "output_type": "stream",
          "name": "stdout",
          "text": [
            "   CLIENTE_NO                 NOMBRE LOCALIDAD  VENDEDOR_NO  DEBE  HABER  \\\n",
            "0         104   TALLERES ESTESO S.A.   SEVILLA         7654     0      0   \n",
            "1         108  MANUFACTURAS ALI S.A.   SEVILLA         7654     0      0   \n",
            "\n",
            "   LIMITE_CREDITO  \n",
            "0           50000  \n",
            "1           50000  \n"
          ]
        }
      ]
    },
    {
      "cell_type": "code",
      "source": [
        "# Extraer el límite máximo (poner alias a la columna como \"MAX_LIM\") que se le da a los clientes de Sevilla\n",
        "import sqlite3\n",
        "import pandas as pd\n",
        "\n",
        "# Conexión a la base de datos SQLite\n",
        "conexion = sqlite3.connect('parte1.db')\n",
        "\n",
        "# Consulta SQL\n",
        "query = \"SELECT  LIMITE_CREDITO AS LIMITE_MAXIMO FROM clientes WHERE LOCALIDAD='SEVILLA';\"  # Ajusta la consulta según la estructura de tu base de datos\n",
        "\n",
        "# Leer los datos en un DataFrame de pandas\n",
        "data = pd.read_sql_query(query, conexion)\n",
        "\n",
        "# Mostrar los primeros registros\n",
        "print(data.head())\n",
        "\n",
        "# Cerrar la conexión\n",
        "conexion.close()"
      ],
      "metadata": {
        "id": "6TErVfCI2WaQ",
        "colab": {
          "base_uri": "https://localhost:8080/"
        },
        "outputId": "a182edb0-968a-4b72-cf3c-aa45bd37f8d4"
      },
      "execution_count": 18,
      "outputs": [
        {
          "output_type": "stream",
          "name": "stdout",
          "text": [
            "   LIMITE_MAXIMO\n",
            "0          50000\n",
            "1          50000\n"
          ]
        }
      ]
    },
    {
      "cell_type": "code",
      "source": [
        "# Escribir una consulta para traer todos los datos que tiene la tabla departamentos\n",
        "import sqlite3\n",
        "import pandas as pd\n",
        "\n",
        "# Conexión a la base de datos SQLite\n",
        "conexion = sqlite3.connect('parte1.db')\n",
        "\n",
        "# Consulta SQL\n",
        "query = \"SELECT * FROM departamentos;\"  # Ajusta la consulta según la estructura de tu base de datos\n",
        "\n",
        "# Leer los datos en un DataFrame de pandas\n",
        "data = pd.read_sql_query(query, conexion)\n",
        "\n",
        "# Mostrar los primeros registros\n",
        "print(data.head())\n",
        "\n",
        "# Cerrar la conexión\n",
        "conexion.close()"
      ],
      "metadata": {
        "id": "FsjvH-GK1lcB",
        "colab": {
          "base_uri": "https://localhost:8080/"
        },
        "outputId": "6feec7c8-3660-432e-a82a-fedbb840611a"
      },
      "execution_count": 19,
      "outputs": [
        {
          "output_type": "stream",
          "name": "stdout",
          "text": [
            "   DEP_NO        DNOMBRE  LOCALIDAD\n",
            "0      10   CONTABILIDAD  BARCELONA\n",
            "1      20  INVESTIGACION   VALENCIA\n",
            "2      30         VENTAS     MADRID\n",
            "3      40     PRODUCCION    SEVILLA\n"
          ]
        }
      ]
    },
    {
      "cell_type": "code",
      "source": [
        "# Realizar una consulta que devuelva una abreviacion de los nombres de los departamentos con las primeras tres letras y además traiga\n",
        " # todas las columnas.\n",
        "\n",
        "import sqlite3\n",
        "import pandas as pd\n",
        "\n",
        "# Conexión a la base de datos SQLite\n",
        "conexion = sqlite3.connect('parte1.db')\n",
        "\n",
        "# Consulta SQL\n",
        "query = \"SELECT DEP_NO,SUBSTR(DNOMBRE, 1, 3) AS NOMBRE, LOCALIDAD   FROM departamentos;\"  # Ajusta la consulta según la estructura de tu base de datos\n",
        "\n",
        "# Leer los datos en un DataFrame de pandas\n",
        "data = pd.read_sql_query(query, conexion)\n",
        "\n",
        "# Mostrar los primeros registros\n",
        "print(data.head())\n",
        "\n",
        "# Cerrar la conexión\n",
        "conexion.close()"
      ],
      "metadata": {
        "id": "ZHYhtdOe3m7T",
        "colab": {
          "base_uri": "https://localhost:8080/"
        },
        "outputId": "3800433e-8043-4ba9-d1fc-7804d694cf37"
      },
      "execution_count": 20,
      "outputs": [
        {
          "output_type": "stream",
          "name": "stdout",
          "text": [
            "   DEP_NO NOMBRE  LOCALIDAD\n",
            "0      10    CON  BARCELONA\n",
            "1      20    INV   VALENCIA\n",
            "2      30    VEN     MADRID\n",
            "3      40    PRO    SEVILLA\n"
          ]
        }
      ]
    },
    {
      "cell_type": "code",
      "source": [
        "# Escribir una consulta para traer todos los datos que tiene la tabla empleados\n",
        "import sqlite3\n",
        "import pandas as pd\n",
        "\n",
        "# Conexión a la base de datos SQLite\n",
        "conexion = sqlite3.connect('parte1.db')\n",
        "\n",
        "# Consulta SQL\n",
        "query = \"SELECT * FROM empleados;\"  # Ajusta la consulta según la estructura de tu base de datos\n",
        "\n",
        "# Leer los datos en un DataFrame de pandas\n",
        "data = pd.read_sql_query(query, conexion)\n",
        "\n",
        "# Mostrar los primeros registros\n",
        "print(data.head())\n",
        "\n",
        "# Cerrar la conexión\n",
        "conexion.close()"
      ],
      "metadata": {
        "id": "yyhs_kRR1vtK",
        "colab": {
          "base_uri": "https://localhost:8080/"
        },
        "outputId": "3164fd38-bfd2-4e80-ab93-c5671822cd9b"
      },
      "execution_count": 21,
      "outputs": [
        {
          "output_type": "stream",
          "name": "stdout",
          "text": [
            "   EMP_NO  APELLIDO    OFICIO  DIRECTOR  FECHA_AL  SALARIO  DEP_NO  COMISION\n",
            "0    7499    ALONSO  VENDEDOR    7698.0  20/02/81    14000      30    4000.0\n",
            "1    7521     LOPEZ  EMPLEADO    7782.0  08/05/81    13500      10       NaN\n",
            "2    7654    MARTIN  VENDEDOR    7698.0  28/09/81    15000      30   16000.0\n",
            "3    7698   GARRIDO  DIRECTOR    7839.0  01/05/81    38500      30       NaN\n",
            "4    7782  MARTINEZ  DIRECTOR    7839.0  09/06/81    24500      10       NaN\n"
          ]
        }
      ]
    },
    {
      "cell_type": "code",
      "source": [
        "# Escribir una consulta que devuelva todos los datos de los vendedores cuyo apellido empiecen con M\n",
        "import sqlite3\n",
        "import pandas as pd\n",
        "\n",
        "# Conexión a la base de datos SQLite\n",
        "conexion = sqlite3.connect('parte1.db')\n",
        "\n",
        "# Consulta SQL\n",
        "query = \"SELECT * FROM empleados WHERE APELLIDO LIKE 'M%' ;\"  # Ajusta la consulta según la estructura de tu base de datos\n",
        "\n",
        "# Leer los datos en un DataFrame de pandas\n",
        "data = pd.read_sql_query(query, conexion)\n",
        "\n",
        "# Mostrar los primeros registros\n",
        "print(data.head())\n",
        "\n",
        "# Cerrar la conexión\n",
        "conexion.close()"
      ],
      "metadata": {
        "id": "ujw2LgjV7A-a",
        "colab": {
          "base_uri": "https://localhost:8080/"
        },
        "outputId": "e024fffa-dc27-4173-f708-f7fa805791d1"
      },
      "execution_count": 22,
      "outputs": [
        {
          "output_type": "stream",
          "name": "stdout",
          "text": [
            "   EMP_NO  APELLIDO    OFICIO  DIRECTOR  FECHA_AL  SALARIO  DEP_NO  COMISION\n",
            "0    7654    MARTIN  VENDEDOR    7698.0  28/09/81    15000      30   16000.0\n",
            "1    7782  MARTINEZ  DIRECTOR    7839.0  09/06/81    24500      10       NaN\n"
          ]
        }
      ]
    },
    {
      "cell_type": "code",
      "source": [
        "# Escribir una consulta que devuelva solo los apellidos de los empleados que no tienen comision cargada en la tabla\n",
        "import sqlite3\n",
        "import pandas as pd\n",
        "\n",
        "# Conexión a la base de datos SQLite\n",
        "conexion = sqlite3.connect('parte1.db')\n",
        "\n",
        "# Consulta SQL\n",
        "query = \"SELECT * FROM empleados WHERE COMISION is null ;\"  # Ajusta la consulta según la estructura de tu base de datos\n",
        "\n",
        "# Leer los datos en un DataFrame de pandas\n",
        "data = pd.read_sql_query(query, conexion)\n",
        "\n",
        "# Mostrar los primeros registros\n",
        "print(data.head())\n",
        "\n",
        "# Cerrar la conexión\n",
        "conexion.close()"
      ],
      "metadata": {
        "id": "6U5ITFzl7jth",
        "colab": {
          "base_uri": "https://localhost:8080/"
        },
        "outputId": "44424f98-8837-476d-9093-4eebdb80c2dd"
      },
      "execution_count": 25,
      "outputs": [
        {
          "output_type": "stream",
          "name": "stdout",
          "text": [
            "   EMP_NO  APELLIDO      OFICIO  DIRECTOR  FECHA_AL  SALARIO  DEP_NO COMISION\n",
            "0    7521     LOPEZ    EMPLEADO    7782.0  08/05/81    13500      10     None\n",
            "1    7698   GARRIDO    DIRECTOR    7839.0  01/05/81    38500      30     None\n",
            "2    7782  MARTINEZ    DIRECTOR    7839.0  09/06/81    24500      10     None\n",
            "3    7839       REY  PRESIDENTE       NaN  17/11/81    60000      10     None\n",
            "4    7876       GIL    ANALISTA    7782.0  06/05/82    33500      20     None\n"
          ]
        }
      ]
    },
    {
      "cell_type": "code",
      "source": [
        "# Escribir una consulta que devuelva todos los datos de los empleados que han ingresado a la empresa desde 1982\n",
        "\n",
        "import sqlite3\n",
        "import pandas as pd\n",
        "\n",
        "# Conexión a la base de datos SQLite\n",
        "conexion = sqlite3.connect('parte1.db')\n",
        "\n",
        "# Consulta SQL\n",
        "query = \"SELECT * FROM empleados WHERE STRFTIME('%Y', FECHA_AL) >= '1982';\"  # Ajusta la consulta según la estructura de tu base de datos\n",
        "\n",
        "# Leer los datos en un DataFrame de pandas\n",
        "data = pd.read_sql_query(query, conexion)\n",
        "\n",
        "# Mostrar los primeros registros\n",
        "print(data.head())\n",
        "\n",
        "# Cerrar la conexión\n",
        "conexion.close()"
      ],
      "metadata": {
        "id": "xlkWijT97jqF",
        "colab": {
          "base_uri": "https://localhost:8080/"
        },
        "outputId": "b4fd64cd-dc6b-42e0-cf9e-5702d1107040"
      },
      "execution_count": 28,
      "outputs": [
        {
          "output_type": "stream",
          "name": "stdout",
          "text": [
            "Empty DataFrame\n",
            "Columns: [EMP_NO, APELLIDO, OFICIO, DIRECTOR, FECHA_AL, SALARIO, DEP_NO, COMISION]\n",
            "Index: []\n"
          ]
        }
      ]
    },
    {
      "cell_type": "code",
      "source": [
        "# Escribir una consulta que devuelva el total de salario y comisiones de los empleados que entraron a trabajar en 1981\n",
        "# (con un alias que diga \"total_adeudado\")\n",
        "\n",
        "import sqlite3\n",
        "import pandas as pd\n",
        "\n",
        "# Conexión a la base de datos SQLite\n",
        "conexion = sqlite3.connect('parte1.db')\n",
        "\n",
        "# Consulta SQL\n",
        "query = \"SELECT SUM(SALARIO + COMISION) AS total_adeudado FROM empleados WHERE STRFTIME('%Y', FECHA_AL) = '1981';\"\n",
        "\n",
        "# Leer los datos en un DataFrame de pandas\n",
        "data = pd.read_sql_query(query, conexion)\n",
        "\n",
        "# Mostrar los primeros registros\n",
        "print(data.head())\n",
        "\n",
        "# Cerrar la conexión\n",
        "conexion.close()"
      ],
      "metadata": {
        "id": "ruiqXmnp7jnu",
        "colab": {
          "base_uri": "https://localhost:8080/"
        },
        "outputId": "2ebd13d7-3a88-4bb2-dc38-6e7f86ab6d97"
      },
      "execution_count": 34,
      "outputs": [
        {
          "output_type": "stream",
          "name": "stdout",
          "text": [
            "  total_adeudado\n",
            "0           None\n"
          ]
        }
      ]
    },
    {
      "cell_type": "code",
      "source": [
        "# Escribir una consulta para traer todos los datos que tiene la tabla pedidos\n",
        "query = '''\n",
        "\n",
        "\n",
        "\n",
        "\n",
        " '''\n",
        "\n",
        "cursor.execute(query)\n",
        "conexion.commit()\n",
        "cols = [description[0] for description in cursor.description]\n",
        "pd.DataFrame(cursor.fetchall(), columns=cols)"
      ],
      "metadata": {
        "id": "3TlLyp3p12en"
      },
      "execution_count": null,
      "outputs": []
    },
    {
      "cell_type": "code",
      "source": [
        "# Escribir una consulta que devuelva la cantidad de unidades solicitadas por cada cliente y cada producto\n",
        "query = '''\n",
        "\n",
        "\n",
        "\n",
        " '''\n",
        "\n",
        "cursor.execute(query)\n",
        "conexion.commit()\n",
        "cols = [description[0] for description in cursor.description]\n",
        "pd.DataFrame(cursor.fetchall(), columns=cols)"
      ],
      "metadata": {
        "id": "0gB10-CJ9wzr"
      },
      "execution_count": null,
      "outputs": []
    },
    {
      "cell_type": "code",
      "source": [
        "# Escribir una consulta que devuelva la cantidad de productos diferentes que ha pedido cada cliente\n",
        "query = '''\n",
        "\n",
        "\n",
        "\n",
        "\n",
        " '''\n",
        "\n",
        "cursor.execute(query)\n",
        "conexion.commit()\n",
        "cols = [description[0] for description in cursor.description]\n",
        "pd.DataFrame(cursor.fetchall(), columns=cols)"
      ],
      "metadata": {
        "id": "kaFAVsif_Pld"
      },
      "execution_count": null,
      "outputs": []
    },
    {
      "cell_type": "code",
      "source": [
        "# Escribir una consulta para traer todos los datos que tiene la tabla productos\n",
        "query = '''\n",
        "\n",
        "\n",
        "\n",
        "\n",
        " '''\n",
        "\n",
        "cursor.execute(query)\n",
        "conexion.commit()\n",
        "cols = [description[0] for description in cursor.description]\n",
        "pd.DataFrame(cursor.fetchall(), columns=cols)"
      ],
      "metadata": {
        "id": "mK4_KQSr18Kt"
      },
      "execution_count": null,
      "outputs": []
    },
    {
      "cell_type": "code",
      "source": [
        "# Escribir una consulta que devuelva una columna con el tipo de producto antes de la descripcion\n",
        "query = '''\n",
        "\n",
        "\n",
        "\n",
        "\n",
        " '''\n",
        "\n",
        "cursor.execute(query)\n",
        "conexion.commit()\n",
        "cols = [description[0] for description in cursor.description]\n",
        "pd.DataFrame(cursor.fetchall(), columns=cols)"
      ],
      "metadata": {
        "id": "7YwyoinOtG2S"
      },
      "execution_count": null,
      "outputs": []
    },
    {
      "cell_type": "code",
      "source": [
        "# Escribir una consulta que devuelva el total de stock de productos tipo mesa\n",
        "query = '''\n",
        "\n",
        "\n",
        "\n",
        "\n",
        " '''\n",
        "\n",
        "cursor.execute(query)\n",
        "conexion.commit()\n",
        "cols = [description[0] for description in cursor.description]\n",
        "pd.DataFrame(cursor.fetchall(), columns=cols)"
      ],
      "metadata": {
        "id": "Ni1BDuHF02i-"
      },
      "execution_count": null,
      "outputs": []
    }
  ]
}