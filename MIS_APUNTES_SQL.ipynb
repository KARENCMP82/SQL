{
  "nbformat": 4,
  "nbformat_minor": 0,
  "metadata": {
    "colab": {
      "provenance": [],
      "authorship_tag": "ABX9TyOApYWu8ryU7JKrpZqejQMW",
      "include_colab_link": true
    },
    "kernelspec": {
      "name": "python3",
      "display_name": "Python 3"
    },
    "language_info": {
      "name": "python"
    }
  },
  "cells": [
    {
      "cell_type": "markdown",
      "metadata": {
        "id": "view-in-github",
        "colab_type": "text"
      },
      "source": [
        "<a href=\"https://colab.research.google.com/github/KARENCMP82/SQL/blob/main/MIS_APUNTES_SQL.ipynb\" target=\"_parent\"><img src=\"https://colab.research.google.com/assets/colab-badge.svg\" alt=\"Open In Colab\"/></a>"
      ]
    },
    {
      "cell_type": "markdown",
      "source": [
        "## MIS APUNTES DE SQL\n",
        "\n",
        "\n",
        "\n"
      ],
      "metadata": {
        "id": "X5pT4fLaaqKe"
      }
    },
    {
      "cell_type": "markdown",
      "source": [
        "# **1 | Identificadores constantes y operadores**"
      ],
      "metadata": {
        "id": "babcDC-1dpor"
      }
    },
    {
      "cell_type": "code",
      "source": [
        "from google.colab import files\n",
        "load=files.upload()"
      ],
      "metadata": {
        "colab": {
          "base_uri": "https://localhost:8080/",
          "height": 73
        },
        "id": "LL9URhP8bST4",
        "outputId": "80712e3f-f8d5-49d5-a03d-6670b67ccf46"
      },
      "execution_count": 3,
      "outputs": [
        {
          "output_type": "display_data",
          "data": {
            "text/plain": [
              "<IPython.core.display.HTML object>"
            ],
            "text/html": [
              "\n",
              "     <input type=\"file\" id=\"files-75922258-30bb-4f2c-a7db-0a37dff9bc18\" name=\"files[]\" multiple disabled\n",
              "        style=\"border:none\" />\n",
              "     <output id=\"result-75922258-30bb-4f2c-a7db-0a37dff9bc18\">\n",
              "      Upload widget is only available when the cell has been executed in the\n",
              "      current browser session. Please rerun this cell to enable.\n",
              "      </output>\n",
              "      <script>// Copyright 2017 Google LLC\n",
              "//\n",
              "// Licensed under the Apache License, Version 2.0 (the \"License\");\n",
              "// you may not use this file except in compliance with the License.\n",
              "// You may obtain a copy of the License at\n",
              "//\n",
              "//      http://www.apache.org/licenses/LICENSE-2.0\n",
              "//\n",
              "// Unless required by applicable law or agreed to in writing, software\n",
              "// distributed under the License is distributed on an \"AS IS\" BASIS,\n",
              "// WITHOUT WARRANTIES OR CONDITIONS OF ANY KIND, either express or implied.\n",
              "// See the License for the specific language governing permissions and\n",
              "// limitations under the License.\n",
              "\n",
              "/**\n",
              " * @fileoverview Helpers for google.colab Python module.\n",
              " */\n",
              "(function(scope) {\n",
              "function span(text, styleAttributes = {}) {\n",
              "  const element = document.createElement('span');\n",
              "  element.textContent = text;\n",
              "  for (const key of Object.keys(styleAttributes)) {\n",
              "    element.style[key] = styleAttributes[key];\n",
              "  }\n",
              "  return element;\n",
              "}\n",
              "\n",
              "// Max number of bytes which will be uploaded at a time.\n",
              "const MAX_PAYLOAD_SIZE = 100 * 1024;\n",
              "\n",
              "function _uploadFiles(inputId, outputId) {\n",
              "  const steps = uploadFilesStep(inputId, outputId);\n",
              "  const outputElement = document.getElementById(outputId);\n",
              "  // Cache steps on the outputElement to make it available for the next call\n",
              "  // to uploadFilesContinue from Python.\n",
              "  outputElement.steps = steps;\n",
              "\n",
              "  return _uploadFilesContinue(outputId);\n",
              "}\n",
              "\n",
              "// This is roughly an async generator (not supported in the browser yet),\n",
              "// where there are multiple asynchronous steps and the Python side is going\n",
              "// to poll for completion of each step.\n",
              "// This uses a Promise to block the python side on completion of each step,\n",
              "// then passes the result of the previous step as the input to the next step.\n",
              "function _uploadFilesContinue(outputId) {\n",
              "  const outputElement = document.getElementById(outputId);\n",
              "  const steps = outputElement.steps;\n",
              "\n",
              "  const next = steps.next(outputElement.lastPromiseValue);\n",
              "  return Promise.resolve(next.value.promise).then((value) => {\n",
              "    // Cache the last promise value to make it available to the next\n",
              "    // step of the generator.\n",
              "    outputElement.lastPromiseValue = value;\n",
              "    return next.value.response;\n",
              "  });\n",
              "}\n",
              "\n",
              "/**\n",
              " * Generator function which is called between each async step of the upload\n",
              " * process.\n",
              " * @param {string} inputId Element ID of the input file picker element.\n",
              " * @param {string} outputId Element ID of the output display.\n",
              " * @return {!Iterable<!Object>} Iterable of next steps.\n",
              " */\n",
              "function* uploadFilesStep(inputId, outputId) {\n",
              "  const inputElement = document.getElementById(inputId);\n",
              "  inputElement.disabled = false;\n",
              "\n",
              "  const outputElement = document.getElementById(outputId);\n",
              "  outputElement.innerHTML = '';\n",
              "\n",
              "  const pickedPromise = new Promise((resolve) => {\n",
              "    inputElement.addEventListener('change', (e) => {\n",
              "      resolve(e.target.files);\n",
              "    });\n",
              "  });\n",
              "\n",
              "  const cancel = document.createElement('button');\n",
              "  inputElement.parentElement.appendChild(cancel);\n",
              "  cancel.textContent = 'Cancel upload';\n",
              "  const cancelPromise = new Promise((resolve) => {\n",
              "    cancel.onclick = () => {\n",
              "      resolve(null);\n",
              "    };\n",
              "  });\n",
              "\n",
              "  // Wait for the user to pick the files.\n",
              "  const files = yield {\n",
              "    promise: Promise.race([pickedPromise, cancelPromise]),\n",
              "    response: {\n",
              "      action: 'starting',\n",
              "    }\n",
              "  };\n",
              "\n",
              "  cancel.remove();\n",
              "\n",
              "  // Disable the input element since further picks are not allowed.\n",
              "  inputElement.disabled = true;\n",
              "\n",
              "  if (!files) {\n",
              "    return {\n",
              "      response: {\n",
              "        action: 'complete',\n",
              "      }\n",
              "    };\n",
              "  }\n",
              "\n",
              "  for (const file of files) {\n",
              "    const li = document.createElement('li');\n",
              "    li.append(span(file.name, {fontWeight: 'bold'}));\n",
              "    li.append(span(\n",
              "        `(${file.type || 'n/a'}) - ${file.size} bytes, ` +\n",
              "        `last modified: ${\n",
              "            file.lastModifiedDate ? file.lastModifiedDate.toLocaleDateString() :\n",
              "                                    'n/a'} - `));\n",
              "    const percent = span('0% done');\n",
              "    li.appendChild(percent);\n",
              "\n",
              "    outputElement.appendChild(li);\n",
              "\n",
              "    const fileDataPromise = new Promise((resolve) => {\n",
              "      const reader = new FileReader();\n",
              "      reader.onload = (e) => {\n",
              "        resolve(e.target.result);\n",
              "      };\n",
              "      reader.readAsArrayBuffer(file);\n",
              "    });\n",
              "    // Wait for the data to be ready.\n",
              "    let fileData = yield {\n",
              "      promise: fileDataPromise,\n",
              "      response: {\n",
              "        action: 'continue',\n",
              "      }\n",
              "    };\n",
              "\n",
              "    // Use a chunked sending to avoid message size limits. See b/62115660.\n",
              "    let position = 0;\n",
              "    do {\n",
              "      const length = Math.min(fileData.byteLength - position, MAX_PAYLOAD_SIZE);\n",
              "      const chunk = new Uint8Array(fileData, position, length);\n",
              "      position += length;\n",
              "\n",
              "      const base64 = btoa(String.fromCharCode.apply(null, chunk));\n",
              "      yield {\n",
              "        response: {\n",
              "          action: 'append',\n",
              "          file: file.name,\n",
              "          data: base64,\n",
              "        },\n",
              "      };\n",
              "\n",
              "      let percentDone = fileData.byteLength === 0 ?\n",
              "          100 :\n",
              "          Math.round((position / fileData.byteLength) * 100);\n",
              "      percent.textContent = `${percentDone}% done`;\n",
              "\n",
              "    } while (position < fileData.byteLength);\n",
              "  }\n",
              "\n",
              "  // All done.\n",
              "  yield {\n",
              "    response: {\n",
              "      action: 'complete',\n",
              "    }\n",
              "  };\n",
              "}\n",
              "\n",
              "scope.google = scope.google || {};\n",
              "scope.google.colab = scope.google.colab || {};\n",
              "scope.google.colab._files = {\n",
              "  _uploadFiles,\n",
              "  _uploadFilesContinue,\n",
              "};\n",
              "})(self);\n",
              "</script> "
            ]
          },
          "metadata": {}
        },
        {
          "output_type": "stream",
          "name": "stdout",
          "text": [
            "Saving parte1.db to parte1.db\n"
          ]
        }
      ]
    },
    {
      "cell_type": "code",
      "source": [
        "import sqlite3\n",
        "import pandas as pd\n",
        "\n",
        "# Conexión a la base de datos SQLite\n",
        "conexion = sqlite3.connect('parte1.db')\n",
        "\n",
        "# Consulta SQL\n",
        "query = \"SELECT * FROM empleados;\"  # Ajusta la consulta según la estructura de tu base de datos\n",
        "\n",
        "# Leer los datos en un DataFrame de pandas\n",
        "data = pd.read_sql_query(query, conexion)\n",
        "\n",
        "# Mostrar los primeros registros\n",
        "print(data.head())\n",
        "\n",
        "# Cerrar la conexión\n",
        "conexion.close()"
      ],
      "metadata": {
        "colab": {
          "base_uri": "https://localhost:8080/"
        },
        "id": "_YY336trbYK_",
        "outputId": "c7640779-dc0b-434c-a233-ad9f791e7f6e"
      },
      "execution_count": 4,
      "outputs": [
        {
          "output_type": "stream",
          "name": "stdout",
          "text": [
            "   EMP_NO  APELLIDO    OFICIO  DIRECTOR  FECHA_AL  SALARIO  DEP_NO  COMISION\n",
            "0    7499    ALONSO  VENDEDOR    7698.0  20/02/81    14000      30    4000.0\n",
            "1    7521     LOPEZ  EMPLEADO    7782.0  08/05/81    13500      10       NaN\n",
            "2    7654    MARTIN  VENDEDOR    7698.0  28/09/81    15000      30   16000.0\n",
            "3    7698   GARRIDO  DIRECTOR    7839.0  01/05/81    38500      30       NaN\n",
            "4    7782  MARTINEZ  DIRECTOR    7839.0  09/06/81    24500      10       NaN\n"
          ]
        }
      ]
    },
    {
      "cell_type": "code",
      "source": [
        "import sqlite3\n",
        "import pandas as pd\n",
        "\n",
        "# Conexión a la base de datos SQLite\n",
        "conexion = sqlite3.connect('parte1.db')\n",
        "\n",
        "query = \"SELECT name FROM sqlite_master WHERE type='table';\"\n",
        "cursor.execute(query)\n",
        "print(cursor.fetchall())\n",
        "\n",
        "# Leer los datos en un DataFrame de pandas\n",
        "data = pd.read_sql_query(query, conexion)\n",
        "\n",
        "# Mostrar los primeros registros\n",
        "print(data.head())\n",
        "\n",
        "# Cerrar la conexión\n",
        "conexion.close()\n"
      ],
      "metadata": {
        "colab": {
          "base_uri": "https://localhost:8080/"
        },
        "id": "lplTWD63Uu3-",
        "outputId": "05b19a36-1184-43f6-a478-bc64c6401f6d"
      },
      "execution_count": 5,
      "outputs": [
        {
          "output_type": "stream",
          "name": "stdout",
          "text": [
            "[]\n",
            "            name\n",
            "0       clientes\n",
            "1  departamentos\n",
            "2        pedidos\n",
            "3      productos\n",
            "4      empleados\n"
          ]
        }
      ]
    },
    {
      "cell_type": "code",
      "source": [
        "import sqlite3\n",
        "import pandas as pd\n",
        "\n",
        "# Conexión a la base de datos SQLite\n",
        "conexion = sqlite3.connect('parte1.db')\n",
        "\n",
        "query =\"Select * from empleados;\"\n",
        "cursor.execute(query)\n",
        "print(cursor.fetchall())\n",
        "# Leer los datos en un DataFrame de pandas\n",
        "data = pd.read_sql_query(query, conexion)\n",
        "\n",
        "# Mostrar los primeros registros\n",
        "print(data.head())\n",
        "\n",
        "# Cerrar la conexión\n",
        "conexion.close()"
      ],
      "metadata": {
        "colab": {
          "base_uri": "https://localhost:8080/"
        },
        "id": "ZbRSp77gVjpl",
        "outputId": "f3858e70-d182-4aa7-9567-a56ef34aa789"
      },
      "execution_count": 11,
      "outputs": [
        {
          "output_type": "stream",
          "name": "stdout",
          "text": [
            "[(7499, 'ALONSO', 'VENDEDOR', 7698.0, '20/02/81', 14000, 30, 4000.0), (7521, 'LOPEZ', 'EMPLEADO', 7782.0, '08/05/81', 13500, 10, None), (7654, 'MARTIN', 'VENDEDOR', 7698.0, '28/09/81', 15000, 30, 16000.0), (7698, 'GARRIDO', 'DIRECTOR', 7839.0, '01/05/81', 38500, 30, None), (7782, 'MARTINEZ', 'DIRECTOR', 7839.0, '09/06/81', 24500, 10, None), (7839, 'REY', 'PRESIDENTE', None, '17/11/81', 60000, 10, None), (7844, 'CALVO', 'VENDEDOR', 7698.0, '08/09/81', 18000, 30, 0.0), (7876, 'GIL', 'ANALISTA', 7782.0, '06/05/82', 33500, 20, None), (7900, 'JIMENEZ', 'EMPLEADO', 7782.0, '24/03/83', 14000, 20, None)]\n",
            "   EMP_NO  APELLIDO    OFICIO  DIRECTOR  FECHA_AL  SALARIO  DEP_NO  COMISION\n",
            "0    7499    ALONSO  VENDEDOR    7698.0  20/02/81    14000      30    4000.0\n",
            "1    7521     LOPEZ  EMPLEADO    7782.0  08/05/81    13500      10       NaN\n",
            "2    7654    MARTIN  VENDEDOR    7698.0  28/09/81    15000      30   16000.0\n",
            "3    7698   GARRIDO  DIRECTOR    7839.0  01/05/81    38500      30       NaN\n",
            "4    7782  MARTINEZ  DIRECTOR    7839.0  09/06/81    24500      10       NaN\n"
          ]
        }
      ]
    },
    {
      "cell_type": "markdown",
      "source": [
        "# **2 | Funciones**"
      ],
      "metadata": {
        "id": "Im0w5tn6eP6q"
      }
    },
    {
      "cell_type": "markdown",
      "source": [
        "FUNCIONES\n",
        "\n",
        "\n",
        "\n",
        "1. **`SUBSTR(string, start, length)`**  \n",
        "   - **Descripción**: Devuelve una subcadena de `string` comenzando en `start` y con una longitud de `length`.\n",
        "   - **Ejemplo**: `SUBSTR('abcdef', 2, 3)` → `'bcd'`\n",
        "\n",
        "2. **`TRIM(string)`**  \n",
        "   - **Descripción**: Elimina los espacios en blanco al principio y al final de `string`.\n",
        "   - **Ejemplo**: `TRIM('  hola  ')` → `'hola'`\n",
        "\n",
        "3. **`LTRIM(string)`**  \n",
        "   - **Descripción**: Elimina los espacios en blanco solo al principio de `string`.\n",
        "   - **Ejemplo**: `LTRIM('  hola  ')` → `'hola  '`\n",
        "\n",
        "4. **`RTRIM(string)`**  \n",
        "   - **Descripción**: Elimina los espacios en blanco solo al final de `string`.\n",
        "   - **Ejemplo**: `RTRIM('  hola  ')` → `'  hola'`\n",
        "\n",
        "5. **`LENGTH(string)`**  \n",
        "   - **Descripción**: Devuelve la longitud de `string` (número de caracteres).\n",
        "   - **Ejemplo**: `LENGTH('hola')` → `4`\n",
        "\n",
        "6. **`REPLACE(string, old, new)`**  \n",
        "   - **Descripción**: Reemplaza todas las ocurrencias de `old` por `new` en `string`.\n",
        "   - **Ejemplo**: `REPLACE('hola mundo', 'mundo', 'amigo')` → `'hola amigo'`\n",
        "\n",
        "7. **`UPPER(string)`**  \n",
        "   - **Descripción**: Convierte todos los caracteres de `string` a mayúsculas.\n",
        "   - **Ejemplo**: `UPPER('hola')` → `'HOLA'`\n",
        "\n",
        "8. **`LOWER(string)`**  \n",
        "   - **Descripción**: Convierte todos los caracteres de `string` a minúsculas.\n",
        "   - **Ejemplo**: `LOWER('HOLA')` → `'hola'`\n",
        "\n",
        "9. **`INSTR(string, substring)`**  \n",
        "   - **Descripción**: Devuelve la posición de la primera ocurrencia de `substring` en `string`. Retorna `0` si no se encuentra.\n",
        "   - **Ejemplo**: `INSTR('hola mundo', 'mundo')` → `6` (posición de inicio)\n",
        "\n"
      ],
      "metadata": {
        "id": "C4u-5Tb9azz5"
      }
    },
    {
      "cell_type": "code",
      "source": [
        "import sqlite3\n",
        "import pandas as pd\n",
        "\n",
        "# Conexión a la base de datos SQLite\n",
        "conexion = sqlite3.connect('parte1.db')\n",
        "\n",
        "# Crear un cursor para ejecutar la consulta\n",
        "cursor = conexion.cursor()\n",
        "\n",
        "# Consulta SQL adaptada a la estructura de la tabla\n",
        "query = '''\n",
        "SELECT\n",
        "    SUBSTR(APELLIDO, 1, 3) AS iniciales,\n",
        "    TRIM(COMISION) AS comision_limpia,\n",
        "    LTRIM('    ' || APELLIDO) AS apellido_espaciado,\n",
        "    RTRIM(APELLIDO || '    ') AS apellido_final,\n",
        "    LENGTH(APELLIDO) AS longitud_apellido,\n",
        "    REPLACE(OFICIO, 'VENDEDOR', 'COMERCIAL') AS oficio_corregido,\n",
        "    UPPER(OFICIO) AS oficio_mayus,\n",
        "    LOWER(OFICIO) AS oficio_minus,\n",
        "    INSTR(APELLIDO, 'a') AS letra_pos\n",
        "FROM empleados\n",
        "LIMIT 5;                                              -- Muestra solo los primeros 5 resultados\n",
        "'''\n",
        "\n",
        "# Ejecutar la consulta\n",
        "cursor.execute(query)\n",
        "\n",
        "# Obtener los nombres de las columnas\n",
        "cols = [description[0] for description in cursor.description]\n",
        "\n",
        "# Convertir el resultado a un DataFrame de pandas\n",
        "data = pd.DataFrame(cursor.fetchall(), columns=cols)\n",
        "\n",
        "# Mostrar los primeros registros\n",
        "print(data)\n",
        "\n",
        "# Cerrar la conexión\n",
        "conexion.close()\n"
      ],
      "metadata": {
        "colab": {
          "base_uri": "https://localhost:8080/"
        },
        "id": "uklKdbW2T7Bw",
        "outputId": "dad8e624-4fd3-432c-bef7-5fd2be4fea5f"
      },
      "execution_count": 13,
      "outputs": [
        {
          "output_type": "stream",
          "name": "stdout",
          "text": [
            "  iniciales comision_limpia apellido_espaciado apellido_final  \\\n",
            "0       ALO          4000.0             ALONSO         ALONSO   \n",
            "1       LOP            None              LOPEZ          LOPEZ   \n",
            "2       MAR         16000.0             MARTIN         MARTIN   \n",
            "3       GAR            None            GARRIDO        GARRIDO   \n",
            "4       MAR            None           MARTINEZ       MARTINEZ   \n",
            "\n",
            "   longitud_apellido oficio_corregido oficio_mayus oficio_minus  letra_pos  \n",
            "0                  6        COMERCIAL     VENDEDOR     vendedor          0  \n",
            "1                  5         EMPLEADO     EMPLEADO     empleado          0  \n",
            "2                  6        COMERCIAL     VENDEDOR     vendedor          0  \n",
            "3                  7         DIRECTOR     DIRECTOR     director          0  \n",
            "4                  8         DIRECTOR     DIRECTOR     director          0  \n"
          ]
        }
      ]
    },
    {
      "cell_type": "markdown",
      "source": [
        "# **FUNCIONES FECHA**\n",
        "\n",
        "1. **`date`**  \n",
        "   - Devuelve solo la fecha en formato `YYYY-MM-DD`.  \n",
        "   - Ejemplo: `SELECT date('now');` devuelve la fecha actual.\n",
        "\n",
        "2. **`time`**  \n",
        "   - Devuelve solo la hora en formato `HH:MM:SS`.  \n",
        "   - Ejemplo: `SELECT time('now');` devuelve la hora actual.\n",
        "\n",
        "3. **`datetime`**  \n",
        "   - Devuelve la fecha y hora combinadas en formato `YYYY-MM-DD HH:MM:SS`.  \n",
        "   - Ejemplo: `SELECT datetime('now');` devuelve la fecha y hora actuales.\n",
        "\n",
        "4. **`julianday`**  \n",
        "   - Devuelve el número de días desde el 1 de enero de 4713 a.C. (Calendario Juliano).  \n",
        "   - Ejemplo: `SELECT julianday('now');` devuelve el número de días hasta hoy.\n",
        "\n",
        "5. **`strftime`**  \n",
        "   - Permite personalizar el formato de fecha y hora.  \n",
        "   - Ejemplo: `SELECT strftime('%d-%m-%Y %H:%M:%S', 'now');` devuelve la fecha y hora en el formato `DD-MM-YYYY HH:MM:SS`."
      ],
      "metadata": {
        "id": "6yIYpj8kXSRq"
      }
    },
    {
      "cell_type": "code",
      "source": [
        "import sqlite3\n",
        "import pandas as pd\n",
        "\n",
        "# Conexión a la base de datos SQLite\n",
        "conexion = sqlite3.connect('parte1.db')\n",
        "\n",
        "# Crear un cursor para ejecutar la consulta\n",
        "cursor = conexion.cursor()\n",
        "\n",
        "# Consulta SQL corregida\n",
        "query = '''\n",
        "SELECT\n",
        "    DATE('2023-07-21 19:36:13', 'START OF MONTH') AS PRINCIPIO_MES,\n",
        "    DATE('2023-07-21 19:36:13', '+1 MONTH') AS MAS_UN_MES,\n",
        "    DATE('2023-07-21 19:36:13', '-1 DAY') AS MENOS_UN_DIA,\n",
        "    DATETIME('2023-07-21 19:36:13', '+5 MINUTES') AS MAS_CINCO_MINUTOS\n",
        "'''\n",
        "\n",
        "# Ejecutar la consulta\n",
        "cursor.execute(query)\n",
        "\n",
        "# Obtener los nombres de las columnas\n",
        "cols = [description[0] for description in cursor.description]\n",
        "\n",
        "# Convertir el resultado a un DataFrame de pandas\n",
        "data = pd.DataFrame(cursor.fetchall(), columns=cols)\n",
        "\n",
        "# Mostrar los primeros registros\n",
        "print(data)\n",
        "\n",
        "# Cerrar la conexión\n",
        "conexion.close()\n"
      ],
      "metadata": {
        "colab": {
          "base_uri": "https://localhost:8080/"
        },
        "id": "orezUCjdXkKd",
        "outputId": "9a3ffb25-4907-47b8-b9f2-59b235886f8c"
      },
      "execution_count": 17,
      "outputs": [
        {
          "output_type": "stream",
          "name": "stdout",
          "text": [
            "  PRINCIPIO_MES  MAS_UN_MES MENOS_UN_DIA    MAS_CINCO_MINUTOS\n",
            "0    2023-07-01  2023-08-21   2023-07-20  2023-07-21 19:41:13\n"
          ]
        }
      ]
    },
    {
      "cell_type": "markdown",
      "source": [
        "# FUNCIONES MATEMATICAS\n",
        "\n",
        "1. **ABS(x)**: Devuelve el valor absoluto de un número.\n",
        "   - Ejemplo: `ABS(-5)` → `5`\n",
        "\n",
        "2. **RANDOM()**: Genera un número aleatorio.\n",
        "   - Ejemplo: `RANDOM()` → (número aleatorio)\n",
        "\n",
        "3. **ROUND(x, y)**: Redondea un número a `y` decimales.\n",
        "   - Ejemplo: `ROUND(3.14159, 2)` → `3.14`\n",
        "\n",
        "4. **CEIL(x)** o **CEILING(x)**: Redondea un número hacia arriba al entero más cercano.\n",
        "   - Ejemplo: `CEIL(4.2)` → `5`\n",
        "\n",
        "5. **FLOOR(x)**: Redondea un número hacia abajo al entero más cercano.\n",
        "   - Ejemplo: `FLOOR(4.8)` → `4`\n",
        "\n",
        "6. **POWER(x, y)**: Calcula `x` elevado a la potencia `y`.\n",
        "   - Ejemplo: `POWER(2, 3)` → `8`\n",
        "\n",
        "7. **SQRT(x)**: Calcula la raíz cuadrada de un número.\n",
        "   - Ejemplo: `SQRT(16)` → `4`\n",
        "\n",
        "8. **EXP(x)**: Calcula el número `e` elevado a la potencia `x`.\n",
        "   - Ejemplo: `EXP(1)` → `2.71828`\n",
        "\n",
        "9. **LN(x)** o **LOG(x)**: Calcula el logaritmo natural de `x`.\n",
        "   - Ejemplo: `LN(10)` → `2.30258`\n",
        "\n"
      ],
      "metadata": {
        "id": "1q3fnhW7Yj6l"
      }
    },
    {
      "cell_type": "code",
      "source": [
        "import sqlite3\n",
        "import pandas as pd\n",
        "\n",
        "# Conexión a la base de datos SQLite\n",
        "conexion = sqlite3.connect('parte1.db')\n",
        "\n",
        "# Crear un cursor para ejecutar la consulta\n",
        "cursor = conexion.cursor()\n",
        "\n",
        "# Consulta SQL corregida\n",
        "query = '''\n",
        "SELECT ABS(-1000),\n",
        "      RANDOM(),\n",
        "      ROUND(2.546549);\n",
        "'''\n",
        "\n",
        "# Ejecutar la consulta\n",
        "cursor.execute(query)\n",
        "\n",
        "# Obtener los nombres de las columnas\n",
        "cols = [description[0] for description in cursor.description]\n",
        "\n",
        "# Convertir el resultado a un DataFrame de pandas\n",
        "data = pd.DataFrame(cursor.fetchall(), columns=cols)\n",
        "\n",
        "# Mostrar los primeros registros\n",
        "print(data)\n",
        "\n",
        "# Cerrar la conexión\n",
        "conexion.close()"
      ],
      "metadata": {
        "colab": {
          "base_uri": "https://localhost:8080/"
        },
        "id": "dvPmxVXyZesy",
        "outputId": "8c059db1-6604-4db5-e859-b3ea8ce48de1"
      },
      "execution_count": 19,
      "outputs": [
        {
          "output_type": "stream",
          "name": "stdout",
          "text": [
            "   ABS(-1000)             RANDOM()  ROUND(2.546549)\n",
            "0        1000 -4925721266981374891              3.0\n"
          ]
        }
      ]
    },
    {
      "cell_type": "markdown",
      "source": [
        "# FUNCIONES AGREGACION\n",
        "\n",
        "1. **AVG(column)**: Calcula el promedio de los valores en una columna.  \n",
        "   - Ejemplo: `SELECT AVG(salario) FROM empleados;`  \n",
        "\n",
        "2. **COUNT(column)**: Cuenta el número de filas en una columna, ignorando valores nulos.  \n",
        "   - Ejemplo: `SELECT COUNT(emp_no) FROM empleados;`  \n",
        "\n",
        "3. **MAX(column)**: Devuelve el valor máximo en una columna.  \n",
        "   - Ejemplo: `SELECT MAX(salario) FROM empleados;`  \n",
        "\n",
        "4. **MIN(column)**: Devuelve el valor mínimo en una columna.  \n",
        "   - Ejemplo: `SELECT MIN(salario) FROM empleados;`  \n",
        "\n",
        "5. **SUM(column)**: Suma los valores de una columna.  \n",
        "   - Ejemplo: `SELECT SUM(salario) FROM empleados;`  \n",
        "\n",
        "### Funciones adicionales útiles:  \n",
        "\n",
        "6. **GROUP_CONCAT(column)**: Devuelve todos los valores de una columna concatenados en un string (especialmente útil en SQLite).  \n",
        "   - Ejemplo: `SELECT GROUP_CONCAT(apellido) FROM empleados;`  \n",
        "\n",
        "7. **VARIANCE(column)** o **VAR_POP(column)**: Calcula la varianza de los valores (puede no estar disponible en todas las bases de datos).  \n",
        "   - Ejemplo: `SELECT VARIANCE(salario) FROM empleados;`  \n",
        "\n",
        "8. **STDDEV(column)** o **STDDEV_POP(column)**: Calcula la desviación estándar de los valores (similar a la varianza).  \n",
        "   - Ejemplo: `SELECT STDDEV(salario) FROM empleados;`  \n",
        "\n"
      ],
      "metadata": {
        "id": "PNzvEyFmZ6GY"
      }
    },
    {
      "cell_type": "code",
      "source": [
        "import sqlite3\n",
        "import pandas as pd\n",
        "\n",
        "# Conexión a la base de datos SQLite\n",
        "conexion = sqlite3.connect('parte1.db')\n",
        "\n",
        "# Crear un cursor para ejecutar la consulta\n",
        "cursor = conexion.cursor()\n",
        "\n",
        "# Consulta SQL corregida\n",
        "query ='''\n",
        "SELECT\n",
        "    AVG(salario) AS promedio_salario,\n",
        "    COUNT(*) AS total_empleados,\n",
        "    MAX(salario) AS salario_maximo,\n",
        "    MIN(salario) AS salario_minimo,\n",
        "    SUM(salario) AS total_salarios\n",
        "FROM empleados;'''\n",
        "\n",
        "\n",
        "# Ejecutar la consulta\n",
        "cursor.execute(query)\n",
        "\n",
        "# Obtener los nombres de las columnas\n",
        "cols = [description[0] for description in cursor.description]\n",
        "\n",
        "# Convertir el resultado a un DataFrame de pandas\n",
        "data = pd.DataFrame(cursor.fetchall(), columns=cols)\n",
        "\n",
        "# Mostrar los primeros registros\n",
        "print(data)\n",
        "\n",
        "# Cerrar la conexión\n",
        "conexion.close()"
      ],
      "metadata": {
        "colab": {
          "base_uri": "https://localhost:8080/"
        },
        "id": "YNcTzTgfaCx7",
        "outputId": "73772832-d20e-4144-c472-4101ee79bdc8"
      },
      "execution_count": 20,
      "outputs": [
        {
          "output_type": "stream",
          "name": "stdout",
          "text": [
            "   promedio_salario  total_empleados  salario_maximo  salario_minimo  \\\n",
            "0      25666.666667                9           60000           13500   \n",
            "\n",
            "   total_salarios  \n",
            "0          231000  \n"
          ]
        }
      ]
    },
    {
      "cell_type": "markdown",
      "source": [
        "# **3 | Consultas básicas**"
      ],
      "metadata": {
        "id": "ltMFJyfidi9T"
      }
    },
    {
      "cell_type": "markdown",
      "source": [
        "Consulta sencilla recuperar columnas de una tabla.\n"
      ],
      "metadata": {
        "id": "i3LbrBuYemqD"
      }
    },
    {
      "cell_type": "code",
      "source": [
        "import sqlite3\n",
        "import pandas as pd\n",
        "\n",
        "# Conexión a la base de datos SQLite\n",
        "conexion = sqlite3.connect('parte1.db')\n",
        "\n",
        "# Crear un cursor para ejecutar la consulta\n",
        "cursor = conexion.cursor()\n",
        "\n",
        "# Consulta SQL corregida\n",
        "query ='''SELECT * FROM EMPLEADOS;'''\n",
        "\n",
        "\n",
        "# Ejecutar la consulta\n",
        "cursor.execute(query)\n",
        "\n",
        "# Obtener los nombres de las columnas\n",
        "cols = [description[0] for description in cursor.description]\n",
        "\n",
        "# Convertir el resultado a un DataFrame de pandas\n",
        "data = pd.DataFrame(cursor.fetchall(), columns=cols)\n",
        "\n",
        "# Mostrar los primeros registros\n",
        "print(data)\n",
        "\n",
        "# Cerrar la conexión\n",
        "conexion.close()"
      ],
      "metadata": {
        "colab": {
          "base_uri": "https://localhost:8080/"
        },
        "id": "-e0BJqmhewtb",
        "outputId": "1f311d32-ffd1-458d-d3f9-4ce3aeb96714"
      },
      "execution_count": 21,
      "outputs": [
        {
          "output_type": "stream",
          "name": "stdout",
          "text": [
            "   EMP_NO  APELLIDO      OFICIO  DIRECTOR  FECHA_AL  SALARIO  DEP_NO  COMISION\n",
            "0    7499    ALONSO    VENDEDOR    7698.0  20/02/81    14000      30    4000.0\n",
            "1    7521     LOPEZ    EMPLEADO    7782.0  08/05/81    13500      10       NaN\n",
            "2    7654    MARTIN    VENDEDOR    7698.0  28/09/81    15000      30   16000.0\n",
            "3    7698   GARRIDO    DIRECTOR    7839.0  01/05/81    38500      30       NaN\n",
            "4    7782  MARTINEZ    DIRECTOR    7839.0  09/06/81    24500      10       NaN\n",
            "5    7839       REY  PRESIDENTE       NaN  17/11/81    60000      10       NaN\n",
            "6    7844     CALVO    VENDEDOR    7698.0  08/09/81    18000      30       0.0\n",
            "7    7876       GIL    ANALISTA    7782.0  06/05/82    33500      20       NaN\n",
            "8    7900   JIMENEZ    EMPLEADO    7782.0  24/03/83    14000      20       NaN\n"
          ]
        }
      ]
    },
    {
      "cell_type": "markdown",
      "source": [
        "COLUMNAS LISTADAS"
      ],
      "metadata": {
        "id": "LEm29avWe9EV"
      }
    },
    {
      "cell_type": "code",
      "source": [
        "import sqlite3\n",
        "import pandas as pd\n",
        "\n",
        "# Conexión a la base de datos SQLite\n",
        "conexion = sqlite3.connect('parte1.db')\n",
        "\n",
        "# Crear un cursor para ejecutar la consulta\n",
        "cursor = conexion.cursor()\n",
        "\n",
        "# Consulta SQL corregida\n",
        "query ='''SELECT EMP_NO, APELLIDO, OFICIO FROM EMPLEADOS;'''\n",
        "\n",
        "\n",
        "# Ejecutar la consulta\n",
        "cursor.execute(query)\n",
        "\n",
        "# Obtener los nombres de las columnas\n",
        "cols = [description[0] for description in cursor.description]\n",
        "\n",
        "# Convertir el resultado a un DataFrame de pandas\n",
        "data = pd.DataFrame(cursor.fetchall(), columns=cols)\n",
        "\n",
        "# Mostrar los primeros registros\n",
        "print(data)\n",
        "\n",
        "# Cerrar la conexión\n",
        "conexion.close()"
      ],
      "metadata": {
        "colab": {
          "base_uri": "https://localhost:8080/"
        },
        "id": "121lkkvNfC2H",
        "outputId": "00c84b2f-8f50-4228-909e-8a6505310b80"
      },
      "execution_count": 22,
      "outputs": [
        {
          "output_type": "stream",
          "name": "stdout",
          "text": [
            "   EMP_NO  APELLIDO      OFICIO\n",
            "0    7499    ALONSO    VENDEDOR\n",
            "1    7521     LOPEZ    EMPLEADO\n",
            "2    7654    MARTIN    VENDEDOR\n",
            "3    7698   GARRIDO    DIRECTOR\n",
            "4    7782  MARTINEZ    DIRECTOR\n",
            "5    7839       REY  PRESIDENTE\n",
            "6    7844     CALVO    VENDEDOR\n",
            "7    7876       GIL    ANALISTA\n",
            "8    7900   JIMENEZ    EMPLEADO\n"
          ]
        }
      ]
    },
    {
      "cell_type": "markdown",
      "source": [
        "ALIAS DE COLUMNAS"
      ],
      "metadata": {
        "id": "Jhl12jehfV_J"
      }
    },
    {
      "cell_type": "code",
      "source": [
        "import sqlite3\n",
        "import pandas as pd\n",
        "\n",
        "# Conexión a la base de datos SQLite\n",
        "conexion = sqlite3.connect('parte1.db')\n",
        "\n",
        "# Crear un cursor para ejecutar la consulta\n",
        "cursor = conexion.cursor()\n",
        "\n",
        "# Consulta SQL corregida\n",
        "query ='''SELECT EMP_NO AS ID, APELLIDO AS APE, OFICIO AS OFI FROM EMPLEADOS;'''\n",
        "\n",
        "\n",
        "# Ejecutar la consulta\n",
        "cursor.execute(query)\n",
        "\n",
        "# Obtener los nombres de las columnas\n",
        "cols = [description[0] for description in cursor.description]\n",
        "\n",
        "# Convertir el resultado a un DataFrame de pandas\n",
        "data = pd.DataFrame(cursor.fetchall(), columns=cols)\n",
        "\n",
        "# Mostrar los primeros registros\n",
        "print(data)\n",
        "\n",
        "# Cerrar la conexión\n",
        "conexion.close()"
      ],
      "metadata": {
        "colab": {
          "base_uri": "https://localhost:8080/"
        },
        "id": "tck3TCUifYwh",
        "outputId": "824ca2eb-a7c3-42eb-da6e-8abfcfeb1c89"
      },
      "execution_count": 23,
      "outputs": [
        {
          "output_type": "stream",
          "name": "stdout",
          "text": [
            "     ID       APE         OFI\n",
            "0  7499    ALONSO    VENDEDOR\n",
            "1  7521     LOPEZ    EMPLEADO\n",
            "2  7654    MARTIN    VENDEDOR\n",
            "3  7698   GARRIDO    DIRECTOR\n",
            "4  7782  MARTINEZ    DIRECTOR\n",
            "5  7839       REY  PRESIDENTE\n",
            "6  7844     CALVO    VENDEDOR\n",
            "7  7876       GIL    ANALISTA\n",
            "8  7900   JIMENEZ    EMPLEADO\n"
          ]
        }
      ]
    },
    {
      "cell_type": "markdown",
      "source": [
        "tOTAL A COBRAR POR CADA EMPLEADO"
      ],
      "metadata": {
        "id": "Fa3J8qALfkcq"
      }
    },
    {
      "cell_type": "code",
      "source": [
        "import sqlite3\n",
        "import pandas as pd\n",
        "\n",
        "# Conexión a la base de datos SQLite\n",
        "conexion = sqlite3.connect('parte1.db')\n",
        "\n",
        "# Crear un cursor para ejecutar la consulta\n",
        "cursor = conexion.cursor()\n",
        "\n",
        "# Consulta SQL corregida\n",
        "query ='''SELECT SALARIO+COMISION AS TOTAL FROM EMPLEADOS;'''\n",
        "\n",
        "\n",
        "# Ejecutar la consulta\n",
        "cursor.execute(query)\n",
        "\n",
        "# Obtener los nombres de las columnas\n",
        "cols = [description[0] for description in cursor.description]\n",
        "\n",
        "# Convertir el resultado a un DataFrame de pandas\n",
        "data = pd.DataFrame(cursor.fetchall(), columns=cols)\n",
        "\n",
        "# Mostrar los primeros registros\n",
        "print(data)\n",
        "\n",
        "# Cerrar la conexión\n",
        "conexion.close()"
      ],
      "metadata": {
        "colab": {
          "base_uri": "https://localhost:8080/"
        },
        "id": "rpcxaRrrfmpq",
        "outputId": "b06369bd-b189-47f7-ae03-aa9dcbe75586"
      },
      "execution_count": 24,
      "outputs": [
        {
          "output_type": "stream",
          "name": "stdout",
          "text": [
            "     TOTAL\n",
            "0  18000.0\n",
            "1      NaN\n",
            "2  31000.0\n",
            "3      NaN\n",
            "4      NaN\n",
            "5      NaN\n",
            "6  18000.0\n",
            "7      NaN\n",
            "8      NaN\n"
          ]
        }
      ]
    },
    {
      "cell_type": "markdown",
      "source": [
        "APELLIDO CON SU OFICIO"
      ],
      "metadata": {
        "id": "Be9MW0XsgP5U"
      }
    },
    {
      "cell_type": "code",
      "source": [
        "import sqlite3\n",
        "import pandas as pd\n",
        "\n",
        "# Conexión a la base de datos SQLite\n",
        "conexion = sqlite3.connect('parte1.db')\n",
        "\n",
        "# Crear un cursor para ejecutar la consulta\n",
        "cursor = conexion.cursor()\n",
        "\n",
        "# Consulta SQL corregida\n",
        "query ='''SELECT apellido || ' es '|| oficio FROM EMPLEADOS;'''\n",
        "\n",
        "\n",
        "# Ejecutar la consulta\n",
        "cursor.execute(query)\n",
        "\n",
        "# Obtener los nombres de las columnas\n",
        "cols = [description[0] for description in cursor.description]\n",
        "\n",
        "# Convertir el resultado a un DataFrame de pandas\n",
        "data = pd.DataFrame(cursor.fetchall(), columns=cols)\n",
        "\n",
        "# Mostrar los primeros registros\n",
        "print(data)\n",
        "\n",
        "# Cerrar la conexión\n",
        "conexion.close()"
      ],
      "metadata": {
        "colab": {
          "base_uri": "https://localhost:8080/"
        },
        "id": "QQGGwcMAgT51",
        "outputId": "da308869-4cfb-4b9c-bb9e-075c73a054a8"
      },
      "execution_count": 25,
      "outputs": [
        {
          "output_type": "stream",
          "name": "stdout",
          "text": [
            "  apellido || ' es '|| oficio\n",
            "0          ALONSO es VENDEDOR\n",
            "1           LOPEZ es EMPLEADO\n",
            "2          MARTIN es VENDEDOR\n",
            "3         GARRIDO es DIRECTOR\n",
            "4        MARTINEZ es DIRECTOR\n",
            "5           REY es PRESIDENTE\n",
            "6           CALVO es VENDEDOR\n",
            "7             GIL es ANALISTA\n",
            "8         JIMENEZ es EMPLEADO\n"
          ]
        }
      ]
    },
    {
      "cell_type": "markdown",
      "source": [
        "Distin para distinguir cada cosa"
      ],
      "metadata": {
        "id": "ik-H1WiFgnUu"
      }
    },
    {
      "cell_type": "code",
      "source": [
        "import sqlite3\n",
        "import pandas as pd\n",
        "\n",
        "# Conexión a la base de datos SQLite\n",
        "conexion = sqlite3.connect('parte1.db')\n",
        "\n",
        "# Crear un cursor para ejecutar la consulta\n",
        "cursor = conexion.cursor()\n",
        "\n",
        "# Consulta SQL corregida\n",
        "query ='''SELECT distinct oficio FROM EMPLEADOS;'''\n",
        "\n",
        "\n",
        "# Ejecutar la consulta\n",
        "cursor.execute(query)\n",
        "\n",
        "# Obtener los nombres de las columnas\n",
        "cols = [description[0] for description in cursor.description]\n",
        "\n",
        "# Convertir el resultado a un DataFrame de pandas\n",
        "data = pd.DataFrame(cursor.fetchall(), columns=cols)\n",
        "\n",
        "# Mostrar los primeros registros\n",
        "print(data)\n",
        "\n",
        "# Cerrar la conexión\n",
        "conexion.close()"
      ],
      "metadata": {
        "colab": {
          "base_uri": "https://localhost:8080/"
        },
        "id": "RXc56hLFglyP",
        "outputId": "f47f7840-ecb0-4f28-c2a0-d69e170e7363"
      },
      "execution_count": 26,
      "outputs": [
        {
          "output_type": "stream",
          "name": "stdout",
          "text": [
            "       OFICIO\n",
            "0    VENDEDOR\n",
            "1    EMPLEADO\n",
            "2    DIRECTOR\n",
            "3  PRESIDENTE\n",
            "4    ANALISTA\n"
          ]
        }
      ]
    },
    {
      "cell_type": "markdown",
      "source": [
        "# **SELECCION DE CONDICIONES**"
      ],
      "metadata": {
        "id": "gqlAt_2OgyVn"
      }
    },
    {
      "cell_type": "markdown",
      "source": [
        "OPERADORES LOGICOS"
      ],
      "metadata": {
        "id": "sy592TcBg5e_"
      }
    },
    {
      "cell_type": "code",
      "source": [
        "import sqlite3\n",
        "import pandas as pd\n",
        "\n",
        "# Conexión a la base de datos SQLite\n",
        "conexion = sqlite3.connect('parte1.db')\n",
        "\n",
        "# Crear un cursor para ejecutar la consulta\n",
        "cursor = conexion.cursor()\n",
        "\n",
        "# Consulta SQL corregida\n",
        "query ='''SELECT APELLIDO, SALARIO, COMISION FROM EMPLEADOS WHERE UPPER(OFICIO)='VENDEDOR';'''\n",
        "#-- Esta consulta selecciona los apellidos, salarios y comisiones de los empleados\n",
        "#-- cuya columna 'OFICIO' tenga el valor 'VENDEDOR', sin importar si está en mayúsculas o minúsculas.\n",
        "\n",
        "# Ejecutar la consulta\n",
        "cursor.execute(query)\n",
        "\n",
        "# Obtener los nombres de las columnas\n",
        "cols = [description[0] for description in cursor.description]\n",
        "\n",
        "# Convertir el resultado a un DataFrame de pandas\n",
        "data = pd.DataFrame(cursor.fetchall(), columns=cols)\n",
        "\n",
        "# Mostrar los primeros registros\n",
        "print(data)\n",
        "\n",
        "# Cerrar la conexión\n",
        "conexion.close()"
      ],
      "metadata": {
        "colab": {
          "base_uri": "https://localhost:8080/"
        },
        "id": "qVTM3tuRg-qx",
        "outputId": "908a88fa-426d-4a92-b88a-82e2cdaa087c"
      },
      "execution_count": 27,
      "outputs": [
        {
          "output_type": "stream",
          "name": "stdout",
          "text": [
            "  APELLIDO  SALARIO  COMISION\n",
            "0   ALONSO    14000    4000.0\n",
            "1   MARTIN    15000   16000.0\n",
            "2    CALVO    18000       0.0\n"
          ]
        }
      ]
    },
    {
      "cell_type": "markdown",
      "source": [
        "APELLIDOS Q EMPIEZA POR M"
      ],
      "metadata": {
        "id": "0sThnWfThjuk"
      }
    },
    {
      "cell_type": "code",
      "source": [
        "import sqlite3\n",
        "import pandas as pd\n",
        "\n",
        "# Conexión a la base de datos SQLite\n",
        "conexion = sqlite3.connect('parte1.db')\n",
        "\n",
        "# Crear un cursor para ejecutar la consulta\n",
        "cursor = conexion.cursor()\n",
        "\n",
        "query = '''SELECT EMP_NO, APELLIDO, DEP_NO\n",
        "           FROM EMPLEADOS\n",
        "           WHERE APELLIDO LIKE 'M%'\n",
        "           AND SALARIO BETWEEN 1000 AND 20000;'''\n",
        "\n",
        "\n",
        "# Ejecutar la consulta\n",
        "cursor.execute(query)\n",
        "\n",
        "# Obtener los nombres de las columnas\n",
        "cols = [description[0] for description in cursor.description]\n",
        "\n",
        "# Convertir el resultado a un DataFrame de pandas\n",
        "data = pd.DataFrame(cursor.fetchall(), columns=cols)\n",
        "\n",
        "# Mostrar los primeros registros\n",
        "print(data)\n",
        "\n",
        "# Cerrar la conexión\n",
        "conexion.close()"
      ],
      "metadata": {
        "colab": {
          "base_uri": "https://localhost:8080/"
        },
        "id": "JGznIp06hmID",
        "outputId": "bba49620-2a2c-4ecf-cc29-68a1ea143e69"
      },
      "execution_count": 32,
      "outputs": [
        {
          "output_type": "stream",
          "name": "stdout",
          "text": [
            "   EMP_NO APELLIDO  DEP_NO\n",
            "0    7654   MARTIN      30\n"
          ]
        }
      ]
    },
    {
      "cell_type": "markdown",
      "source": [
        "Cambio el nombre a Departamento, saco el salrio medio, de la tabla empleado y lo ordeno por dep_no"
      ],
      "metadata": {
        "id": "MSXIwgCGl18U"
      }
    },
    {
      "cell_type": "code",
      "source": [
        "import sqlite3\n",
        "import pandas as pd\n",
        "\n",
        "# Conexión a la base de datos SQLite\n",
        "conexion = sqlite3.connect('parte1.db')\n",
        "\n",
        "# Crear un cursor para ejecutar la consulta\n",
        "cursor = conexion.cursor()\n",
        "\n",
        "query = '''SELECT  DEP_NO as Departamento, Round(avg(salario),2) as salarioMedio\n",
        "           FROM EMPLEADOS\n",
        "           Group by dep_no;'''\n",
        "\n",
        "\n",
        "# Ejecutar la consulta\n",
        "cursor.execute(query)\n",
        "\n",
        "# Obtener los nombres de las columnas\n",
        "cols = [description[0] for description in cursor.description]\n",
        "\n",
        "# Convertir el resultado a un DataFrame de pandas\n",
        "data = pd.DataFrame(cursor.fetchall(), columns=cols)\n",
        "\n",
        "# Mostrar los primeros registros\n",
        "print(data)\n",
        "\n",
        "# Cerrar la conexión\n",
        "conexion.close()"
      ],
      "metadata": {
        "colab": {
          "base_uri": "https://localhost:8080/"
        },
        "id": "4jVA9yQ4l7UM",
        "outputId": "94f6c2cf-7483-4216-bbc0-3d4e9f1664c4"
      },
      "execution_count": 33,
      "outputs": [
        {
          "output_type": "stream",
          "name": "stdout",
          "text": [
            "   Departamento  salarioMedio\n",
            "0            10      32666.67\n",
            "1            20      23750.00\n",
            "2            30      21375.00\n"
          ]
        }
      ]
    }
  ]
}