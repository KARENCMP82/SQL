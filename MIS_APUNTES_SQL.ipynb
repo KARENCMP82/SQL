{
  "nbformat": 4,
  "nbformat_minor": 0,
  "metadata": {
    "colab": {
      "provenance": [],
      "authorship_tag": "ABX9TyMwFkYwJyaC1nv+/KeVoVMy",
      "include_colab_link": true
    },
    "kernelspec": {
      "name": "python3",
      "display_name": "Python 3"
    },
    "language_info": {
      "name": "python"
    }
  },
  "cells": [
    {
      "cell_type": "markdown",
      "metadata": {
        "id": "view-in-github",
        "colab_type": "text"
      },
      "source": [
        "<a href=\"https://colab.research.google.com/github/KARENCMP82/SQL/blob/main/MIS_APUNTES_SQL.ipynb\" target=\"_parent\"><img src=\"https://colab.research.google.com/assets/colab-badge.svg\" alt=\"Open In Colab\"/></a>"
      ]
    },
    {
      "cell_type": "markdown",
      "source": [
        "## MIS APUNTES DE SQL\n",
        "\n",
        "\n",
        "\n"
      ],
      "metadata": {
        "id": "X5pT4fLaaqKe"
      }
    },
    {
      "cell_type": "markdown",
      "source": [
        "FUNCIONES\n",
        "\n",
        "\n",
        "\n",
        "1. **`SUBSTR(string, start, length)`**  \n",
        "   - **Descripción**: Devuelve una subcadena de `string` comenzando en `start` y con una longitud de `length`.\n",
        "   - **Ejemplo**: `SUBSTR('abcdef', 2, 3)` → `'bcd'`\n",
        "\n",
        "2. **`TRIM(string)`**  \n",
        "   - **Descripción**: Elimina los espacios en blanco al principio y al final de `string`.\n",
        "   - **Ejemplo**: `TRIM('  hola  ')` → `'hola'`\n",
        "\n",
        "3. **`LTRIM(string)`**  \n",
        "   - **Descripción**: Elimina los espacios en blanco solo al principio de `string`.\n",
        "   - **Ejemplo**: `LTRIM('  hola  ')` → `'hola  '`\n",
        "\n",
        "4. **`RTRIM(string)`**  \n",
        "   - **Descripción**: Elimina los espacios en blanco solo al final de `string`.\n",
        "   - **Ejemplo**: `RTRIM('  hola  ')` → `'  hola'`\n",
        "\n",
        "5. **`LENGTH(string)`**  \n",
        "   - **Descripción**: Devuelve la longitud de `string` (número de caracteres).\n",
        "   - **Ejemplo**: `LENGTH('hola')` → `4`\n",
        "\n",
        "6. **`REPLACE(string, old, new)`**  \n",
        "   - **Descripción**: Reemplaza todas las ocurrencias de `old` por `new` en `string`.\n",
        "   - **Ejemplo**: `REPLACE('hola mundo', 'mundo', 'amigo')` → `'hola amigo'`\n",
        "\n",
        "7. **`UPPER(string)`**  \n",
        "   - **Descripción**: Convierte todos los caracteres de `string` a mayúsculas.\n",
        "   - **Ejemplo**: `UPPER('hola')` → `'HOLA'`\n",
        "\n",
        "8. **`LOWER(string)`**  \n",
        "   - **Descripción**: Convierte todos los caracteres de `string` a minúsculas.\n",
        "   - **Ejemplo**: `LOWER('HOLA')` → `'hola'`\n",
        "\n",
        "9. **`INSTR(string, substring)`**  \n",
        "   - **Descripción**: Devuelve la posición de la primera ocurrencia de `substring` en `string`. Retorna `0` si no se encuentra.\n",
        "   - **Ejemplo**: `INSTR('hola mundo', 'mundo')` → `6` (posición de inicio)\n",
        "\n"
      ],
      "metadata": {
        "id": "C4u-5Tb9azz5"
      }
    }
  ]
}