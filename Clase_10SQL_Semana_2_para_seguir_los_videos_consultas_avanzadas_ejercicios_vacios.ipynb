{
  "nbformat": 4,
  "nbformat_minor": 0,
  "metadata": {
    "colab": {
      "provenance": [],
      "include_colab_link": true
    },
    "kernelspec": {
      "name": "python3",
      "display_name": "Python 3"
    },
    "language_info": {
      "name": "python"
    }
  },
  "cells": [
    {
      "cell_type": "markdown",
      "metadata": {
        "id": "view-in-github",
        "colab_type": "text"
      },
      "source": [
        "<a href=\"https://colab.research.google.com/github/KARENCMP82/SQL/blob/main/Clase_10SQL_Semana_2_para_seguir_los_videos_consultas_avanzadas_ejercicios_vacios.ipynb\" target=\"_parent\"><img src=\"https://colab.research.google.com/assets/colab-badge.svg\" alt=\"Open In Colab\"/></a>"
      ]
    },
    {
      "cell_type": "code",
      "source": [
        "from google.colab import drive\n",
        "drive.mount('/content/drive', force_remount=True)"
      ],
      "metadata": {
        "id": "uOvCPv-41HbR"
      },
      "execution_count": null,
      "outputs": []
    },
    {
      "cell_type": "code",
      "source": [
        "import sqlite3\n",
        "import pandas as pd"
      ],
      "metadata": {
        "id": "l8Fyg4vODxaj"
      },
      "execution_count": null,
      "outputs": []
    },
    {
      "cell_type": "code",
      "source": [
        "database = '/content/drive/MyDrive/xxxxxxxxxxxxxxxx vuestrar ruta xxxxxxxxxxxxxxxxxxxxxxxx/consultas_avanzadas_ejercicios.db'\n",
        "conexion = sqlite3.connect(database)\n",
        "cursor = conexion.cursor()"
      ],
      "metadata": {
        "id": "ZevNvyoHDzM_"
      },
      "execution_count": null,
      "outputs": []
    },
    {
      "cell_type": "markdown",
      "source": [
        "## Tablas del modelo\n"
      ],
      "metadata": {
        "id": "XwGA228htcjE"
      }
    },
    {
      "cell_type": "code",
      "source": [
        "#  Vamos a repasar nuevamente las tablas de nuestra Base de Datos\n",
        "query = '''\n",
        "\n",
        "SELECT\n",
        "    name\n",
        "FROM\n",
        "    sqlite_master\n",
        "WHERE\n",
        "    type ='table' AND\n",
        "    name NOT LIKE 'sqlite_%';\n",
        " '''\n",
        "\n",
        "cursor.execute(query)\n",
        "conexion.commit()\n",
        "cols = [description[0] for description in cursor.description]\n",
        "pd.DataFrame(cursor.fetchall(), columns=cols)"
      ],
      "metadata": {
        "id": "STdjAQnPj_oV"
      },
      "execution_count": null,
      "outputs": []
    },
    {
      "cell_type": "markdown",
      "source": [
        "### Tabla canales\n"
      ],
      "metadata": {
        "id": "Zj-o6sJbtJEE"
      }
    },
    {
      "cell_type": "code",
      "metadata": {
        "id": "Few1iB8GDCHz"
      },
      "source": [
        "query = '''\n",
        "SELECT\n",
        "  *\n",
        "FROM\n",
        "  canales\n",
        "LIMIT 5\n",
        " '''\n",
        "\n",
        "cursor.execute(query)\n",
        "conexion.commit()\n",
        "cols = [description[0] for description in cursor.description]\n",
        "pd.DataFrame(cursor.fetchall(), columns=cols)"
      ],
      "execution_count": null,
      "outputs": []
    },
    {
      "cell_type": "markdown",
      "source": [
        "### Tabla clientes"
      ],
      "metadata": {
        "id": "GaD5WUW7tou_"
      }
    },
    {
      "cell_type": "code",
      "metadata": {
        "id": "3MQIWzQQH_PT"
      },
      "source": [
        "query = '''\n",
        "SELECT\n",
        "  *\n",
        "FROM\n",
        "  clientes\n",
        "LIMIT 5\n",
        " '''\n",
        "\n",
        "cursor.execute(query)\n",
        "conexion.commit()\n",
        "cols = [description[0] for description in cursor.description]\n",
        "pd.DataFrame(cursor.fetchall(), columns=cols)"
      ],
      "execution_count": null,
      "outputs": []
    },
    {
      "cell_type": "markdown",
      "source": [
        "### Tabla productos"
      ],
      "metadata": {
        "id": "FGCZz4W1trez"
      }
    },
    {
      "cell_type": "code",
      "metadata": {
        "id": "LB6KlEW7H_Mf"
      },
      "source": [
        "query = '''\n",
        "SELECT\n",
        "  *\n",
        "FROM\n",
        "  productos\n",
        "LIMIT 5\n",
        " '''\n",
        "\n",
        "cursor.execute(query)\n",
        "conexion.commit()\n",
        "cols = [description[0] for description in cursor.description]\n",
        "pd.DataFrame(cursor.fetchall(), columns=cols)"
      ],
      "execution_count": null,
      "outputs": []
    },
    {
      "cell_type": "markdown",
      "source": [
        "### Tabla sucursales"
      ],
      "metadata": {
        "id": "U5TwdSdhtuw4"
      }
    },
    {
      "cell_type": "code",
      "metadata": {
        "id": "IfaeEMpSH_J9"
      },
      "source": [
        "query = '''\n",
        "SELECT\n",
        "  *\n",
        "FROM\n",
        "  sucursales\n",
        "LIMIT 5\n",
        " '''\n",
        "\n",
        "cursor.execute(query)\n",
        "conexion.commit()\n",
        "cols = [description[0] for description in cursor.description]\n",
        "pd.DataFrame(cursor.fetchall(), columns=cols)"
      ],
      "execution_count": null,
      "outputs": []
    },
    {
      "cell_type": "markdown",
      "source": [
        "### Tabla vendedores"
      ],
      "metadata": {
        "id": "PEVaYX7stxky"
      }
    },
    {
      "cell_type": "code",
      "metadata": {
        "id": "E29lVHg9H_HI"
      },
      "source": [
        "query = '''\n",
        "SELECT\n",
        "  *\n",
        "FROM\n",
        "  vendedores\n",
        "LIMIT 5\n",
        " '''\n",
        "\n",
        "cursor.execute(query)\n",
        "conexion.commit()\n",
        "cols = [description[0] for description in cursor.description]\n",
        "pd.DataFrame(cursor.fetchall(), columns=cols)"
      ],
      "execution_count": null,
      "outputs": []
    },
    {
      "cell_type": "markdown",
      "source": [
        "### Tabla ventas"
      ],
      "metadata": {
        "id": "R4p8euSgtzfk"
      }
    },
    {
      "cell_type": "code",
      "metadata": {
        "id": "ZcQHQBw6QlXM"
      },
      "source": [
        "query = '''\n",
        "\n",
        "SELECT\n",
        "  *\n",
        "FROM\n",
        "  ventas\n",
        "\n",
        "\n",
        ";\n",
        "\n",
        " '''\n",
        "\n",
        "cursor.execute(query)\n",
        "conexion.commit()\n",
        "cols = [description[0] for description in cursor.description]\n",
        "pd.DataFrame(cursor.fetchall(), columns=cols)"
      ],
      "execution_count": null,
      "outputs": []
    },
    {
      "cell_type": "markdown",
      "source": [
        "\n",
        "![image.png](data:image/png;base64,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)"
      ],
      "metadata": {
        "id": "1umn1RZ8yerb"
      }
    },
    {
      "cell_type": "code",
      "source": [
        "# 1. Desde la tabla ventas, crear una nueva tabla que se llame tickets con una columna de id de ticket (creada con el numero de comanda), una columna de fecha de ticket (fecha de transaccion),\n",
        "#  el id del canal , el id del cliente, id del vendedor y la suma del total de los importes y los margenes de los items de esa comanda.\n",
        "\n",
        "query = '''\n",
        "\n",
        "\n",
        " '''\n",
        "\n",
        "cursor.execute(query)\n",
        "conexion.commit()\n"
      ],
      "metadata": {
        "id": "PMz2Wzz5GQcA"
      },
      "execution_count": null,
      "outputs": []
    },
    {
      "cell_type": "code",
      "source": [
        "query = '''\n",
        "\n",
        "\n",
        "\n",
        " '''\n",
        "\n",
        "cursor.execute(query)\n",
        "conexion.commit()\n",
        "cols = [description[0] for description in cursor.description]\n",
        "pd.DataFrame(cursor.fetchall(), columns=cols)"
      ],
      "metadata": {
        "id": "GqT8ov4DERw5"
      },
      "execution_count": null,
      "outputs": []
    },
    {
      "cell_type": "code",
      "source": [
        "# 2. Hacer una consulta que devuelva la cantidad de tickets que tiene cada cliente (nombre y apellido en una sola columna), el total de importe de sus compras\n",
        "# pero unicamente de ventas de septiembre.\n",
        "\n",
        "query = '''\n",
        "\n",
        "\n",
        " '''\n",
        "\n",
        "cursor.execute(query)\n",
        "conexion.commit()\n",
        "cols = [description[0] for description in cursor.description]\n",
        "pd.DataFrame(cursor.fetchall(), columns=cols)"
      ],
      "metadata": {
        "id": "-Fsmtr2ZC3Bh"
      },
      "execution_count": null,
      "outputs": []
    },
    {
      "cell_type": "code",
      "source": [
        "# 3. Hacer una consulta que devuelva las ventas totales (tickets totales), el importe total y el margen total. Por sucursal, vendedor (solo el apellido) y mes (año+mes)\n",
        "\n",
        "query = '''\n",
        "\n",
        "\n",
        "\n",
        " '''\n",
        "\n",
        "cursor.execute(query)\n",
        "conexion.commit()\n",
        "cols = [description[0] for description in cursor.description]\n",
        "pd.DataFrame(cursor.fetchall(), columns=cols)\n"
      ],
      "metadata": {
        "id": "ONB5pjVrEwbf"
      },
      "execution_count": null,
      "outputs": []
    },
    {
      "cell_type": "code",
      "source": [
        "# 4. Hacer una consulta que devuelva la cantidad de ventas, importe total y margen total. Por por mes y por producto.\n",
        "\n",
        "query = '''\n",
        "\n",
        "\n",
        " '''\n",
        "\n",
        "cursor.execute(query)\n",
        "conexion.commit()\n",
        "cols = [description[0] for description in cursor.description]\n",
        "pd.DataFrame(cursor.fetchall(), columns=cols)"
      ],
      "metadata": {
        "id": "H_Q94k9vIiqj"
      },
      "execution_count": null,
      "outputs": []
    },
    {
      "cell_type": "code",
      "source": [
        "# 5. Desde la tabla de ventas, crear una vista que se llame ventas_agosto_V con todas las columnas de la tabla pero solo las filas que sean ventas de agosto.\n",
        "\n",
        "query = '''\n",
        "\n",
        "\n",
        "\n",
        " '''\n",
        "\n",
        "cursor.execute(query)\n",
        "conexion.commit()\n"
      ],
      "metadata": {
        "id": "rWAF_SKpK4Qj"
      },
      "execution_count": null,
      "outputs": []
    },
    {
      "cell_type": "code",
      "source": [
        "#  6. Usando la vista recién creada, hacer una consulta que devuelva la cantidad total de ventas de agosto de la categoría préstamo, y su importe medio.\n",
        "\n",
        "query = '''\n",
        "\n",
        "\n",
        "\n",
        " '''\n",
        "\n",
        "cursor.execute(query)\n",
        "conexion.commit()\n",
        "cols = [description[0] for description in cursor.description]\n",
        "pd.DataFrame(cursor.fetchall(), columns=cols)"
      ],
      "metadata": {
        "id": "7STYoPTRLSiC"
      },
      "execution_count": null,
      "outputs": []
    },
    {
      "cell_type": "code",
      "source": [
        "# 7. Hacer una consulta que devuelva las ventas totales, importe total y margen total por vendedor(nombre y apellido en una columna).\n",
        "query = '''\n",
        "\n",
        " '''\n",
        "\n",
        "cursor.execute(query)\n",
        "conexion.commit()\n",
        "cols = [description[0] for description in cursor.description]\n",
        "pd.DataFrame(cursor.fetchall(), columns=cols)"
      ],
      "metadata": {
        "id": "UfnxAY9uO4yO"
      },
      "execution_count": null,
      "outputs": []
    },
    {
      "cell_type": "code",
      "source": [
        "# 8. Nos indican que durante el mes de agosto el margen de todos los productos de préstamo se computará con un 50% mas de margen.\n",
        "# Hacer una consulta que devuelva las ventas totales, importe total y margen total (margen aumentado cuando corresponda) por vendedor(nombre y apellido en una columna).\n",
        "\n",
        "query = '''\n",
        "\n",
        " '''\n",
        "\n",
        "cursor.execute(query)\n",
        "conexion.commit()\n",
        "cols = [description[0] for description in cursor.description]\n",
        "pd.DataFrame(cursor.fetchall(), columns=cols)\n"
      ],
      "metadata": {
        "id": "cdXuhF_1NWlP"
      },
      "execution_count": null,
      "outputs": []
    },
    {
      "cell_type": "code",
      "source": [
        "query = '''\n",
        "\n",
        "\n",
        "\n",
        " '''\n",
        "\n",
        "cursor.execute(query)\n",
        "conexion.commit()\n",
        "cols = [description[0] for description in cursor.description]\n",
        "pd.DataFrame(cursor.fetchall(), columns=cols)"
      ],
      "metadata": {
        "id": "tzMs0FXef4s4"
      },
      "execution_count": null,
      "outputs": []
    },
    {
      "cell_type": "code",
      "source": [
        "\n",
        "query = '''\n",
        "\n",
        "\n",
        " '''\n",
        "\n",
        "cursor.execute(query)\n",
        "conexion.commit()\n",
        "cols = [description[0] for description in cursor.description]\n",
        "pd.DataFrame(cursor.fetchall(), columns=cols)"
      ],
      "metadata": {
        "id": "_pdS3JcifgUf"
      },
      "execution_count": null,
      "outputs": []
    }
  ]
}